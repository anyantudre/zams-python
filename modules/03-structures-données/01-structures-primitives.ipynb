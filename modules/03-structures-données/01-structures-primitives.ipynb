{
 "cells": [
  {
   "cell_type": "markdown",
   "id": "52eda1fd",
   "metadata": {},
   "source": [
    "<a id=\"toc\"></a>\n",
    "<div style=\"background-color:rgb(27, 40, 54); padding: 20px; border-radius: 10px; margin-bottom: 30px;\">\n",
    "    <h1 style=\"color: white; font-family: 'Segoe UI', Arial, sans-serif; font-size: 2.8em; text-align: center; margin: 0;\">\n",
    "        Structures de Données en Python\n",
    "    </h1>\n",
    "    <p style=\"color:rgb(242, 255, 0); font-family: 'Segoe UI', Arial, sans-serif; font-size: 1.2em; text-align: center; margin-top: 10px; font-style: italic;\">\n",
    "        Introduction aux structures de données: types de données primitifs et non-primitifs, chaînes, listes, piles, etc.\n",
    "    </p>\n",
    "</div>\n",
    "\n",
    "<figure style=\"padding: 1em; text-align: center;\">\n",
    "    <img src=\"https://miro.medium.com/v2/resize:fit:1100/format:webp/1*2JFd94q0vzsEcr-LB-220g.png\" width=\"900\" height=\"500\" alt=\"Logo Python\">\n",
    "    <figcaption style=\"font-size: 0.9em; color: #3498db; margin-top: 0.5em;\">\n",
    "        <i>Structures de données en Python</i>\n",
    "    </figcaption>\n",
    "</figure>\n",
    "\n",
    "Les structures de données sont un moyen d'organiser et de stocker des données afin qu'elles puissent être accessibles et utilisées efficacement. \n",
    "\n",
    "Elles définissent les relations entre les données et les opérations qui peuvent être effectuées sur ces données. \n",
    "\n",
    "\n",
    "Il existe de nombreux types de structures de données différentes qui permettent aux Data Scientists et aux Ingénieurs informatiques de se concentrer sur l'image globale de la résolution de problèmes plus importants plutôt que de se perdre dans les détails de description et d'accès aux données.\n",
    "\n",
    "<div style=\"background-color:rgb(27, 40, 54); padding: 15px; border-radius: 5px; margin-bottom: 30px;\">\n",
    "    <h2 style=\"color:rgb(255, 255, 255); font-family: 'Segoe UI', Arial, sans-serif; font-size: 1.5em; border-bottom: 2px solid #3498DB; padding-bottom: 5px;\">\n",
    "        Table des matières 📑\n",
    "    </h2>\n",
    "    <ul style=\"font-family: 'Segoe UI', Arial, sans-serif; font-size: 1.1em;\">\n",
    "        <li><a href=\"#section1\" style=\"color: #3498DB; text-decoration: none;\">I. Types de données abstraits et structures de données</a></li>\n",
    "        <li><a href=\"#section2\" style=\"color: #3498DB; text-decoration: none;\">II. Structures de données primitives</a></li>\n",
    "        <li><a href=\"#section3\" style=\"color: #3498DB; text-decoration: none;\">III. Conversion de types de données</a></li>\n",
    "        <li><a href=\"#section4\" style=\"color: #3498DB; text-decoration: none;\">IV. Structures de données non-primitives</a></li>\n",
    "        <li><a href=\"#section5\" style=\"color: #3498DB; text-decoration: none;\">V. Tableaux et listes</a></li>\n",
    "        <li><a href=\"#section6\" style=\"color: #3498DB; text-decoration: none;\">VI. Structures de données avancées</a></li>\n",
    "    </ul>\n",
    "</div>"
   ]
  },
  {
   "cell_type": "markdown",
   "id": "5f9f1746",
   "metadata": {},
   "source": [
    "**Types de données abstraits et structures de données**\n",
    "- **Structures de données primitives**\n",
    "  - Entiers (Integers)\n",
    "  - Nombres à virgule flottante (Float)\n",
    "  - Chaînes de caractères (Strings)\n",
    "  - Booléens (Boolean)\n",
    "- **Structures de données non-primitives**\n",
    "  - Tableaux (Arrays)\n",
    "  - Listes (Lists)\n",
    "  - Tuples\n",
    "  - Dictionnaires (Dictionary)\n",
    "  - Ensembles (Sets)\n",
    "  - Fichiers (Files)"
   ]
  },
  {
   "cell_type": "markdown",
   "id": "efe0b4fd",
   "metadata": {},
   "source": [
    "<div id=\"section1\"></div>\n",
    "<h2 style=\"color: #3498DB; font-family: 'Segoe UI', Arial, sans-serif; font-size: 1.8em; border-bottom: 2px solid #3498DB; padding-bottom: 5px; margin-top: 40px;\">\n",
    "    I. Types de données abstraits et de structures de données\n",
    "</h2>\n",
    "\n",
    "\n",
    "Les structures de données sont comme des boîtes spéciales qu'on utilise pour bien organiser les informations dans un programme. Elles permettent de mieux réfléchir à la manière dont on gère les données, sans trop se soucier des détails techniques au début. C’est ce qu’on appelle **l’abstraction de données**.\n",
    "\n",
    "Les structures de données sont basées sur ce qu’on appelle les **Types de Données Abstraits (TDA)**. Un TDA décrit comment les données doivent se comporter, et la structure de données est la façon concrète dont on le crée dans un langage de programmation.\n",
    "\n",
    "\n",
    "<figure style=\"padding: 1em; text-align: center;\">\n",
    "    <img src=\"https://media.geeksforgeeks.org/wp-content/uploads/20190828194629/ADT.jpg\" width=\"600\" height=\"300\" alt=\"Logo Python\">\n",
    "    <figcaption style=\"font-size: 0.9em; color: #3498db; margin-top: 0.5em;\">\n",
    "        <i>Types de Données Abstraits (TDA)</i>\n",
    "    </figcaption>\n",
    "</figure>\n",
    "\n",
    "\n",
    "En informatique, on classe souvent les structures de données en deux grands groupes :\n",
    "- les structures de données **primitives** et \n",
    "- les structures de données **non-primitives**. \n",
    "\n",
    "Les premières sont les formes les plus simples de représentation des données, tandis que les secondes sont plus avancées: elles contiennent des structures de données primitives dans des structures de données plus complexes à des fins spéciales."
   ]
  },
  {
   "cell_type": "markdown",
   "id": "78a9aec7",
   "metadata": {},
   "source": [
    "<h2 style=\"color: #3498DB; font-family: 'Segoe UI', Arial, sans-serif; font-size: 1.8em; border-bottom: 2px solid #3498DB; padding-bottom: 5px; margin-top: 40px;\">\n",
    "    II. Structures de données primitives\n",
    "</h2>\n",
    "\n",
    "\n",
    "<figure style=\"padding: 1em; text-align: center;\">\n",
    "    <img src=\"https://scaler.com/topics/images/difference-between-primitive-and-non-primitive-data-structures-2.webp\" width=\"800\" height=\"400\" alt=\"Logo Python\">\n",
    "    <figcaption style=\"font-size: 0.9em; color: #3498db; margin-top: 0.5em;\">\n",
    "        <i>Structures de données primitives en Python</i>\n",
    "    </figcaption>\n",
    "</figure>\n",
    "\n",
    "\n",
    "Ce sont les structures de données les plus primitives ou de base. Elles sont les blocs de construction pour la manipulation des données et contiennent des valeurs pures et simples de données. \n",
    "\n",
    "Python dispose de quatre types de variables primitives qu'on adéjà vu ensemble lors des chapitres précédents :)\n",
    "\n",
    "- **Entiers (Integers)**\n",
    "- **Nombres à virgule flottante (Float)**\n",
    "- **Chaînes de caractères (Strings)**\n",
    "- **Booléens (Boolean)**\n",
    "\n",
    "<div id=\"section2a\"></div>\n",
    "<h3 style=\"color: #E67E22; font-family: 'Segoe UI', Arial, sans-serif; font-size: 1.4em; margin-top: 30px;\">\n",
    "    Entiers (Integers)\n",
    "</h3>\n",
    "\n",
    "Vous pouvez utiliser un entier pour représenter des données numériques et, plus spécifiquement, des nombres entiers de l'infini négatif à l'infini positif, comme 4, 5, ou -1."
   ]
  },
  {
   "cell_type": "code",
   "execution_count": 21,
   "id": "97b85540",
   "metadata": {},
   "outputs": [
    {
     "name": "stdout",
     "output_type": "stream",
     "text": [
      "5\n",
      "-50\n"
     ]
    }
   ],
   "source": [
    "#exemples d'entiers\n",
    "a = 10\n",
    "b = -5\n",
    "print(a + b)\n",
    "print(a * b)"
   ]
  },
  {
   "cell_type": "markdown",
   "id": "4be16560",
   "metadata": {},
   "source": [
    "<div id=\"section2b\"></div>\n",
    "<h3 style=\"color: #E67E22; font-family: 'Segoe UI', Arial, sans-serif; font-size: 1.4em; margin-top: 30px;\">\n",
    "    Nombres à virgule flottante (Float)\n",
    "</h3>\n",
    "\n",
    "\"Float\" signifie 'nombre à virgule flottante'. Vous pouvez l'utiliser pour les nombres rationnels, se terminant généralement par un chiffre décimal, comme 1.11 ou 3.14.\n",
    "\n",
    "Voici quelques exemples d'opérations avec les entiers et les nombres à virgule flottante :"
   ]
  },
  {
   "cell_type": "code",
   "execution_count": 22,
   "id": "3795af38",
   "metadata": {},
   "outputs": [
    {
     "name": "stdout",
     "output_type": "stream",
     "text": [
      "1.256\n",
      "9.8596\n"
     ]
    }
   ],
   "source": [
    "#nombres à virgule flottante\n",
    "x = 3.14\n",
    "y = 2.5\n",
    "print(x / y)  # Division\n",
    "print(x ** 2)  # Puissance"
   ]
  },
  {
   "cell_type": "markdown",
   "id": "a3b18921",
   "metadata": {},
   "source": [
    "**Note :** En Python, vous n'avez pas besoin de déclarer explicitement le type de la variable ou de vos données. C'est parce que Python est un langage à **typage dynamique**. \n",
    "\n",
    "Les langages à typage dynamique sont des langages où le type de données qu'un objet peut stocker est mutable."
   ]
  },
  {
   "cell_type": "markdown",
   "id": "b1022d42",
   "metadata": {},
   "source": [
    "<div id=\"section2c\"></div>\n",
    "<h3 style=\"color: #E67E22; font-family: 'Segoe UI', Arial, sans-serif; font-size: 1.4em; margin-top: 30px;\">\n",
    "    Chaînes de caractères (Strings)\n",
    "</h3>\n",
    "\n",
    "Les chaînes de caractères sont des collections d'alphabets, de mots ou d'autres caractères. En Python, vous pouvez créer des chaînes en entourant une séquence de caractères avec une paire de guillemets simples ou doubles. \n",
    "\n",
    "Par exemple : `'cake'`, `\"cookie\"`, etc.\n",
    "\n",
    "Vous pouvez également appliquer l'opération `+` sur deux chaînes ou plus pour les concaténer :"
   ]
  },
  {
   "cell_type": "code",
   "execution_count": 23,
   "id": "e3c0bd1f",
   "metadata": {},
   "outputs": [
    {
     "name": "stdout",
     "output_type": "stream",
     "text": [
      "Gâteau & Cookie\n"
     ]
    }
   ],
   "source": [
    "x = 'Gâteau'\n",
    "y = 'Cookie'\n",
    "resultat = x + ' & ' + y\n",
    "print(resultat)  # 'Gâteau & Cookie'"
   ]
  },
  {
   "cell_type": "markdown",
   "id": "0a66470e",
   "metadata": {},
   "source": [
    "Voici quelques autres opérations de base que vous pouvez effectuer avec les chaînes :\n",
    "\n",
    "**Répétition :**"
   ]
  },
  {
   "cell_type": "code",
   "execution_count": 94,
   "id": "5b9a4acc",
   "metadata": {},
   "outputs": [
    {
     "name": "stdout",
     "output_type": "stream",
     "text": [
      "Gâteau Gâteau \n"
     ]
    }
   ],
   "source": [
    "x = 'Gâteau '\n",
    "print(x * 2)"
   ]
  },
  {
   "cell_type": "markdown",
   "id": "b7b91f31",
   "metadata": {},
   "source": [
    "**Découpage (slicing) :**"
   ]
  },
  {
   "cell_type": "code",
   "execution_count": null,
   "id": "b8d39762",
   "metadata": {},
   "outputs": [
    {
     "data": {
      "text/plain": [
       "'teau'"
      ]
     },
     "execution_count": 100,
     "metadata": {},
     "output_type": "execute_result"
    }
   ],
   "source": [
    "x = 'Gâteau'\n",
    "\n",
    "z1 = x[2:]  # Découpage à partir de l'index 2\n",
    "z1"
   ]
  },
  {
   "cell_type": "code",
   "execution_count": null,
   "id": "617b4d6b",
   "metadata": {},
   "outputs": [
    {
     "name": "stdout",
     "output_type": "stream",
     "text": [
      "Co\n"
     ]
    }
   ],
   "source": [
    "y = 'Cookie'\n",
    "z2 = y[0] + y[1]  # Sélection des caractères aux index 0 et 1\n",
    "print(z2) "
   ]
  },
  {
   "cell_type": "markdown",
   "id": "9addf15c",
   "metadata": {},
   "source": [
    "**Note :** Les chaînes peuvent également être des caractères alphanumériques, mais l'opération `+` est toujours utilisée pour concaténer les chaînes."
   ]
  },
  {
   "cell_type": "code",
   "execution_count": null,
   "id": "fafa72f5",
   "metadata": {},
   "outputs": [
    {
     "name": "stdout",
     "output_type": "stream",
     "text": [
      "42\n"
     ]
    }
   ],
   "source": [
    "x = '4'\n",
    "y = '2'\n",
    "print(x + y)"
   ]
  },
  {
   "cell_type": "markdown",
   "id": "89de900a",
   "metadata": {},
   "source": [
    "**Méthodes intégrées pour les chaînes :**\n",
    "\n",
    "Python dispose de nombreuses méthodes intégrées pour manipuler les chaînes :"
   ]
  },
  {
   "cell_type": "markdown",
   "id": "56bf5d8b",
   "metadata": {},
   "source": [
    "- **Mettre en majuscule:**"
   ]
  },
  {
   "cell_type": "code",
   "execution_count": 102,
   "id": "7cacd220",
   "metadata": {},
   "outputs": [
    {
     "name": "stdout",
     "output_type": "stream",
     "text": [
      "Cookie\n"
     ]
    }
   ],
   "source": [
    "print(str.capitalize('cookie'))"
   ]
  },
  {
   "cell_type": "markdown",
   "id": "d28b0c1f",
   "metadata": {},
   "source": [
    "- **obtenir la longueur d'une chaîne:**"
   ]
  },
  {
   "cell_type": "code",
   "execution_count": 107,
   "id": "5ae456e4",
   "metadata": {},
   "outputs": [
    {
     "name": "stdout",
     "output_type": "stream",
     "text": [
      "10\n"
     ]
    }
   ],
   "source": [
    "str1 = \"Gâteau 4 U\"\n",
    "print(len(str1))"
   ]
  },
  {
   "cell_type": "code",
   "execution_count": 108,
   "id": "733ad48e",
   "metadata": {},
   "outputs": [
    {
     "name": "stdout",
     "output_type": "stream",
     "text": [
      "False\n",
      "True\n"
     ]
    }
   ],
   "source": [
    "#vérifier si une chaîne ne contient que des chiffres\n",
    "str2 = \"404\"\n",
    "print(str1.isdigit())\n",
    "print(str2.isdigit())"
   ]
  },
  {
   "cell_type": "code",
   "execution_count": 109,
   "id": "b78af19d",
   "metadata": {},
   "outputs": [
    {
     "data": {
      "text/plain": [
       "'Gâteau 404'"
      ]
     },
     "execution_count": 109,
     "metadata": {},
     "output_type": "execute_result"
    }
   ],
   "source": [
    "# remplacer des parties de chaînes\n",
    "str1.replace('4 U', str2)"
   ]
  },
  {
   "cell_type": "code",
   "execution_count": 111,
   "id": "f68ce7eb",
   "metadata": {},
   "outputs": [
    {
     "data": {
      "text/plain": [
       "0"
      ]
     },
     "execution_count": 111,
     "metadata": {},
     "output_type": "execute_result"
    }
   ],
   "source": [
    "# trouver des sous-chaînes\n",
    "str1 = 'cookie'\n",
    "str2 = 'cook'\n",
    "\n",
    "str1.find(str2)"
   ]
  },
  {
   "cell_type": "markdown",
   "id": "6cdc04d6",
   "metadata": {},
   "source": [
    "<div id=\"section2d\"></div>\n",
    "<h3 style=\"color: #E67E22; font-family: 'Segoe UI', Arial, sans-serif; font-size: 1.4em; margin-top: 30px;\">\n",
    "    Booléens (Boolean)\n",
    "</h3>\n",
    "\n",
    "Ce type de données intégré peut prendre les valeurs : `True` et `False`, ce qui les rend souvent interchangeables avec les entiers 1 et 0. \n",
    "\n",
    "Les booléens sont utiles dans les expressions conditionnelles et de comparaison comme on l'a déjà vu précédemment:"
   ]
  },
  {
   "cell_type": "code",
   "execution_count": 112,
   "id": "50bf1fb8",
   "metadata": {},
   "outputs": [
    {
     "name": "stdout",
     "output_type": "stream",
     "text": [
      "False\n",
      "True\n"
     ]
    }
   ],
   "source": [
    "x = 4\n",
    "y = 2\n",
    "print(x == y)  # False\n",
    "print(x > y)   # True"
   ]
  },
  {
   "cell_type": "markdown",
   "id": "255d5103",
   "metadata": {},
   "source": [
    "**Utilisation dans une condition:**"
   ]
  },
  {
   "cell_type": "code",
   "execution_count": null,
   "id": "a2ce2641",
   "metadata": {},
   "outputs": [
    {
     "name": "stdout",
     "output_type": "stream",
     "text": [
      "Pas de Cookie\n"
     ]
    }
   ],
   "source": [
    "z = (x == y)  #comparaison (évalue à False)\n",
    "if z:\n",
    "    print(\"Cookie\")\n",
    "else:\n",
    "    print(\"Pas de Cookie\")  # Cette ligne sera exécutée"
   ]
  },
  {
   "cell_type": "markdown",
   "id": "c8263dac",
   "metadata": {},
   "source": [
    "<div id=\"section3\"></div>\n",
    "<a href=\"#toc\" style=\"background-color: #E1B12D; color: #ffffff; padding: 7px 15px; text-decoration: none; border-radius: 50px;\">Retour en haut</a>\n",
    "\n",
    "<h2 style=\"color: #3498DB; font-family: 'Segoe UI', Arial, sans-serif; font-size: 1.8em; border-bottom: 2px solid #3498DB; padding-bottom: 5px; margin-top: 40px;\">\n",
    "    III. Conversion de types de données\n",
    "</h2>\n",
    "\n",
    "Parfois, vous vous retrouverez à travailler sur le code de quelqu'un d'autre et vous devrez convertir un entier en nombre à virgule flottante ou vice versa, par exemple. Dans de tels cas, vous pouvez convertir le type de données des variables !\n",
    "\n",
    "Pour vérifier le type d'un objet en Python, utilisez la fonction intégrée `type()` :"
   ]
  },
  {
   "cell_type": "code",
   "execution_count": 117,
   "id": "62dd124d",
   "metadata": {},
   "outputs": [
    {
     "data": {
      "text/plain": [
       "float"
      ]
     },
     "execution_count": 117,
     "metadata": {},
     "output_type": "execute_result"
    }
   ],
   "source": [
    "i = 4.0\n",
    "type(i)"
   ]
  },
  {
   "cell_type": "code",
   "execution_count": 118,
   "id": "d56f22b6",
   "metadata": {},
   "outputs": [
    {
     "data": {
      "text/plain": [
       "str"
      ]
     },
     "execution_count": 118,
     "metadata": {},
     "output_type": "execute_result"
    }
   ],
   "source": [
    "x = input(\"Entrez un nombre: \")\n",
    "\n",
    "type(x)"
   ]
  },
  {
   "cell_type": "code",
   "execution_count": 119,
   "id": "6c76c969",
   "metadata": {},
   "outputs": [
    {
     "data": {
      "text/plain": [
       "int"
      ]
     },
     "execution_count": 119,
     "metadata": {},
     "output_type": "execute_result"
    }
   ],
   "source": [
    "x = int(x)\n",
    "type(x)"
   ]
  },
  {
   "cell_type": "markdown",
   "id": "f71da713",
   "metadata": {},
   "source": [
    "Quand vous changez le type d'une entité d'un type de données à un autre, cela s'appelle le **\"transtypage\"** (typecasting). \n",
    "\n",
    "Il peut y avoir deux types de conversions de données possibles : **implicite** (appelée coercition) et **explicite** (souvent appelée casting).\n",
    "\n",
    "<div id=\"section3a\"></div>\n",
    "<h3 style=\"color: #E67E22; font-family: 'Segoe UI', Arial, sans-serif; font-size: 1.4em; margin-top: 30px;\">\n",
    "    Conversion implicite de type de données\n",
    "</h3>\n",
    "\n",
    "Il s'agit d'une conversion automatique de données, et le compilateur s'en charge pour vous :"
   ]
  },
  {
   "cell_type": "code",
   "execution_count": null,
   "id": "f35d5568",
   "metadata": {},
   "outputs": [
    {
     "data": {
      "text/plain": [
       "2.0"
      ]
     },
     "execution_count": 124,
     "metadata": {},
     "output_type": "execute_result"
    }
   ],
   "source": [
    "#nombre à virgule flottante\n",
    "x = 4.0\n",
    "#entier\n",
    "y = 2\n",
    "\n",
    "\n",
    "z = x / y\n",
    "z"
   ]
  },
  {
   "cell_type": "code",
   "execution_count": 121,
   "id": "56f3cc71",
   "metadata": {},
   "outputs": [
    {
     "name": "stdout",
     "output_type": "stream",
     "text": [
      "<class 'float'>\n"
     ]
    }
   ],
   "source": [
    "# Vérifier le type de z\n",
    "print(type(z))"
   ]
  },
  {
   "cell_type": "markdown",
   "id": "fff495cc",
   "metadata": {},
   "source": [
    "Dans l'exemple ci-dessus, vous n'avez pas eu à changer explicitement le type de données de `y` pour effectuer une division en virgule flottante. Le compilateur l'a fait pour vous implicitement.\n",
    "\n",
    "<div id=\"section3b\"></div>\n",
    "<h3 style=\"color: #E67E22; font-family: 'Segoe UI', Arial, sans-serif; font-size: 1.4em; margin-top: 30px;\">\n",
    "    Conversion explicite de type de données\n",
    "</h3>\n",
    "\n",
    "Ce type de conversion est défini par l'utilisateur, ce qui signifie que vous devez explicitement informer le compilateur de changer le type de données de certaines entités :"
   ]
  },
  {
   "cell_type": "code",
   "execution_count": 125,
   "id": "8b58fd09",
   "metadata": {},
   "outputs": [
    {
     "ename": "TypeError",
     "evalue": "can only concatenate str (not \"int\") to str",
     "output_type": "error",
     "traceback": [
      "\u001b[31m---------------------------------------------------------------------------\u001b[39m",
      "\u001b[31mTypeError\u001b[39m                                 Traceback (most recent call last)",
      "\u001b[36mCell\u001b[39m\u001b[36m \u001b[39m\u001b[32mIn[125]\u001b[39m\u001b[32m, line 5\u001b[39m\n\u001b[32m      2\u001b[39m x = \u001b[32m2\u001b[39m\n\u001b[32m      3\u001b[39m y = \u001b[33m\"\u001b[39m\u001b[33mLe Parrain : Partie \u001b[39m\u001b[33m\"\u001b[39m\n\u001b[32m----> \u001b[39m\u001b[32m5\u001b[39m fav_movie = \u001b[43my\u001b[49m\u001b[43m \u001b[49m\u001b[43m+\u001b[49m\u001b[43m \u001b[49m\u001b[43mx\u001b[49m  \u001b[38;5;66;03m# TypeError\u001b[39;00m\n",
      "\u001b[31mTypeError\u001b[39m: can only concatenate str (not \"int\") to str"
     ]
    }
   ],
   "source": [
    "#ceci provoquera une erreur\n",
    "x = 2\n",
    "y = \"Le Parrain : Partie \"\n",
    "\n",
    "fav_movie = y + x  # TypeError"
   ]
  },
  {
   "cell_type": "code",
   "execution_count": 126,
   "id": "358ad3de",
   "metadata": {},
   "outputs": [
    {
     "name": "stdout",
     "output_type": "stream",
     "text": [
      "Le Parrain : Partie 2\n"
     ]
    }
   ],
   "source": [
    "#solution avec conversion explicite\n",
    "fav_movie = y + str(x)\n",
    "print(fav_movie)"
   ]
  },
  {
   "cell_type": "markdown",
   "id": "d95b2047",
   "metadata": {},
   "source": [
    "**Note :** Il n'est pas toujours possible de convertir un type de données en un autre. Quelques fonctions de conversion de données intégrées que vous pouvez utiliser : `int()`, `float()`, et `str()`."
   ]
  },
  {
   "cell_type": "markdown",
   "id": "893ae4eb",
   "metadata": {},
   "source": [
    "<div id=\"section4\"></div>\n",
    "<a href=\"#toc\" style=\"background-color: #E1B12D; color: #ffffff; padding: 7px 15px; text-decoration: none; border-radius: 50px;\">Retour en haut</a>\n",
    "\n",
    "<h2 style=\"color: #3498DB; font-family: 'Segoe UI', Arial, sans-serif; font-size: 1.8em; border-bottom: 2px solid #3498DB; padding-bottom: 5px; margin-top: 40px;\">\n",
    "    IV. Structures de données non-primitives\n",
    "</h2>\n",
    "\n",
    "Les types non-primitifs sont les membres sophistiqués de la famille des structures de données. Ils ne stockent pas seulement une valeur, mais plutôt une collection de valeurs dans divers formats.\n"
   ]
  },
  {
   "cell_type": "markdown",
   "id": "14c37a79",
   "metadata": {},
   "source": [
    "<div id=\"section4a\"></div>\n",
    "<h3 style=\"color: #E67E22; font-family: 'Segoe UI', Arial, sans-serif; font-size: 1.4em; margin-top: 30px;\">\n",
    "    Tableaux (Arrays)\n",
    "</h3>\n",
    "\n",
    "D'abord, les tableaux en Python sont un moyen compact de collecter des types de données de base. Toutes les entrées d'un tableau doivent être du même type de données. Cependant, les tableaux ne sont pas très populaires en Python, contrairement à d'autres langages de programmation comme C++ ou Java.\n",
    "\n",
    "En général, quand les gens parlent de tableaux en Python, ils font en fait référence aux **listes**. Cependant, il y a une différence fondamentale entre eux."
   ]
  },
  {
   "cell_type": "code",
   "execution_count": null,
   "id": "f4a52ea5",
   "metadata": {},
   "outputs": [
    {
     "name": "stdout",
     "output_type": "stream",
     "text": [
      "<class 'array.array'>\n"
     ]
    }
   ],
   "source": [
    "import array as arr\n",
    "\n",
    "a = arr.array(\"I\", [3, 6, 9])\n",
    "print(type(a))"
   ]
  },
  {
   "cell_type": "markdown",
   "id": "48bd758e",
   "metadata": {},
   "source": [
    "Les éléments stockés dans un tableau sont contraints dans leur type de données. Le type de données est spécifié lors de la création du tableau à l'aide d'un code de type, qui est un caractère unique comme le `I` que vous voyez dans l'exemple ci-dessus.\n"
   ]
  },
  {
   "cell_type": "markdown",
   "id": "f002ff46",
   "metadata": {},
   "source": [
    "<div id=\"section5a\"></div>\n",
    "<h3 style=\"color: #E67E22; font-family: 'Segoe UI', Arial, sans-serif; font-size: 1.4em; margin-top: 30px;\">\n",
    "    Listes (Lists)\n",
    "</h3>\n",
    "\n",
    "Les listes en Python sont utilisées pour stocker des collections d'éléments hétérogènes. Elles sont **mutables**, ce qui signifie que vous pouvez changer leur contenu sans changer leur identité. \n",
    "\n",
    "Vous pouvez reconnaître les listes par leurs crochets `[` et `]` qui contiennent des éléments séparés par une virgule `,`."
   ]
  },
  {
   "cell_type": "markdown",
   "id": "cc5035b2",
   "metadata": {},
   "source": [
    "- **Liste vide:**"
   ]
  },
  {
   "cell_type": "code",
   "execution_count": null,
   "id": "2e202f92",
   "metadata": {},
   "outputs": [
    {
     "name": "stdout",
     "output_type": "stream",
     "text": [
      "<class 'list'>\n"
     ]
    }
   ],
   "source": [
    "x = []\n",
    "print(type(x))"
   ]
  },
  {
   "cell_type": "markdown",
   "id": "d4ac8ee2",
   "metadata": {},
   "source": [
    "- **Listes avec différents types d'éléments:**"
   ]
  },
  {
   "cell_type": "code",
   "execution_count": null,
   "id": "c1689e00",
   "metadata": {},
   "outputs": [
    {
     "data": {
      "text/plain": [
       "'pomme'"
      ]
     },
     "execution_count": 127,
     "metadata": {},
     "output_type": "execute_result"
    }
   ],
   "source": [
    "x1 = [1, 2, 3]\n",
    "x2 = [1, 'pomme', 3]\n",
    "\n",
    "x2[1]"
   ]
  },
  {
   "cell_type": "markdown",
   "id": "ea011f4e",
   "metadata": {},
   "source": [
    "- **Modification d'un élément:**"
   ]
  },
  {
   "cell_type": "code",
   "execution_count": 128,
   "id": "ec5faa8d",
   "metadata": {},
   "outputs": [
    {
     "name": "stdout",
     "output_type": "stream",
     "text": [
      "[1, 'orange', 3]\n"
     ]
    }
   ],
   "source": [
    "x2[1] = 'orange'\n",
    "print(x2)"
   ]
  },
  {
   "cell_type": "markdown",
   "id": "a3244791",
   "metadata": {},
   "source": [
    "**Méthodes principales pour manipuler les listes :**\n"
   ]
  },
  {
   "cell_type": "code",
   "execution_count": 138,
   "id": "a77d6fb8",
   "metadata": {},
   "outputs": [],
   "source": [
    "list_num = [1, 2, 45, 6, 7, 2, 90, 23, 435]\n",
    "list_char = ['c', 'o', 'o', 'k', 'i', 'e']"
   ]
  },
  {
   "cell_type": "markdown",
   "id": "b248bf65",
   "metadata": {},
   "source": [
    "- **Ajouter un élément à la fin:**"
   ]
  },
  {
   "cell_type": "code",
   "execution_count": 139,
   "id": "e5393c87",
   "metadata": {},
   "outputs": [
    {
     "name": "stdout",
     "output_type": "stream",
     "text": [
      "[1, 2, 45, 6, 7, 2, 90, 23, 435, 11]\n"
     ]
    }
   ],
   "source": [
    "list_num.append(11)\n",
    "print(list_num)"
   ]
  },
  {
   "cell_type": "markdown",
   "id": "f5a0677a",
   "metadata": {},
   "source": [
    "- **Insérer un élément à une position spécifique:**"
   ]
  },
  {
   "cell_type": "code",
   "execution_count": 140,
   "id": "60e3c7ef",
   "metadata": {},
   "outputs": [
    {
     "name": "stdout",
     "output_type": "stream",
     "text": [
      "[11, 1, 2, 45, 6, 7, 2, 90, 23, 435, 11]\n"
     ]
    }
   ],
   "source": [
    "list_num.insert(0, 11)\n",
    "print(list_num)"
   ]
  },
  {
   "cell_type": "markdown",
   "id": "919ee62c",
   "metadata": {},
   "source": [
    "- **Supprimer la première occurrence d'un élément:**"
   ]
  },
  {
   "cell_type": "code",
   "execution_count": 141,
   "id": "1f8f1231",
   "metadata": {},
   "outputs": [
    {
     "name": "stdout",
     "output_type": "stream",
     "text": [
      "['c', 'o', 'k', 'i', 'e']\n"
     ]
    }
   ],
   "source": [
    "list_char.remove('o')\n",
    "print(list_char)"
   ]
  },
  {
   "cell_type": "markdown",
   "id": "4d7200f5",
   "metadata": {},
   "source": [
    "- **Supprimer un élément à un index spécifique:**"
   ]
  },
  {
   "cell_type": "code",
   "execution_count": 142,
   "id": "c2b14641",
   "metadata": {},
   "outputs": [
    {
     "name": "stdout",
     "output_type": "stream",
     "text": [
      "['c', 'o', 'k', 'e']\n"
     ]
    }
   ],
   "source": [
    "list_char.pop(-2)\n",
    "print(list_char)"
   ]
  },
  {
   "cell_type": "markdown",
   "id": "fddd0e1d",
   "metadata": {},
   "source": [
    "- **Trier la liste:**"
   ]
  },
  {
   "cell_type": "code",
   "execution_count": 143,
   "id": "60c00466",
   "metadata": {},
   "outputs": [
    {
     "name": "stdout",
     "output_type": "stream",
     "text": [
      "[1, 2, 2, 6, 7, 11, 11, 23, 45, 90, 435]\n"
     ]
    }
   ],
   "source": [
    "list_num.sort()\n",
    "print(list_num)"
   ]
  },
  {
   "cell_type": "markdown",
   "id": "5afc200c",
   "metadata": {},
   "source": [
    "- **Inverser la liste:**"
   ]
  },
  {
   "cell_type": "code",
   "execution_count": 72,
   "id": "e8aa8876",
   "metadata": {},
   "outputs": [
    {
     "name": "stdout",
     "output_type": "stream",
     "text": [
      "[435, 90, 45, 23, 11, 11, 7, 6, 2, 2, 1]\n"
     ]
    }
   ],
   "source": [
    "list_num.reverse()\n",
    "print(list_num)"
   ]
  },
  {
   "cell_type": "markdown",
   "id": "048ce7e6",
   "metadata": {},
   "source": [
    "<div id=\"section5b\"></div>\n",
    "<h3 style=\"color: #E67E22; font-family: 'Segoe UI', Arial, sans-serif; font-size: 1.4em; margin-top: 30px;\">\n",
    "    Tableaux vs Listes\n",
    "</h3>\n",
    "\n",
    "Maintenant que vous avez vu les listes en Python, vous vous demandez peut-être pourquoi vous avez besoin de tableaux. \n",
    "\n",
    "La raison est qu'ils sont fondamentalement différents en termes d'opérations que l'on peut effectuer sur eux.\n"
   ]
  },
  {
   "cell_type": "code",
   "execution_count": 73,
   "id": "44935b62",
   "metadata": {},
   "outputs": [
    {
     "name": "stdout",
     "output_type": "stream",
     "text": [
      "array('u', 'cats')\n"
     ]
    }
   ],
   "source": [
    "import array\n",
    "\n",
    "#exemple avec tableau\n",
    "array_char = array.array(\"u\", [\"c\", \"a\", \"t\", \"s\"])\n",
    "\n",
    "print(array_char)"
   ]
  },
  {
   "cell_type": "markdown",
   "id": "f949e86d",
   "metadata": {},
   "source": [
    "Les tableaux peuvent être très utiles lorsque vous traitez une grande collection de types de données homogènes, car Python n'a pas besoin de se souvenir des détails du type de données de chaque élément individuellement."
   ]
  },
  {
   "cell_type": "markdown",
   "id": "e2eaa8d2",
   "metadata": {},
   "source": [
    "<div id=\"section5c\"></div>\n",
    "<h3 style=\"color: #E67E22; font-family: 'Segoe UI', Arial, sans-serif; font-size: 1.4em; margin-top: 30px;\">\n",
    "    Tableaux NumPy\n",
    "</h3>\n",
    "\n",
    "Les tableaux NumPy sont très utilisés dans le monde de la Science des Données pour travailler avec des tableaux multidimensionnels. \n",
    "\n",
    "Ils sont plus efficaces que le module `array` et les listes Python en général:\n"
   ]
  },
  {
   "cell_type": "code",
   "execution_count": 74,
   "id": "f6ae2b10",
   "metadata": {},
   "outputs": [],
   "source": [
    "import numpy as np"
   ]
  },
  {
   "cell_type": "markdown",
   "id": "3e1c6550",
   "metadata": {},
   "source": [
    "- **création d'un tableau NumPy:**"
   ]
  },
  {
   "cell_type": "code",
   "execution_count": null,
   "id": "b16cd7a7",
   "metadata": {},
   "outputs": [
    {
     "data": {
      "text/plain": [
       "[3, 6, 9]"
      ]
     },
     "execution_count": 175,
     "metadata": {},
     "output_type": "execute_result"
    }
   ],
   "source": [
    "x_list = [3, 6, 9]\n",
    "x_list"
   ]
  },
  {
   "cell_type": "code",
   "execution_count": 179,
   "id": "98436057",
   "metadata": {},
   "outputs": [
    {
     "data": {
      "text/plain": [
       "[1.0, 2.0, 3.0]"
      ]
     },
     "execution_count": 179,
     "metadata": {},
     "output_type": "execute_result"
    }
   ],
   "source": [
    "x_list = [3, 6, 9]\n",
    "x_new = []\n",
    "\n",
    "for i, el in enumerate(x_list):\n",
    "    x_new.append(el/3)\n",
    "\n",
    "x_new"
   ]
  },
  {
   "cell_type": "code",
   "execution_count": 180,
   "id": "fbb8574b",
   "metadata": {},
   "outputs": [
    {
     "data": {
      "text/plain": [
       "array([3, 6, 9])"
      ]
     },
     "execution_count": 180,
     "metadata": {},
     "output_type": "execute_result"
    }
   ],
   "source": [
    "arr_a = np.array([3, 6, 9])\n",
    "arr_a"
   ]
  },
  {
   "cell_type": "code",
   "execution_count": 181,
   "id": "6facdd3e",
   "metadata": {},
   "outputs": [
    {
     "name": "stdout",
     "output_type": "stream",
     "text": [
      "[1. 2. 3.]\n"
     ]
    }
   ],
   "source": [
    "arr_b = arr_a / 3  # Opérations vectorisées (élément par élément)\n",
    "print(arr_b)"
   ]
  },
  {
   "cell_type": "markdown",
   "id": "8fafa57c",
   "metadata": {},
   "source": [
    "- **Création d'un tableau de uns:**"
   ]
  },
  {
   "cell_type": "code",
   "execution_count": 182,
   "id": "40ddca28",
   "metadata": {},
   "outputs": [
    {
     "data": {
      "text/plain": [
       "array([1., 1., 1., 1.])"
      ]
     },
     "execution_count": 182,
     "metadata": {},
     "output_type": "execute_result"
    }
   ],
   "source": [
    "arr_ones = np.ones(4)\n",
    "arr_ones"
   ]
  },
  {
   "cell_type": "markdown",
   "id": "0d9421fe",
   "metadata": {},
   "source": [
    "- **Création d'un tableau 2D:**"
   ]
  },
  {
   "cell_type": "code",
   "execution_count": 183,
   "id": "043d92f6",
   "metadata": {},
   "outputs": [
    {
     "name": "stdout",
     "output_type": "stream",
     "text": [
      "[[1. 1. 1. 1.]\n",
      " [1. 1. 1. 1.]\n",
      " [1. 1. 1. 1.]]\n"
     ]
    }
   ],
   "source": [
    "multi_arr_ones = np.ones((3, 4))  # 3 lignes et 4 colonnes\n",
    "print(multi_arr_ones)"
   ]
  },
  {
   "cell_type": "markdown",
   "id": "ed370de8",
   "metadata": {},
   "source": [
    "Traditionnellement, la structure de données liste peut être davantage catégorisée en structures de données **linéaires** et **non-linéaires**. \n",
    "\n",
    "Les piles (Stacks) et les files (Queues) sont appelées \"structures de données linéaires\", tandis que les graphes (Graphs) et les arbres (Trees) sont des \"structures de données non-linéaires\".\n",
    "\n",
    "<figure style=\"padding: 1em; text-align: center;\">\n",
    "    <img src=\"https://scaler.com/topics/images/difference-between-primitive-and-non-primitive-data-structures-1.webp\" width=\"900\" height=\"500\" alt=\"Logo Python\">\n",
    "    <figcaption style=\"font-size: 0.9em; color: #3498db; margin-top: 0.5em;\">\n",
    "        <i>Structures de données non-primitives en Python</i>\n",
    "    </figcaption>\n",
    "</figure>"
   ]
  },
  {
   "cell_type": "markdown",
   "id": "92fbc401",
   "metadata": {},
   "source": [
    "<div id=\"section6e\"></div>\n",
    "<h3 style=\"color: #E67E22; font-family: 'Segoe UI', Arial, sans-serif; font-size: 1.4em; margin-top: 30px;\">\n",
    "    Tuples\n",
    "</h3>\n",
    "\n",
    "Les tuples sont un autre type de données de séquence standard. \n",
    "\n",
    "La différence entre les tuples et les listes est que les tuples sont **immutables**, ce qui signifie qu'une fois définis, vous ne pouvez pas supprimer, ajouter ou modifier des valeurs à l'intérieur."
   ]
  },
  {
   "cell_type": "code",
   "execution_count": 144,
   "id": "e952dbf0",
   "metadata": {},
   "outputs": [
    {
     "name": "stdout",
     "output_type": "stream",
     "text": [
      "1\n",
      "e\n"
     ]
    }
   ],
   "source": [
    "x_tuple = (1, 2, 3, 4, 5)\n",
    "y_tuple = ('c', 'a', 'k', 'e')\n",
    "\n",
    "print(x_tuple[0])\n",
    "print(y_tuple[3])"
   ]
  },
  {
   "cell_type": "code",
   "execution_count": 145,
   "id": "259abf3d",
   "metadata": {},
   "outputs": [
    {
     "data": {
      "text/plain": [
       "(3, 4, 5)"
      ]
     },
     "execution_count": 145,
     "metadata": {},
     "output_type": "execute_result"
    }
   ],
   "source": [
    "x_tuple[2:]"
   ]
  },
  {
   "cell_type": "markdown",
   "id": "2a915a8c",
   "metadata": {},
   "source": [
    "Ceci provoquera une erreur:"
   ]
  },
  {
   "cell_type": "code",
   "execution_count": 80,
   "id": "c2cfac6f",
   "metadata": {},
   "outputs": [
    {
     "ename": "TypeError",
     "evalue": "'tuple' object does not support item assignment",
     "output_type": "error",
     "traceback": [
      "\u001b[31m---------------------------------------------------------------------------\u001b[39m",
      "\u001b[31mTypeError\u001b[39m                                 Traceback (most recent call last)",
      "\u001b[36mCell\u001b[39m\u001b[36m \u001b[39m\u001b[32mIn[80]\u001b[39m\u001b[32m, line 1\u001b[39m\n\u001b[32m----> \u001b[39m\u001b[32m1\u001b[39m \u001b[43mx_tuple\u001b[49m\u001b[43m[\u001b[49m\u001b[32;43m0\u001b[39;49m\u001b[43m]\u001b[49m = \u001b[32m0\u001b[39m\n",
      "\u001b[31mTypeError\u001b[39m: 'tuple' object does not support item assignment"
     ]
    }
   ],
   "source": [
    "x_tuple[0] = 0"
   ]
  },
  {
   "cell_type": "markdown",
   "id": "997c576b",
   "metadata": {},
   "source": [
    "<a href=\"#toc\" style=\"background-color: #E1B12D; color: #ffffff; padding: 7px 15px; text-decoration: none; border-radius: 50px;\">Retour en haut</a>\n",
    "\n",
    "<div id=\"section6f\"></div>\n",
    "<h3 style=\"color: #E67E22; font-family: 'Segoe UI', Arial, sans-serif; font-size: 1.4em; margin-top: 30px;\">\n",
    "    Dictionnaires (Dictionary)\n",
    "</h3>\n",
    "\n",
    "Les dictionnaires sont exactement ce dont vous avez besoin si vous voulez implémenter quelque chose de similaire à un annuaire téléphonique.\n",
    "\n",
    "C'est là qu'un dictionnaire peut être utile. Les dictionnaires sont composés de paires **clé-valeur**. La clé est utilisée pour identifier l'élément et la valeur contient, comme son nom l'indique, la valeur de l'élément.\n",
    "\n",
    "- **Définition:**"
   ]
  },
  {
   "cell_type": "code",
   "execution_count": 146,
   "id": "a15e9aea",
   "metadata": {},
   "outputs": [
    {
     "name": "stdout",
     "output_type": "stream",
     "text": [
      "{'Edward': 1, 'Jorge': 2, 'Prem': 3, 'Joe': 4}\n"
     ]
    }
   ],
   "source": [
    "x_dict = {\n",
    "    'Edward': 1, \n",
    "    'Jorge': 2, \n",
    "    'Prem': 3, \n",
    "    'Joe': 4\n",
    "}\n",
    "\n",
    "print(x_dict)"
   ]
  },
  {
   "cell_type": "markdown",
   "id": "1d2e06ee",
   "metadata": {},
   "source": [
    "- **Affiche la valeur stockée avec la clé 'Edward':**"
   ]
  },
  {
   "cell_type": "code",
   "execution_count": 148,
   "id": "3c9bf16b",
   "metadata": {},
   "outputs": [
    {
     "data": {
      "text/plain": [
       "1"
      ]
     },
     "execution_count": 148,
     "metadata": {},
     "output_type": "execute_result"
    }
   ],
   "source": [
    "x_dict['Edward']"
   ]
  },
  {
   "cell_type": "markdown",
   "id": "a53a0935",
   "metadata": {},
   "source": [
    "- **Ajouter un élément:**"
   ]
  },
  {
   "cell_type": "code",
   "execution_count": 149,
   "id": "fe75dc54",
   "metadata": {},
   "outputs": [
    {
     "data": {
      "text/plain": [
       "{'Edward': 1, 'Jorge': 2, 'Prem': 3, 'Joe': 4, 'Rafic': 20}"
      ]
     },
     "execution_count": 149,
     "metadata": {},
     "output_type": "execute_result"
    }
   ],
   "source": [
    "x_dict['Rafic'] = 20\n",
    "x_dict"
   ]
  },
  {
   "cell_type": "markdown",
   "id": "1ed208ae",
   "metadata": {},
   "source": [
    "- **Supprimer un élément:**"
   ]
  },
  {
   "cell_type": "code",
   "execution_count": 150,
   "id": "89366e64",
   "metadata": {},
   "outputs": [
    {
     "name": "stdout",
     "output_type": "stream",
     "text": [
      "{'Edward': 1, 'Jorge': 2, 'Prem': 3, 'Rafic': 20}\n"
     ]
    }
   ],
   "source": [
    "del x_dict['Joe']\n",
    "print(x_dict)"
   ]
  },
  {
   "cell_type": "markdown",
   "id": "2d58f92a",
   "metadata": {},
   "source": [
    "\n",
    "**Vous pouvez appliquer beaucoup d'autres fonctionnalités intégrées sur les dictionnaires:**\n"
   ]
  },
  {
   "cell_type": "code",
   "execution_count": 151,
   "id": "0450a664",
   "metadata": {},
   "outputs": [
    {
     "name": "stdout",
     "output_type": "stream",
     "text": [
      "4\n"
     ]
    }
   ],
   "source": [
    "print(len(x_dict))"
   ]
  },
  {
   "cell_type": "markdown",
   "id": "93f0f8f0",
   "metadata": {},
   "source": [
    "- **Afficher les clés:**"
   ]
  },
  {
   "cell_type": "code",
   "execution_count": 154,
   "id": "c805c11d",
   "metadata": {},
   "outputs": [
    {
     "data": {
      "text/plain": [
       "dict_keys(['Edward', 'Jorge', 'Prem', 'Rafic'])"
      ]
     },
     "execution_count": 154,
     "metadata": {},
     "output_type": "execute_result"
    }
   ],
   "source": [
    "x_dict.keys()"
   ]
  },
  {
   "cell_type": "markdown",
   "id": "efe6f7cd",
   "metadata": {},
   "source": [
    "- **Afficher les valeurs:**"
   ]
  },
  {
   "cell_type": "code",
   "execution_count": 155,
   "id": "65b0e027",
   "metadata": {},
   "outputs": [
    {
     "data": {
      "text/plain": [
       "dict_values([1, 2, 3, 20])"
      ]
     },
     "execution_count": 155,
     "metadata": {},
     "output_type": "execute_result"
    }
   ],
   "source": [
    "x_dict.values()"
   ]
  },
  {
   "cell_type": "markdown",
   "id": "4b4d7aa7",
   "metadata": {},
   "source": [
    "Exemple d'utilisation d'un dictionnaire Python pour stocker et accéder aux paires clé-valeur.\n",
    "\n",
    "D'abord, le code appelle la fonction `len()` avec `x_dict` comme argument. Cela retourne le nombre de paires clé-valeur dans le dictionnaire, qui est 3.\n",
    "\n",
    "Ensuite, le code appelle la méthode `keys()` sur `x_dict`. Cela retourne un objet vue contenant les clés du dictionnaire. Dans ce cas, les clés sont 'Edward', 'Jorge', et 'Prem', comme montré par la sortie.\n",
    "\n",
    "Puis, le code appelle la méthode `values()` sur `x_dict`. Cela retourne un objet vue contenant les valeurs du dictionnaire. Dans ce cas, les valeurs sont 1, 2, et 3, respectivement, comme montré par la sortie.\n",
    "\n",
    "**Autres méthodes utiles pour les dictionnaires :**"
   ]
  },
  {
   "cell_type": "markdown",
   "id": "678409cc",
   "metadata": {},
   "source": [
    "**Obtenir une valeur avec une valeur par défaut si la clé n'existe pas**"
   ]
  },
  {
   "cell_type": "code",
   "execution_count": 158,
   "id": "c005d056",
   "metadata": {},
   "outputs": [
    {
     "data": {
      "text/plain": [
       "'Non trouvé'"
      ]
     },
     "execution_count": 158,
     "metadata": {},
     "output_type": "execute_result"
    }
   ],
   "source": [
    "x_dict.get('Alice', 'Non trouvé')"
   ]
  },
  {
   "cell_type": "markdown",
   "id": "aa7581e9",
   "metadata": {},
   "source": [
    "Obtenir tous les éléments (paires clé-valeur)"
   ]
  },
  {
   "cell_type": "code",
   "execution_count": 159,
   "id": "be6b2039",
   "metadata": {},
   "outputs": [
    {
     "data": {
      "text/plain": [
       "dict_items([('Edward', 1), ('Jorge', 2), ('Prem', 3), ('Rafic', 20)])"
      ]
     },
     "execution_count": 159,
     "metadata": {},
     "output_type": "execute_result"
    }
   ],
   "source": [
    "x_dict.items()"
   ]
  },
  {
   "cell_type": "markdown",
   "id": "880f6b8e",
   "metadata": {},
   "source": [
    "**Ajouter ou modifier une entrée:**"
   ]
  },
  {
   "cell_type": "code",
   "execution_count": 160,
   "id": "6e6f1c85",
   "metadata": {},
   "outputs": [
    {
     "data": {
      "text/plain": [
       "{'Edward': 1, 'Jorge': 2, 'Prem': 3, 'Rafic': 20, 'Alice': 5}"
      ]
     },
     "execution_count": 160,
     "metadata": {},
     "output_type": "execute_result"
    }
   ],
   "source": [
    "x_dict['Alice'] = 5\n",
    "x_dict"
   ]
  },
  {
   "cell_type": "markdown",
   "id": "4f28edde",
   "metadata": {},
   "source": [
    "**Vérifier si une clé existe:**"
   ]
  },
  {
   "cell_type": "code",
   "execution_count": 165,
   "id": "3af07af1",
   "metadata": {},
   "outputs": [
    {
     "data": {
      "text/plain": [
       "True"
      ]
     },
     "execution_count": 165,
     "metadata": {},
     "output_type": "execute_result"
    }
   ],
   "source": [
    "'Edward' in x_dict"
   ]
  },
  {
   "cell_type": "code",
   "execution_count": 166,
   "id": "7ef28bf0",
   "metadata": {},
   "outputs": [
    {
     "data": {
      "text/plain": [
       "False"
      ]
     },
     "execution_count": 166,
     "metadata": {},
     "output_type": "execute_result"
    }
   ],
   "source": [
    "'Bob' in x_dict"
   ]
  },
  {
   "cell_type": "markdown",
   "id": "4e8696de",
   "metadata": {},
   "source": [
    "**Supprimer et retourner une valeur:**"
   ]
  },
  {
   "cell_type": "code",
   "execution_count": 167,
   "id": "07c24ac1",
   "metadata": {},
   "outputs": [
    {
     "data": {
      "text/plain": [
       "5"
      ]
     },
     "execution_count": 167,
     "metadata": {},
     "output_type": "execute_result"
    }
   ],
   "source": [
    "valeur_supprimee = x_dict.pop('Alice')\n",
    "valeur_supprimee"
   ]
  },
  {
   "cell_type": "code",
   "execution_count": 168,
   "id": "425ea6d3",
   "metadata": {},
   "outputs": [
    {
     "data": {
      "text/plain": [
       "{'Edward': 1, 'Jorge': 2, 'Prem': 3, 'Rafic': 20}"
      ]
     },
     "execution_count": 168,
     "metadata": {},
     "output_type": "execute_result"
    }
   ],
   "source": [
    "x_dict"
   ]
  },
  {
   "cell_type": "markdown",
   "id": "1c4b8aca",
   "metadata": {},
   "source": [
    "<div id=\"section6g\"></div>\n",
    "<h3 style=\"color: #E67E22; font-family: 'Segoe UI', Arial, sans-serif; font-size: 1.4em; margin-top: 30px;\">\n",
    "    Ensembles (Sets)\n",
    "</h3>\n",
    "\n",
    "Les ensembles sont une collection d'objets distincts (uniques). Ils sont utiles pour créer des listes qui ne contiennent que des valeurs uniques dans le jeu de données. C'est une collection non ordonnée mais mutable, ce qui est très utile lors du parcours d'un énorme jeu de données.\n"
   ]
  },
  {
   "cell_type": "code",
   "execution_count": null,
   "id": "1aa7fe68",
   "metadata": {},
   "outputs": [
    {
     "name": "stdout",
     "output_type": "stream",
     "text": [
      "{'&', 'K', 'O', 'E', 'A', 'C'}\n"
     ]
    }
   ],
   "source": [
    "x_set = set('CAKE&COKE')\n",
    "x_set"
   ]
  },
  {
   "cell_type": "code",
   "execution_count": 172,
   "id": "3786a3a4",
   "metadata": {},
   "outputs": [
    {
     "data": {
      "text/plain": [
       "{'C', 'E', 'I', 'K', 'O'}"
      ]
     },
     "execution_count": 172,
     "metadata": {},
     "output_type": "execute_result"
    }
   ],
   "source": [
    "y_set = set('COOKIE')\n",
    "y_set"
   ]
  },
  {
   "cell_type": "code",
   "execution_count": null,
   "id": "b2455c31",
   "metadata": {},
   "outputs": [
    {
     "name": "stdout",
     "output_type": "stream",
     "text": [
      "{'A', '&'}\n"
     ]
    }
   ],
   "source": [
    "print(x_set - y_set)  # Tous les éléments dans x_set mais pas dans y_set"
   ]
  },
  {
   "cell_type": "code",
   "execution_count": 173,
   "id": "bd5be2ab",
   "metadata": {},
   "outputs": [
    {
     "name": "stdout",
     "output_type": "stream",
     "text": [
      "{'I', '&', 'K', 'O', 'E', 'A', 'C'}\n"
     ]
    }
   ],
   "source": [
    "print(x_set | y_set)  # Éléments uniques dans x_set ou y_set ou les deux"
   ]
  },
  {
   "cell_type": "code",
   "execution_count": 174,
   "id": "8388b4d6",
   "metadata": {},
   "outputs": [
    {
     "name": "stdout",
     "output_type": "stream",
     "text": [
      "{'C', 'O', 'E', 'K'}\n"
     ]
    }
   ],
   "source": [
    "print(x_set & y_set)  # Éléments dans x_set ET y_set"
   ]
  },
  {
   "cell_type": "markdown",
   "id": "6ae13967",
   "metadata": {},
   "source": [
    "On crée deux ensembles : `x_set` et `y_set`. Chaque ensemble est créé en passant une chaîne de caractères comme argument à la fonction `set()`. Dans ce cas, `x_set` est créé à partir de la chaîne 'CAKE&COKE', tandis que `y_set` est créé à partir de la chaîne 'COOKIE'.\n",
    "\n",
    "Ensuite, le code affiche chaque ensemble en utilisant la fonction `print()`. La première instruction `print()` affiche `x_set`, qui contient les caractères uniques dans la chaîne 'CAKE&COKE'. La sortie montre que `x_set` contient les caractères 'A', '&', 'O', 'E', 'C', et 'K'. De même, la deuxième instruction `print()` affiche `y_set`, qui contient les caractères uniques dans la chaîne 'COOKIE'. La sortie montre que `y_set` contient les caractères 'I', 'O', 'E', 'C', et 'K'.\n",
    "\n",
    "**Opérations sur les ensembles :**\n",
    "\n",
    "- **Différence : éléments dans x_set mais pas dans y_set**"
   ]
  },
  {
   "cell_type": "code",
   "execution_count": 91,
   "id": "fa5b03a9",
   "metadata": {},
   "outputs": [
    {
     "name": "stdout",
     "output_type": "stream",
     "text": [
      "set()\n"
     ]
    }
   ],
   "source": [
    "print(x_set - y_set)"
   ]
  },
  {
   "cell_type": "markdown",
   "id": "e2b2e248",
   "metadata": {},
   "source": [
    "- **Union : éléments uniques dans x_set ou y_set ou les deux:**"
   ]
  },
  {
   "cell_type": "code",
   "execution_count": 92,
   "id": "3bdf17c4",
   "metadata": {},
   "outputs": [
    {
     "name": "stdout",
     "output_type": "stream",
     "text": [
      "{'I', 'E', 'K', 'O', 'C'}\n"
     ]
    }
   ],
   "source": [
    "print(x_set | y_set)"
   ]
  },
  {
   "cell_type": "markdown",
   "id": "ec9b95a2",
   "metadata": {},
   "source": [
    "- **Intersection : éléments dans x_set ET y_set:**"
   ]
  },
  {
   "cell_type": "code",
   "execution_count": 93,
   "id": "d19ffdc0",
   "metadata": {},
   "outputs": [
    {
     "name": "stdout",
     "output_type": "stream",
     "text": [
      "set()\n"
     ]
    }
   ],
   "source": [
    "print(x_set & y_set)  # {'O', 'E', 'K', 'C'}"
   ]
  },
  {
   "cell_type": "markdown",
   "id": "b8cddf28",
   "metadata": {},
   "source": [
    "- **Différence symétrique : éléments dans x_set ou y_set mais pas dans les deux:**"
   ]
  },
  {
   "cell_type": "code",
   "execution_count": null,
   "id": "98dcde22",
   "metadata": {},
   "outputs": [
    {
     "name": "stdout",
     "output_type": "stream",
     "text": [
      "{'A', '&'}\n",
      "{'I', '&', 'K', 'O', 'E', 'A', 'C'}\n",
      "{'C', 'O', 'E', 'K'}\n",
      "{'I', '&', 'A'}\n"
     ]
    }
   ],
   "source": [
    "print(x_set ^ y_set)  # {'A', '&', 'I'}"
   ]
  },
  {
   "cell_type": "markdown",
   "id": "d5ca23ed",
   "metadata": {},
   "source": [
    "**Méthodes utiles pour les ensembles :**\n",
    "- **Ajouter un élément:**"
   ]
  },
  {
   "cell_type": "code",
   "execution_count": null,
   "id": "0a7e8c0e",
   "metadata": {},
   "outputs": [],
   "source": [
    "x_set.add('Z')\n",
    "print(x_set)"
   ]
  },
  {
   "cell_type": "markdown",
   "id": "531fd707",
   "metadata": {},
   "source": [
    "- **Supprimer un élément:**"
   ]
  },
  {
   "cell_type": "code",
   "execution_count": null,
   "id": "430c7123",
   "metadata": {},
   "outputs": [],
   "source": [
    "x_set.remove('Z')  # Lève une erreur si l'élément n'existe pas\n",
    "print(x_set)"
   ]
  },
  {
   "cell_type": "markdown",
   "id": "f7710d99",
   "metadata": {},
   "source": [
    "- **Supprimer un élément sans erreur s'il n'existe pas:**"
   ]
  },
  {
   "cell_type": "code",
   "execution_count": null,
   "id": "4ca3541a",
   "metadata": {},
   "outputs": [],
   "source": [
    "x_set.discard('Z')"
   ]
  },
  {
   "cell_type": "markdown",
   "id": "a9e4b063",
   "metadata": {},
   "source": [
    "- **Supprimer un élément sans erreur s'il n'existe pas:**"
   ]
  },
  {
   "cell_type": "code",
   "execution_count": null,
   "id": "c4a34256",
   "metadata": {},
   "outputs": [],
   "source": [
    "x_set.discard('Z') # Pas d'erreur même si 'Z' n'existe pas"
   ]
  },
  {
   "cell_type": "markdown",
   "id": "a8edfbaf",
   "metadata": {},
   "source": [
    "- **Vider l'ensemble:**"
   ]
  },
  {
   "cell_type": "code",
   "execution_count": null,
   "id": "6220b5f8",
   "metadata": {},
   "outputs": [],
   "source": [
    "x_set.clear()\n",
    "print(x_set)"
   ]
  },
  {
   "cell_type": "markdown",
   "id": "fcbf34f0",
   "metadata": {},
   "source": [
    "<div id=\"section6h\"></div>\n",
    "<h3 style=\"color: #E67E22; font-family: 'Segoe UI', Arial, sans-serif; font-size: 1.4em; margin-top: 30px;\">\n",
    "    Fichiers (Files)\n",
    "</h3>\n",
    "\n",
    "Les fichiers font traditionnellement partie des structures de données. Et bien que les big data soient monnaie courante dans l'industrie de la science des données, un langage de programmation sans la capacité de stocker et récupérer des informations précédemment stockées ne serait guère utile. Vous devez encore utiliser toutes les données qui se trouvent dans les fichiers à travers les bases de données et vous apprendrez comment faire cela.\n",
    "\n",
    "La syntaxe pour lire et écrire des fichiers en Python est similaire à d'autres langages de programmation mais beaucoup plus facile à gérer. Voici quelques-unes des fonctions de base qui vous aideront à travailler avec les fichiers en utilisant Python :\n",
    "\n",
    "- `open()` pour ouvrir des fichiers dans votre système, le nom_fichier est le nom du fichier à ouvrir\n",
    "- `read()` pour lire des fichiers entiers\n",
    "- `readline()` pour lire une ligne à la fois\n",
    "- `write()` pour écrire une chaîne dans un fichier, et retourner le nombre de caractères écrits\n",
    "- `close()` pour fermer le fichier"
   ]
  },
  {
   "cell_type": "code",
   "execution_count": null,
   "id": "c7dffdea",
   "metadata": {},
   "outputs": [
    {
     "ename": "UnsupportedOperation",
     "evalue": "not readable",
     "output_type": "error",
     "traceback": [
      "\u001b[31m---------------------------------------------------------------------------\u001b[39m",
      "\u001b[31mUnsupportedOperation\u001b[39m                      Traceback (most recent call last)",
      "\u001b[36mCell\u001b[39m\u001b[36m \u001b[39m\u001b[32mIn[54]\u001b[39m\u001b[32m, line 5\u001b[39m\n\u001b[32m      2\u001b[39m f = \u001b[38;5;28mopen\u001b[39m(\u001b[33m'\u001b[39m\u001b[33mnom_fichier.txt\u001b[39m\u001b[33m'\u001b[39m, \u001b[33m'\u001b[39m\u001b[33mw\u001b[39m\u001b[33m'\u001b[39m)\n\u001b[32m      4\u001b[39m \u001b[38;5;66;03m# Lit le fichier entier\u001b[39;00m\n\u001b[32m----> \u001b[39m\u001b[32m5\u001b[39m contenu = \u001b[43mf\u001b[49m\u001b[43m.\u001b[49m\u001b[43mread\u001b[49m\u001b[43m(\u001b[49m\u001b[43m)\u001b[49m\n\u001b[32m      7\u001b[39m \u001b[38;5;66;03m# Lit une ligne à la fois\u001b[39;00m\n\u001b[32m      8\u001b[39m ligne = f.readline()\n",
      "\u001b[31mUnsupportedOperation\u001b[39m: not readable"
     ]
    }
   ],
   "source": [
    "# Modes de fichier (2ème argument) : 'r'(lecture), 'w'(écriture), 'a'(ajout), 'r+'(lecture et écriture)\n",
    "f = open('nom_fichier.txt', 'w')"
   ]
  },
  {
   "cell_type": "code",
   "execution_count": null,
   "id": "49671f34",
   "metadata": {},
   "outputs": [],
   "source": [
    "# Lit le fichier entier\n",
    "contenu = f.read()"
   ]
  },
  {
   "cell_type": "code",
   "execution_count": null,
   "id": "4411a33e",
   "metadata": {},
   "outputs": [],
   "source": [
    "# Lit une ligne à la fois\n",
    "ligne = f.readline()\n"
   ]
  },
  {
   "cell_type": "code",
   "execution_count": null,
   "id": "6d193c36",
   "metadata": {},
   "outputs": [],
   "source": [
    "\n",
    "# Écrit la chaîne dans le fichier, retournant le nombre de caractères écrits\n",
    "f.write('Ajouter cette ligne.')\n"
   ]
  },
  {
   "cell_type": "code",
   "execution_count": null,
   "id": "60bf6cf1",
   "metadata": {},
   "outputs": [],
   "source": [
    "\n",
    "# Ferme le fichier\n",
    "f.close()"
   ]
  },
  {
   "cell_type": "markdown",
   "id": "468c70ad",
   "metadata": {},
   "source": [
    "Le deuxième argument dans la fonction `open()` est le mode de fichier. Il vous permet de spécifier si vous voulez lire (r), écrire (w), ajouter (a) ou à la fois lire et écrire (r+).\n",
    "\n",
    "**Exemple pratique de manipulation de fichiers :**\n"
   ]
  },
  {
   "cell_type": "code",
   "execution_count": null,
   "id": "57f740e8",
   "metadata": {},
   "outputs": [],
   "source": [
    "# Écriture dans un fichier\n",
    "with open('exemple.txt', 'w') as fichier:\n",
    "    fichier.write('Bonjour, monde!\\n')\n",
    "    fichier.write('Ceci est une deuxième ligne.\\n')\n",
    "\n",
    "# Lecture d'un fichier\n",
    "with open('exemple.txt', 'r') as fichier:\n",
    "    contenu = fichier.read()\n",
    "    print(contenu)\n",
    "    # Bonjour, monde!\n",
    "    # Ceci est une deuxième ligne.\n",
    "\n",
    "# Lecture ligne par ligne\n",
    "with open('exemple.txt', 'r') as fichier:\n",
    "    for ligne in fichier:\n",
    "        print(ligne.strip())  # strip() supprime les caractères de nouvelle ligne\n",
    "    # Bonjour, monde!\n",
    "    # Ceci est une deuxième ligne.\n",
    "\n",
    "# Ajout à un fichier existant\n",
    "with open('exemple.txt', 'a') as fichier:\n",
    "    fichier.write('Cette ligne est ajoutée.\\n')"
   ]
  },
  {
   "cell_type": "markdown",
   "id": "153bfb5d",
   "metadata": {},
   "source": [
    "**Bonnes pratiques pour les fichiers :**\n",
    "\n",
    "L'utilisation de l'instruction `with` est recommandée car elle garantit que le fichier sera fermé automatiquement même en cas d'erreur :\n"
   ]
  },
  {
   "cell_type": "code",
   "execution_count": null,
   "id": "5793a0bc",
   "metadata": {},
   "outputs": [],
   "source": [
    "# Recommandé\n",
    "with open('fichier.txt', 'r') as f:\n",
    "    contenu = f.read()\n",
    "    # Le fichier est automatiquement fermé après le bloc with\n",
    "\n",
    "# Moins recommandé (nécessite une fermeture manuelle)\n",
    "f = open('fichier.txt', 'r')\n",
    "contenu = f.read()\n",
    "f.close()  # Il faut se rappeler de fermer le fichier"
   ]
  },
  {
   "cell_type": "markdown",
   "id": "db8256d7",
   "metadata": {},
   "source": [
    "**Gestion des erreurs avec les fichiers :**"
   ]
  },
  {
   "cell_type": "code",
   "execution_count": null,
   "id": "e056ef96",
   "metadata": {},
   "outputs": [],
   "source": [
    "try:\n",
    "    with open('fichier_inexistant.txt', 'r') as f:\n",
    "        contenu = f.read()\n",
    "except FileNotFoundError:\n",
    "    print(\"Le fichier n'existe pas!\")\n",
    "except IOError:\n",
    "    print(\"Erreur lors de la lecture du fichier!\")"
   ]
  },
  {
   "cell_type": "markdown",
   "id": "a4d2c173",
   "metadata": {},
   "source": [
    "\n",
    "Pour en savoir plus sur la gestion des fichiers en Python, consultez la documentation officielle de Python."
   ]
  },
  {
   "cell_type": "markdown",
   "id": "8549c8a2",
   "metadata": {},
   "source": [
    "\n",
    "\n",
    "<div id=\"section6\"></div>\n",
    "<a href=\"#toc\" style=\"background-color: #E1B12D; color: #ffffff; padding: 7px 15px; text-decoration: none; border-radius: 50px;\">Retour en haut</a>\n",
    "\n",
    "<h2 style=\"color: #3498DB; font-family: 'Segoe UI', Arial, sans-serif; font-size: 1.8em; border-bottom: 2px solid #3498DB; padding-bottom: 5px; margin-top: 40px;\">\n",
    "    VI. Structures de données avancées\n",
    "</h2>\n",
    "\n",
    "<div id=\"section6a\"></div>\n",
    "<h3 style=\"color: #E67E22; font-family: 'Segoe UI', Arial, sans-serif; font-size: 1.4em; margin-top: 30px;\">\n",
    "    Piles (Stacks)\n",
    "</h3>\n",
    "\n",
    "<figure style=\"padding: 1em; text-align: center;\">\n",
    "    <img src=\"https://miro.medium.com/v2/resize:fit:720/format:webp/1*94WHkzbioLxCXYSnDZpa2Q.png\" width=\"500\" height=\"200\" alt=\"Pile LIFO\">\n",
    "    <figcaption style=\"font-size: 0.9em; color: #3498db; margin-top: 0.5em;\">\n",
    "        <i>Principe LIFO (Last In, First Out)</i>\n",
    "    </figcaption>\n",
    "</figure>\n",
    "\n",
    "Une pile est un conteneur d'objets qui sont insérés et supprimés selon le concept **LIFO** (Last-In-First-Out). Pensez à une pile d'assiettes lors d'un dîner : les assiettes sont toujours ajoutées ou supprimées du haut de la pile."
   ]
  },
  {
   "cell_type": "markdown",
   "id": "6f78ea6e",
   "metadata": {},
   "source": [
    "**Bas -> 1 -> 2 -> 3 -> 4 -> 5 (Haut)**"
   ]
  },
  {
   "cell_type": "code",
   "execution_count": null,
   "id": "eb0ce485",
   "metadata": {},
   "outputs": [
    {
     "name": "stdout",
     "output_type": "stream",
     "text": [
      "[1, 2, 3, 4, 5, 6]\n"
     ]
    }
   ],
   "source": [
    "pile = [1, 2, 3, 4, 5]\n",
    "pile.append(6)  # Ajouter au sommet\n",
    "print(pile)"
   ]
  },
  {
   "cell_type": "markdown",
   "id": "93af6b5f",
   "metadata": {},
   "source": [
    "Supprimer du sommet:"
   ]
  },
  {
   "cell_type": "code",
   "execution_count": null,
   "id": "59039225",
   "metadata": {},
   "outputs": [
    {
     "name": "stdout",
     "output_type": "stream",
     "text": [
      "[1, 2, 3, 4]\n"
     ]
    }
   ],
   "source": [
    "pile.pop()  # Supprime 6\n",
    "pile.pop()  # Supprime 5\n",
    "print(pile)"
   ]
  },
  {
   "cell_type": "markdown",
   "id": "789ec898",
   "metadata": {},
   "source": [
    "<div id=\"section6b\"></div>\n",
    "<h3 style=\"color: #E67E22; font-family: 'Segoe UI', Arial, sans-serif; font-size: 1.4em; margin-top: 30px;\">\n",
    "    Files (Queues)\n",
    "</h3>\n",
    "\n",
    "Une file est un conteneur d'objets qui sont insérés et supprimés selon le principe **FIFO** (First-In-First-Out). Un excellent exemple de file dans le monde réel est la file d'attente à un guichet où les personnes sont servies selon leur ordre d'arrivée.\n",
    "\n",
    "**Note :** Les listes ne sont pas efficaces pour implémenter une file, car `append()` et `pop()` depuis la fin d'une liste ne sont pas rapides et entraînent un coût de déplacement mémoire."
   ]
  },
  {
   "cell_type": "markdown",
   "id": "0d22b5ff",
   "metadata": {},
   "source": [
    "<div id=\"section6c\"></div>\n",
    "<h3 style=\"color: #E67E22; font-family: 'Segoe UI', Arial, sans-serif; font-size: 1.4em; margin-top: 30px;\">\n",
    "    Graphes (Graphs)\n",
    "</h3>\n",
    "\n",
    "Un graphe en mathématiques et en informatique est un réseau composé de nœuds (aussi appelés sommets) qui peuvent ou non être connectés entre eux. Les lignes ou le chemin qui connecte deux nœuds est appelé une arête.\n",
    "\n",
    "\n",
    "**Implémentation simple d'un graphe avec un dictionnaire:**"
   ]
  },
  {
   "cell_type": "code",
   "execution_count": 83,
   "id": "c65d6b2e",
   "metadata": {},
   "outputs": [],
   "source": [
    "graphe = {\n",
    "    \"a\": [\"c\", \"d\"],\n",
    "    \"b\": [\"d\", \"e\"],\n",
    "    \"c\": [\"a\", \"e\"],\n",
    "    \"d\": [\"a\", \"b\"],\n",
    "    \"e\": [\"b\", \"c\"]\n",
    "}"
   ]
  },
  {
   "cell_type": "code",
   "execution_count": null,
   "id": "2a4ccb32",
   "metadata": {},
   "outputs": [
    {
     "name": "stdout",
     "output_type": "stream",
     "text": [
      "[('a', 'c'), ('a', 'd'), ('b', 'd'), ('b', 'e'), ('c', 'a'), ('c', 'e'), ('d', 'a'), ('d', 'b'), ('e', 'b'), ('e', 'c')]\n"
     ]
    }
   ],
   "source": [
    "def definir_aretes(graphe):\n",
    "    aretes = []\n",
    "    for sommet in graphe:\n",
    "        for voisin in graphe[sommet]:\n",
    "            aretes.append((sommet, voisin))\n",
    "    return aretes\n",
    "\n",
    "print(definir_aretes(graphe))"
   ]
  },
  {
   "cell_type": "markdown",
   "id": "20005b2a",
   "metadata": {},
   "source": [
    "<div id=\"section6d\"></div>\n",
    "<h3 style=\"color: #E67E22; font-family: 'Segoe UI', Arial, sans-serif; font-size: 1.4em; margin-top: 30px;\">\n",
    "    Arbres (Trees)\n",
    "</h3>\n",
    "\n",
    "Un arbre dans le monde réel est un être vivant avec ses racines dans le sol et les branches qui portent les feuilles. \n",
    "\n",
    "En informatique, les arbres sont utilisés pour décrire comment les données sont parfois organisées, sauf que la racine est au sommet et les branches se répandent vers le bas."
   ]
  },
  {
   "cell_type": "code",
   "execution_count": null,
   "id": "fc23777c",
   "metadata": {},
   "outputs": [],
   "source": [
    "class Arbre:\n",
    "    def __init__(self, info, gauche=None, droite=None):\n",
    "        self.info = info\n",
    "        self.gauche = gauche\n",
    "        self.droite = droite\n",
    "    \n",
    "    def __str__(self):\n",
    "        return (str(self.info) + \n",
    "                ', Enfant gauche: ' + str(self.gauche) + \n",
    "                ', Enfant droit: ' + str(self.droite))"
   ]
  },
  {
   "cell_type": "code",
   "execution_count": null,
   "id": "de24b048",
   "metadata": {},
   "outputs": [],
   "source": [
    "# Création d'un arbre\n",
    "arbre = Arbre(1, Arbre(2, 2.1, 2.2), Arbre(3, 3.1))\n",
    "print(arbre)"
   ]
  }
 ],
 "metadata": {
  "kernelspec": {
   "display_name": "base",
   "language": "python",
   "name": "python3"
  },
  "language_info": {
   "codemirror_mode": {
    "name": "ipython",
    "version": 3
   },
   "file_extension": ".py",
   "mimetype": "text/x-python",
   "name": "python",
   "nbconvert_exporter": "python",
   "pygments_lexer": "ipython3",
   "version": "3.12.9"
  }
 },
 "nbformat": 4,
 "nbformat_minor": 5
}
