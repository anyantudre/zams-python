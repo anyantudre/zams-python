{
 "cells": [
  {
   "cell_type": "markdown",
   "id": "5cae78de",
   "metadata": {},
   "source": [
    "<a id=\"toc\"></a>\n",
    "<div style=\"background-color:rgb(27, 40, 54); padding: 20px; border-radius: 10px; margin-bottom: 30px;\">\n",
    "    <h1 style=\"color: white; font-family: 'Segoe UI', Arial, sans-serif; font-size: 2.8em; text-align: center; margin: 0;\">\n",
    "        Programmation Orientée Objet en Python\n",
    "    </h1>\n",
    "    <p style=\"color:rgb(242, 255, 0); font-family: 'Segoe UI', Arial, sans-serif; font-size: 1.2em; text-align: center; margin-top: 10px; font-style: italic;\">\n",
    "        Classes, objets, encapsulation, héritage, abstraction et polymorphisme.\n",
    "    </p>\n",
    "</div>\n",
    "\n",
    "<figure style=\"padding: 1em; text-align: center;\">\n",
    "    <img src=\"https://d24f1whwu8r3u4.cloudfront.net/assets/book-covers/oo_python-b047e1dc5c9e6dad9f616422c0a4a5bfecfc1cbd4cd4b4024ca183dc69a73447.png\" width=\"600\" height=\"600\" alt=\"Programmation Orientée Objet Python\">\n",
    "    <figcaption style=\"font-size: 0.9em; color: #3498db; margin-top: 0.5em;\">\n",
    "        <i>La programmation orientée objet en Python</i>\n",
    "    </figcaption>\n",
    "</figure>\n",
    "\n",
    "\n",
    "**La programmation orientée objet (POO)** en Python vous aide à structurer votre code en regroupant les données et comportements connexes en objets. Vous commencez par définir des classes, qui agissent comme des plans directeurs, puis créez des objets à partir de celles-ci. La POO simplifie la modélisation de concepts du monde réel dans vos programmes et vous permet de créer des systèmes plus réutilisables et évolutifs.\n",
    "\n",
    "À la fin de ce chapitre, vous comprendrez que :\n",
    "- La programmation orientée objet en Python implique la création de classes comme plans directeurs pour les objets. Ces objets contiennent des données et les méthodes nécessaires pour manipuler ces données.\n",
    "- Les quatre concepts clés de la POO en Python sont l'encapsulation, l'héritage, l'abstraction et le polymorphisme.\n",
    "- Vous créez un objet en Python en instanciant une classe, ce qui implique d'appeler le nom de la classe suivi de parenthèses.\n",
    "- L'héritage de classe en Python permet à une classe d'hériter des attributs et méthodes d'une autre classe, connue sous le nom de classe parente.\n",
    "- Vous utilisez `super()` en Python pour appeler une méthode de la classe parente, vous permettant d'étendre ou de modifier le comportement hérité.\n",
    "\n",
    "Vous explorerez comment définir des classes, instancier des classes pour créer des objets, et exploiter l'héritage pour construire des systèmes robustes en Python.\n",
    "\n",
    "\n",
    "<div style=\"background-color:rgb(27, 40, 54); padding: 15px; border-radius: 5px; margin-bottom: 30px;\">\n",
    "    <h2 style=\"color:rgb(255, 255, 255); font-family: 'Segoe UI', Arial, sans-serif; font-size: 1.5em; border-bottom: 2px solid #3498DB; padding-bottom: 5px;\">\n",
    "        Table des matières 📑\n",
    "    </h2>\n",
    "    <ul style=\"font-family: 'Segoe UI', Arial, sans-serif; font-size: 1.1em;\">\n",
    "        <li><a href=\"#section1\" style=\"color: #3498DB; text-decoration: none;\">I. Qu'est-ce que la programmation orientée objet en Python ?</a></li>\n",
    "        <li><a href=\"#section2\" style=\"color: #3498DB; text-decoration: none;\">II. Comment définir une classe en Python ?</a></li>\n",
    "        <li><a href=\"#section3\" style=\"color: #3498DB; text-decoration: none;\">III. Classes vs Instances</a></li>\n",
    "        <li><a href=\"#section4\" style=\"color: #3498DB; text-decoration: none;\">IV. Comment instancier une classe en Python ?</a></li>\n",
    "        <li><a href=\"#section5\" style=\"color: #3498DB; text-decoration: none;\">V. Attributs de classe et d'instance</a></li>\n",
    "        <li><a href=\"#section6\" style=\"color: #3498DB; text-decoration: none;\">VI. Méthodes d'instance</a></li>\n",
    "    </ul>\n",
    "</div>"
   ]
  },
  {
   "cell_type": "markdown",
   "id": "ce83ffcf",
   "metadata": {},
   "source": [
    "<figure style=\"padding: 1em; text-align: center;\">\n",
    "    <img src=\"https://thinkr.fr/wp-content/uploads/oop-meme-what-happen.png\" width=\"1000\" height=\"400\" alt=\"Concepts POO\">\n",
    "    <figcaption style=\"font-size: 0.9em; color: #3498db; margin-top: 0.5em;\">\n",
    "        <i>Meme</i>\n",
    "    </figcaption>\n",
    "</figure>"
   ]
  },
  {
   "cell_type": "markdown",
   "id": "18fa5e5c",
   "metadata": {},
   "source": [
    "\n",
    "<div id=\"section1\"></div>\n",
    "<h2 style=\"color: #3498DB; font-family: 'Segoe UI', Arial, sans-serif; font-size: 1.8em; border-bottom: 2px solid #3498DB; padding-bottom: 5px; margin-top: 40px;\">\n",
    "    Introduction\n",
    "</h2>\n",
    "\n",
    "<h3 style=\"color: #E67E22; font-family: 'Segoe UI', Arial, sans-serif; font-size: 1.4em; margin-top: 30px;\">\n",
    "    Quick intro\n",
    "</h3>\n",
    "\n",
    "**La programmation orientée objet (POO)** est un concept de programmation très puissant qui permet de structurer ses programmes d’une nouvelle manière. En POO, on définit un « objet » qui peut contenir des « attributs » ainsi que des « méthodes » qui agissent sur lui-même. \n",
    "\n",
    "Par exemple, on définit un objet « citron » qui contient les attributs « saveur » et « couleur », ainsi qu’une méthode « presser » permettant d’en extraire le jus. En Python, on utilise une « classe » pour construire un objet.\n",
    "\n",
    "On rentrera dans ces déatils par la suite.\n",
    "\n",
    "<figure style=\"padding: 1em; text-align: center;\">\n",
    "    <img src=\"http://www.science-du-numerique.fr/wp-content/uploads/2022/04/Python-classe-objet.png\" width=\"800\" height=\"400\" alt=\"Concepts POO\">\n",
    "    <figcaption style=\"font-size: 0.9em; color: #3498db; margin-top: 0.5em;\">\n",
    "        <i>POO</i>\n",
    "    </figcaption>\n",
    "</figure>\n",
    "\n",
    "\n",
    "<h3 style=\"color: #E67E22; font-family: 'Segoe UI', Arial, sans-serif; font-size: 1.4em; margin-top: 30px;\">\n",
    "    Programmation procédurale vs POO\n",
    "</h3>\n",
    "\n",
    "Le schéma suivant montre la différence entre une approche procédurale et une approche orientée objet. En programmation orienté objet, on associe aux objets des actions (appelées méthodes).\n",
    "Par exemple, à l'objet livre on va associer les actions retour du livre, prêt du livre, etc.\n",
    "\n",
    "Les avantages d'une telle approche sont :\n",
    "- On peut utiliser des objets sans savoir comment ils sont programmés.\n",
    "- On peut aussi modifier les instructions qui décrivent les actions sur les objets sans modifier le programme qui les utilise.\n",
    "- Les objets sont ainsi facilement réutilisables dans d'autres programmes.\n",
    "\n",
    "Nous allons préciser les terminologies suivantes : classe, objet, méthode, etc. par la suite\n",
    "Retenez déjà que :\n",
    "- La définition d'un objet et de ses méthodes est appelée une classe\n",
    "- A partir d'une classe, on peut définir plusieurs objets. Chaque objet s'appelle une instance de la classe.\n",
    "\n",
    "\n",
    "<figure style=\"padding: 1em; text-align: center;\">\n",
    "    <img src=\"https://atika.cohen.web.ulb.be/cours/cours_programmation_cohen/res/poo_pp.jpg\" width=\"800\" height=\"500\" alt=\"Concepts POO\">\n",
    "    <figcaption style=\"font-size: 0.9em; color: #3498db; margin-top: 0.5em;\">\n",
    "        <i>POO</i>\n",
    "    </figcaption>\n",
    "</figure>"
   ]
  },
  {
   "cell_type": "markdown",
   "id": "138f4472",
   "metadata": {},
   "source": [
    "\n",
    "<div id=\"section1\"></div>\n",
    "<h2 style=\"color: #3498DB; font-family: 'Segoe UI', Arial, sans-serif; font-size: 1.8em; border-bottom: 2px solid #3498DB; padding-bottom: 5px; margin-top: 40px;\">\n",
    "    I. Qu'est-ce que la programmation orientée objet en Python ?\n",
    "</h2>\n",
    "\n",
    "La programmation orientée objet est un paradigme de programmation qui fournit un moyen de structurer les programmes de sorte que les propriétés et comportements soient regroupés dans des objets individuels.\n",
    "\n",
    "Par exemple, un objet pourrait représenter une personne avec des propriétés comme un nom, un âge et une adresse, et des comportements comme marcher, parler, respirer et courir. Ou il pourrait représenter un email avec des propriétés comme une liste de destinataires, un sujet et un corps, et des comportements comme ajouter des pièces jointes et envoyer.\n",
    "\n",
    "Autrement dit, la programmation orientée objet est une approche pour modéliser des choses concrètes du monde réel, comme des voitures, ainsi que des relations entre les choses, comme les entreprises et employés ou étudiants et enseignants. \n",
    "\n",
    "\n",
    "**La POO modélise les entités du monde réel comme des objets logiciels qui ont des données associées et peuvent effectuer certaines opérations.**\n",
    "\n",
    "\n",
    "<figure style=\"padding: 1em; text-align: center;\">\n",
    "    <img src=\"https://1.bp.blogspot.com/--zuontioJCQ/XW2yWyFb9aI/AAAAAAAAG7U/YM0PLzETG0MFCELkTab-WnTUpXZLnmdUACLcBGAs/s1600/poo.png\" width=\"600\" height=\"400\" alt=\"Concepts POO\">\n",
    "    <figcaption style=\"font-size: 0.9em; color: #3498db; margin-top: 0.5em;\">\n",
    "        <i>Les quatre piliers de la programmation orientée objet</i>\n",
    "    </figcaption>\n",
    "</figure>\n",
    "\n",
    "\n",
    "\n",
    "La POO existe aussi dans d'autres langages de programmation et est souvent décrite comme centrée autour de quatre piliers, ou quatre principes de la POO:"
   ]
  },
  {
   "cell_type": "markdown",
   "id": "954d4c5f",
   "metadata": {},
   "source": [
    "\n",
    "<div id=\"section1a\"></div>\n",
    "<h3 style=\"color: #E67E22; font-family: 'Segoe UI', Arial, sans-serif; font-size: 1.4em; margin-top: 30px;\">\n",
    "    Encapsulation\n",
    "</h3>\n",
    "\n",
    "L'**encapsulation** vous permet de regrouper des données (attributs) et des comportements (méthodes) au sein d'une classe pour créer une unité cohérente. En définissant des méthodes pour contrôler l'accès aux attributs et leur modification, l'encapsulation aide à maintenir l'intégrité des données et favorise un code modulaire et sécurisé.\n",
    "\n",
    "<figure style=\"padding: 1em; text-align: center;\">\n",
    "    <img src=\"https://www.data-transitionnumerique.com/wp-content/uploads/2021/03/encapsulation.webp\" width=\"600\" height=\"400\" alt=\"Concepts POO\">\n",
    "    <figcaption style=\"font-size: 0.9em; color: #3498db; margin-top: 0.5em;\">\n",
    "        <i>Encapsulation</i>\n",
    "    </figcaption>\n",
    "</figure>"
   ]
  },
  {
   "cell_type": "markdown",
   "id": "901a13be",
   "metadata": {},
   "source": [
    "<div id=\"section1b\"></div>\n",
    "<h3 style=\"color: #E67E22; font-family: 'Segoe UI', Arial, sans-serif; font-size: 1.4em; margin-top: 30px;\">\n",
    "    Héritage\n",
    "</h3>\n",
    "\n",
    "L'**héritage** permet la création de relations hiérarchiques entre les classes, permettant à une sous-classe d'hériter des attributs et méthodes d'une classe parente. Cela favorise la réutilisation de code et réduit la duplication.\n",
    "\n",
    "<figure style=\"padding: 1em; text-align: center;\">\n",
    "    <img src=\"https://perso.esiee.fr/~perretb/I3FM/POO1/_images/demo.svg\" width=\"700\" height=\"500\" alt=\"Concepts POO\">\n",
    "    <figcaption style=\"font-size: 0.9em; color: #3498db; margin-top: 0.5em;\">\n",
    "        <i>Héritage</i>\n",
    "    </figcaption>\n",
    "</figure>"
   ]
  },
  {
   "cell_type": "markdown",
   "id": "f4624034",
   "metadata": {},
   "source": [
    "\n",
    "<div id=\"section1c\"></div>\n",
    "<h3 style=\"color: #E67E22; font-family: 'Segoe UI', Arial, sans-serif; font-size: 1.4em; margin-top: 30px;\">\n",
    "    Abstraction\n",
    "</h3>\n",
    "\n",
    "\n",
    "L'**abstraction** se concentre sur la dissimulation des détails d'implémentation et n'expose que la fonctionnalité essentielle d'un objet. En imposant une interface cohérente, l'abstraction simplifie les interactions avec les objets, permettant aux développeurs de se concentrer sur ce qu'un objet fait plutôt que sur comment il accomplit sa fonctionnalité."
   ]
  },
  {
   "cell_type": "markdown",
   "id": "d63f8c5e",
   "metadata": {},
   "source": [
    "<div id=\"section1d\"></div>\n",
    "<h3 style=\"color: #E67E22; font-family: 'Segoe UI', Arial, sans-serif; font-size: 1.4em; margin-top: 30px;\">\n",
    "    Polymorphisme\n",
    "</h3>\n",
    "\n",
    "Le **polymorphisme** vous permet de traiter des objets de différents types comme des instances du même type de base, tant qu'ils implémentent une interface ou un comportement commun. Le typage canard de Python le rend particulièrement adapté au polymorphisme, car il vous permet d'accéder aux attributs et méthodes sur les objets sans vous soucier de leur classe réelle."
   ]
  },
  {
   "cell_type": "markdown",
   "id": "2acf7817",
   "metadata": {},
   "source": [
    "On va essayer d'adopter une approche pratique, intuitive et simple pour comprendre la POO en Python. Mais garder ces quatre concepts de programmation orientée objet à l'esprit.\n",
    "\n",
    "Le point clé à retenir est que les objets sont au centre de la programmation orientée objet en Python. Dans d'autres paradigmes de programmation, les objets ne représentent que les données. En POO, ils informent également la structure globale du programme."
   ]
  },
  {
   "cell_type": "markdown",
   "id": "1cc3d824",
   "metadata": {},
   "source": [
    "<div id=\"section2\"></div>\n",
    "<a href=\"#toc\" style=\"background-color: #E1B12D; color: #ffffff; padding: 7px 15px; text-decoration: none; border-radius: 50px;\">Retour en haut</a>\n",
    "\n",
    "<h2 style=\"color: #3498DB; font-family: 'Segoe UI', Arial, sans-serif; font-size: 1.8em; border-bottom: 2px solid #3498DB; padding-bottom: 5px; margin-top: 40px;\">\n",
    "    II. Comment définir une classe en Python ?\n",
    "</h2>\n",
    "\n",
    "En Python, vous définissez une classe en utilisant le mot-clé `class` suivi d'un nom et de deux points. Ensuite, vous utilisez `.__init__()` pour déclarer quels attributs chaque instance de la classe devrait avoir :"
   ]
  },
  {
   "cell_type": "code",
   "execution_count": 41,
   "id": "53011f3c",
   "metadata": {},
   "outputs": [],
   "source": [
    "class Employee:\n",
    "    def __init__(self, name, age):\n",
    "        self.name = name\n",
    "        self.age = age"
   ]
  },
  {
   "cell_type": "markdown",
   "id": "63cd414c",
   "metadata": {},
   "source": [
    "\n",
    "Mais que signifie tout cela ? Et pourquoi avez-vous même besoin de classes en premier lieu ? Prenez du recul et considérez l'utilisation de structures de données primitives intégrées comme alternative.\n",
    "\n",
    "Les structures de données primitives - comme les nombres, chaînes et listes - sont conçues pour représenter des informations simples, comme le coût d'une pomme, le nom d'un poème, ou vos couleurs favorites, respectivement. Et si vous voulez représenter quelque chose de plus complexe ?\n",
    "\n",
    "Par exemple, vous pourriez vouloir suivre les employés dans une organisation. Vous devez stocker des informations de base sur chaque employé, comme leur nom, âge, poste et l'année où ils ont commencé à travailler.\n",
    "\n",
    "Une façon de faire cela est de représenter chaque employé comme une liste :\n"
   ]
  },
  {
   "cell_type": "code",
   "execution_count": 42,
   "id": "6d9e8ea6",
   "metadata": {},
   "outputs": [],
   "source": [
    "kirk  = [\"James Kirk\", 34, \"Capitaine\", 2265]\n",
    "spock = [\"Spock\", 35, \"Officier Scientifique\", 2254]\n",
    "mccoy = [\"Leonard McCoy\", \"Médecin-chef\", 2266]"
   ]
  },
  {
   "cell_type": "markdown",
   "id": "bb632362",
   "metadata": {},
   "source": [
    "\n",
    "Il y a plusieurs problèmes avec cette approche.\n",
    "\n",
    "- Premièrement, cela peut rendre les gros fichiers de code plus difficiles à gérer. Si vous référencez `kirk[0]` plusieurs lignes après avoir déclaré la liste `kirk`, vous rappellerez-vous que l'élément avec l'index 0 est le nom de l'employé ?\n",
    "\n",
    "- Deuxièmement, cela peut introduire des erreurs si les employés n'ont pas le même nombre d'éléments dans leurs listes respectives. Dans la liste `mccoy` ci-dessus, l'âge manque, donc `mccoy[1]` retournera \"Médecin-chef\" au lieu de l'âge du Dr McCoy.\n",
    "\n",
    "Un excellent moyen de rendre ce type de code plus gérable et plus maintenable est d'utiliser des classes."
   ]
  },
  {
   "cell_type": "markdown",
   "id": "3401d2fd",
   "metadata": {},
   "source": [
    "<div id=\"section3\"></div>\n",
    "<a href=\"#toc\" style=\"background-color: #E1B12D; color: #ffffff; padding: 7px 15px; text-decoration: none; border-radius: 50px;\">Retour en haut</a>\n",
    "\n",
    "<h2 style=\"color: #3498DB; font-family: 'Segoe UI', Arial, sans-serif; font-size: 1.8em; border-bottom: 2px solid #3498DB; padding-bottom: 5px; margin-top: 40px;\">\n",
    "    III. Classes vs Instances\n",
    "</h2>\n",
    "\n",
    "<figure style=\"padding: 1em; text-align: center;\">\n",
    "    <img src=\"https://i.sstatic.net/lNUAA.png\" width=\"800\" height=\"300\" alt=\"Classe vs Instance\">\n",
    "    <figcaption style=\"font-size: 0.9em; color: #3498db; margin-top: 0.5em;\">\n",
    "        <i>Différence entre classe et instance</i>\n",
    "    </figcaption>\n",
    "</figure>\n",
    "\n",
    "Les classes vous permettent de créer des structures de données définies par l'utilisateur. Les classes définissent des fonctions appelées méthodes, qui identifient les comportements et actions qu'un objet créé à partir de la classe peut effectuer avec ses données.\n",
    "\n",
    "On va créer une classe *Dog* qui stocke des informations sur les caractéristiques et comportements qu'un chien individuel peut avoir.\n",
    "\n",
    "- Une classe est un plan directeur pour définir quelque chose. Elle ne contient en fait aucune donnée. La classe Dog spécifie qu'un nom et un âge sont nécessaires pour définir un chien, mais elle ne contient pas le nom ou l'âge d'un chien spécifique.\n",
    "\n",
    "- Alors qu'une classe est le plan directeur, une instance est un objet qui est construit à partir d'une classe et contient des données réelles. Une instance de la classe Dog n'est plus un plan directeur. C'est un chien réel avec un nom, comme Miles, qui a quatre ans.\n",
    "\n",
    "Autrement dit, une classe est comme un **formulaire ou questionnaire.**\n",
    "\n",
    "Une instance est comme un formulaire que vous avez rempli avec des informations. Tout comme plusieurs personnes peuvent remplir le même formulaire avec leurs propres informations uniques, vous pouvez créer plusieurs instances à partir d'une seule classe."
   ]
  },
  {
   "cell_type": "markdown",
   "id": "0e94146d",
   "metadata": {},
   "source": [
    "<div id=\"section3a\"></div>\n",
    "<h3 style=\"color: #E67E22; font-family: 'Segoe UI', Arial, sans-serif; font-size: 1.4em; margin-top: 30px;\">\n",
    "    Définition de classe\n",
    "</h3>\n",
    "\n",
    "Vous commencez toutes les définitions de classe avec le mot-clé `class`, puis ajoutez le nom de la classe et un deux-points. Python considérera tout code que vous indentez sous la définition de classe comme faisant partie du corps de la classe.\n",
    "\n",
    "Voici un exemple d'une classe Dog :"
   ]
  },
  {
   "cell_type": "code",
   "execution_count": 43,
   "id": "8d09c8fe",
   "metadata": {},
   "outputs": [],
   "source": [
    "class Dog:\n",
    "    pass"
   ]
  },
  {
   "cell_type": "markdown",
   "id": "52f5db7f",
   "metadata": {},
   "source": [
    "Le corps de la classe `Dog` consiste en une seule instruction : le mot-clé `pass`. Les programmeurs Python utilisent souvent `pass` comme espace réservé indiquant où le code ira éventuellement. Il vous permet d'exécuter ce code sans que Python génère une erreur.\n",
    "\n",
    "<div style=\"background-color: #3498db; padding: 10px; border-radius: 5px; margin: 15px 0;\">\n",
    "    <p style=\"color: white; margin: 0; font-weight: bold;\">💡 Convention de nommage :</p>\n",
    "    <p style=\"color: white; margin: 5px 0 0 0;\">Les noms de classes Python sont écrits en notation MotsCapitalisés par convention. Par exemple, une classe pour une race spécifique de chien, comme le Jack Russell Terrier, serait écrite comme <code>JackRussellTerrier</code>.</p>\n",
    "</div>\n",
    "\n",
    "La classe `Dog` n'est pas très intéressante pour l'instant, donc vous l'améliorerez un peu en définissant quelques propriétés que tous les objets `Dog` devraient avoir. Il y a plusieurs propriétés que vous pouvez choisir, notamment le nom, l'âge, la couleur du pelage et la race. Pour garder l'exemple de portée réduite, vous utiliserez seulement le nom et l'âge.\n",
    "\n",
    "Vous définissez les propriétés que tous les objets `Dog` doivent avoir dans une méthode appelée `.__init__()`. \n",
    "\n",
    "**Chaque fois que vous créez un nouvel objet `Dog`, `.__init__()` définit l'état initial de l'objet en assignant les valeurs des propriétés de l'objet.** C'est-à-dire que `.__init__()` initialise chaque nouvelle instance de la classe.\n",
    "\n",
    "Vous pouvez donner à `.__init__()` n'importe quel nombre de paramètres, mais le premier paramètre sera toujours une variable appelée `self`. **Quand vous créez une nouvelle instance de classe, Python passe automatiquement l'instance au paramètre `self` dans `.__init__()` pour que Python puisse définir les nouveaux attributs sur l'objet.**\n",
    "\n",
    "Mettez à jour la classe `Dog` avec une méthode `.__init__()` qui crée les attributs `.name` et `.age` :"
   ]
  },
  {
   "cell_type": "code",
   "execution_count": 44,
   "id": "98ff7476",
   "metadata": {},
   "outputs": [],
   "source": [
    "class Dog:\n",
    "    def __init__(self, name, age):\n",
    "        self.name = name\n",
    "        self.age = age"
   ]
  },
  {
   "cell_type": "markdown",
   "id": "816be934",
   "metadata": {},
   "source": [
    "Assurez-vous d'indenter la signature de la méthode `.__init__()` de quatre espaces, et le corps de la méthode de huit espaces. Cette indentation est vitalement importante. Elle indique à Python que la méthode `.__init__()` appartient à la classe `Dog`.\n",
    "\n",
    "Dans le corps de `.__init__()`, il y a deux instructions utilisant la variable `self` :\n",
    "\n",
    "- `self.name = name` crée un attribut appelé `name` et lui assigne la valeur du paramètre `name`.\n",
    "- `self.age = age` crée un attribut appelé `age` et lui assigne la valeur du paramètre `age`.\n",
    "\n",
    "Les attributs créés dans `.__init__()` sont appelés **attributs d'instance**. La valeur d'un attribut d'instance est spécifique à une instance particulière de la classe. Tous les objets `Dog` ont un nom et un âge, mais les valeurs pour les attributs nom et âge varieront selon l'instance `Dog`.\n",
    "\n",
    "D'un autre côté, les **attributs de classe** sont des attributs qui ont la même valeur pour toutes les instances de classe. Vous pouvez définir un attribut de classe en assignant une valeur à un nom de variable en dehors de `.__init__()`.\n",
    "\n",
    "Par exemple, la classe `Dog` suivante a un attribut de classe appelé `species` avec la valeur `\"Canis familiaris\"` :"
   ]
  },
  {
   "cell_type": "code",
   "execution_count": 45,
   "id": "2d53b0fb",
   "metadata": {},
   "outputs": [],
   "source": [
    "class Dog:\n",
    "    species = \"Berger allemand\"\n",
    "    \n",
    "    def __init__(self, name, age):\n",
    "        self.name = name\n",
    "        self.age = age"
   ]
  },
  {
   "cell_type": "markdown",
   "id": "c1be426a",
   "metadata": {},
   "source": [
    "Vous définissez les attributs de classe directement sous la première ligne du nom de classe et les indentez de quatre espaces. Vous devez toujours leur assigner une valeur initiale. Quand vous créez une instance de la classe, Python crée automatiquement et assigne les attributs de classe à leurs valeurs initiales.\n",
    "\n",
    "- **Utilisez les attributs de classe** pour définir des propriétés qui devraient avoir la même valeur pour chaque instance de classe. \n",
    "- **Utilisez les attributs d'instance** pour les propriétés qui varient d'une instance à une autre.\n",
    "\n",
    "Maintenant que vous avez une classe `Dog`, il est temps de créer quelques chiens !"
   ]
  },
  {
   "cell_type": "markdown",
   "id": "71af29c8",
   "metadata": {},
   "source": [
    "<div id=\"section4\"></div>\n",
    "<a href=\"#toc\" style=\"background-color: #E1B12D; color: #ffffff; padding: 7px 15px; text-decoration: none; border-radius: 50px;\">Retour en haut</a>\n",
    "\n",
    "<h2 style=\"color: #3498DB; font-family: 'Segoe UI', Arial, sans-serif; font-size: 1.8em; border-bottom: 2px solid #3498DB; padding-bottom: 5px; margin-top: 40px;\">\n",
    "    IV. Comment instancier une classe en Python ?\n",
    "</h2>\n",
    "\n",
    "Créer un nouvel objet à partir d'une classe s'appelle **instancier une classe**. Vous pouvez créer un nouvel objet en tapant le nom de la classe, suivi de parenthèses ouvrantes et fermantes :"
   ]
  },
  {
   "cell_type": "code",
   "execution_count": 46,
   "id": "53bac674",
   "metadata": {},
   "outputs": [],
   "source": [
    "class Dog:\n",
    "    pass"
   ]
  },
  {
   "cell_type": "code",
   "execution_count": 47,
   "id": "459c7f77",
   "metadata": {},
   "outputs": [
    {
     "data": {
      "text/plain": [
       "<__main__.Dog at 0x2a6cc65b5c0>"
      ]
     },
     "execution_count": 47,
     "metadata": {},
     "output_type": "execute_result"
    }
   ],
   "source": [
    "Dog()"
   ]
  },
  {
   "cell_type": "markdown",
   "id": "ed7c2c13",
   "metadata": {},
   "source": [
    "Vous créez d'abord une nouvelle classe `Dog` sans attributs ni méthodes, puis vous instanciez la classe `Dog` pour créer un objet `Dog`.\n",
    "\n",
    "Dans la sortie ci-dessus, vous pouvez voir que vous avez maintenant un nouvel objet `Dog` à `0x106702d30`. Cette chaîne d'apparence étrange de lettres et de nombres est une adresse mémoire qui indique où Python stocke l'objet `Dog` dans la mémoire de votre ordinateur. Notez que l'adresse sur votre écran sera différente.\n",
    "\n",
    "Maintenant instanciez la classe `Dog` une seconde fois pour créer un autre objet `Dog` :\n",
    "\n",
    "\n",
    "La nouvelle instance `Dog` est située à une adresse mémoire différente. C'est parce que c'est une instance entièrement nouvelle et est complètement unique du premier objet `Dog` que vous avez créé.\n",
    "\n",
    "Pour voir cela d'une autre manière, tapez ce qui suit :\n"
   ]
  },
  {
   "cell_type": "code",
   "execution_count": 48,
   "id": "d5748270",
   "metadata": {},
   "outputs": [
    {
     "data": {
      "text/plain": [
       "False"
      ]
     },
     "execution_count": 48,
     "metadata": {},
     "output_type": "execute_result"
    }
   ],
   "source": [
    "a = Dog()\n",
    "b = Dog()\n",
    "a == b"
   ]
  },
  {
   "cell_type": "code",
   "execution_count": 49,
   "id": "c4519a7b",
   "metadata": {},
   "outputs": [],
   "source": [
    "class Dog:\n",
    "    def __init__(self, name, age):\n",
    "        self.name = name\n",
    "        self.age = age"
   ]
  },
  {
   "cell_type": "code",
   "execution_count": 50,
   "id": "26d3b7ed",
   "metadata": {},
   "outputs": [
    {
     "data": {
      "text/plain": [
       "<__main__.Dog at 0x2a6cc4dfe00>"
      ]
     },
     "execution_count": 50,
     "metadata": {},
     "output_type": "execute_result"
    }
   ],
   "source": [
    "mon_chien = Dog(name=\"Milou\", age=2)\n",
    "mon_chien"
   ]
  },
  {
   "cell_type": "markdown",
   "id": "21633906",
   "metadata": {},
   "source": [
    "Dans ce code, vous créez deux nouveaux objets `Dog` et les assignez aux variables `a` et `b`. Quand vous comparez `a` et `b` en utilisant l'opérateur `==`, le résultat est `False`. Même si `a` et `b` sont tous deux des instances de la classe `Dog`, ils représentent deux objets distincts en mémoire.\n",
    "\n",
    "<div id=\"section5\"></div>\n",
    "<a href=\"#toc\" style=\"background-color: #E1B12D; color: #ffffff; padding: 7px 15px; text-decoration: none; border-radius: 50px;\">Retour en haut</a>\n",
    "\n",
    "<h2 style=\"color: #3498DB; font-family: 'Segoe UI', Arial, sans-serif; font-size: 1.8em; border-bottom: 2px solid #3498DB; padding-bottom: 5px; margin-top: 40px;\">\n",
    "    V. Attributs de classe et d'instance\n",
    "</h2>\n",
    "\n",
    "<figure style=\"padding: 1em; text-align: center;\">\n",
    "    <img src=\"https://www-inf.telecom-sudparis.eu/cours/CSC4002/EnLigne/Cours/CoursUML/Figures/attributs_operations_classe.png\" width=\"800\" height=\"400\" alt=\"Attributs de classe et d'instance\">\n",
    "    <figcaption style=\"font-size: 0.9em; color: #3498db; margin-top: 0.5em;\">\n",
    "        <i>Attributs de classe vs attributs d'instance</i>\n",
    "    </figcaption>\n",
    "</figure>\n",
    "\n",
    "Maintenant créez une nouvelle classe `Dog` avec un attribut de classe appelé `.species` et deux attributs d'instance appelés `.name` et `.age`:"
   ]
  },
  {
   "cell_type": "code",
   "execution_count": 51,
   "id": "4b156403",
   "metadata": {},
   "outputs": [],
   "source": [
    "class Dog:\n",
    "    species = \"berger allemand\"\n",
    "    def __init__(self, name, age):\n",
    "        self.name = name\n",
    "        self.age = age"
   ]
  },
  {
   "cell_type": "markdown",
   "id": "f67f995d",
   "metadata": {},
   "source": [
    "Pour instancier cette classe `Dog`, vous devez fournir des valeurs pour `name` et `age`. Si vous ne le faites pas, Python génère une `TypeError` :"
   ]
  },
  {
   "cell_type": "code",
   "execution_count": 52,
   "id": "dbbc698a",
   "metadata": {},
   "outputs": [
    {
     "ename": "TypeError",
     "evalue": "Dog.__init__() missing 2 required positional arguments: 'name' and 'age'",
     "output_type": "error",
     "traceback": [
      "\u001b[31m---------------------------------------------------------------------------\u001b[39m",
      "\u001b[31mTypeError\u001b[39m                                 Traceback (most recent call last)",
      "\u001b[36mCell\u001b[39m\u001b[36m \u001b[39m\u001b[32mIn[52]\u001b[39m\u001b[32m, line 2\u001b[39m\n\u001b[32m      1\u001b[39m \u001b[38;5;66;03m# ca va donner une erreur\u001b[39;00m\n\u001b[32m----> \u001b[39m\u001b[32m2\u001b[39m \u001b[43mDog\u001b[49m\u001b[43m(\u001b[49m\u001b[43m)\u001b[49m\n",
      "\u001b[31mTypeError\u001b[39m: Dog.__init__() missing 2 required positional arguments: 'name' and 'age'"
     ]
    }
   ],
   "source": [
    "# ca va donner une erreur\n",
    "Dog()"
   ]
  },
  {
   "cell_type": "markdown",
   "id": "80ed4e55",
   "metadata": {},
   "source": [
    "Pour passer des arguments aux paramètres `name` et `age`, mettez des valeurs dans les parenthèses après le nom de la classe :"
   ]
  },
  {
   "cell_type": "code",
   "execution_count": null,
   "id": "820b51f2",
   "metadata": {},
   "outputs": [],
   "source": [
    "miles = Dog(\"Miles\", 4)\n",
    "buddy = Dog(\"Buddy\", 9)"
   ]
  },
  {
   "cell_type": "markdown",
   "id": "12a8f261",
   "metadata": {},
   "source": [
    "Ceci crée deux nouvelles instances `Dog` - une pour un chien de quatre ans nommé Miles et une pour un chien de neuf ans nommé Buddy.\n",
    "\n",
    "La méthode `.__init__()` de la classe `Dog` a trois paramètres, alors pourquoi ne passez-vous que deux arguments dans l'exemple ?\n",
    "\n",
    "Quand vous instanciez la classe `Dog`, Python crée une nouvelle instance de `Dog` et la passe au premier paramètre de `.__init__()`. Ceci supprime essentiellement le paramètre `self`, donc vous n'avez qu'à vous soucier des paramètres `name` et `age`.\n",
    "\n",
    "Après avoir créé les instances `Dog`, vous pouvez accéder à leurs attributs d'instance en utilisant la notation pointée:"
   ]
  },
  {
   "cell_type": "code",
   "execution_count": null,
   "id": "660d9110",
   "metadata": {},
   "outputs": [
    {
     "data": {
      "text/plain": [
       "'Miles'"
      ]
     },
     "execution_count": 18,
     "metadata": {},
     "output_type": "execute_result"
    }
   ],
   "source": [
    "miles.name"
   ]
  },
  {
   "cell_type": "code",
   "execution_count": null,
   "id": "1bdba3b9",
   "metadata": {},
   "outputs": [
    {
     "data": {
      "text/plain": [
       "4"
      ]
     },
     "execution_count": 19,
     "metadata": {},
     "output_type": "execute_result"
    }
   ],
   "source": [
    "miles.age"
   ]
  },
  {
   "cell_type": "code",
   "execution_count": null,
   "id": "aaa2ebec",
   "metadata": {},
   "outputs": [
    {
     "data": {
      "text/plain": [
       "'Buddy'"
      ]
     },
     "execution_count": 20,
     "metadata": {},
     "output_type": "execute_result"
    }
   ],
   "source": [
    "buddy.name"
   ]
  },
  {
   "cell_type": "code",
   "execution_count": null,
   "id": "2c61ea32",
   "metadata": {},
   "outputs": [
    {
     "data": {
      "text/plain": [
       "9"
      ]
     },
     "execution_count": 21,
     "metadata": {},
     "output_type": "execute_result"
    }
   ],
   "source": [
    "buddy.age"
   ]
  },
  {
   "cell_type": "markdown",
   "id": "dec9e0a3",
   "metadata": {},
   "source": [
    "Vous pouvez accéder aux attributs de classe de la même manière :"
   ]
  },
  {
   "cell_type": "code",
   "execution_count": null,
   "id": "ea9aad2c",
   "metadata": {},
   "outputs": [
    {
     "data": {
      "text/plain": [
       "'Canis familiaris'"
      ]
     },
     "execution_count": 22,
     "metadata": {},
     "output_type": "execute_result"
    }
   ],
   "source": [
    "buddy.species"
   ]
  },
  {
   "cell_type": "markdown",
   "id": "cab24e6f",
   "metadata": {},
   "source": [
    "Un des plus gros avantages de l'utilisation de classes pour organiser les données est que les instances sont garanties d'avoir les attributs que vous attendez. Toutes les instances `Dog` ont les attributs `.species`, `.name`, et `.age`, donc vous pouvez utiliser ces attributs avec confiance, sachant qu'ils retourneront toujours une valeur.\n",
    "\n",
    "Bien que les attributs soient garantis d'exister, leurs valeurs peuvent changer dynamiquement :"
   ]
  },
  {
   "cell_type": "code",
   "execution_count": null,
   "id": "1d7bea60",
   "metadata": {},
   "outputs": [
    {
     "data": {
      "text/plain": [
       "10"
      ]
     },
     "execution_count": 23,
     "metadata": {},
     "output_type": "execute_result"
    }
   ],
   "source": [
    "buddy.age = 10\n",
    "buddy.age"
   ]
  },
  {
   "cell_type": "code",
   "execution_count": null,
   "id": "e910df6b",
   "metadata": {},
   "outputs": [
    {
     "data": {
      "text/plain": [
       "'Felis silvestris'"
      ]
     },
     "execution_count": 24,
     "metadata": {},
     "output_type": "execute_result"
    }
   ],
   "source": [
    "miles.species = \"Felis silvestris\"\n",
    "miles.species"
   ]
  },
  {
   "cell_type": "markdown",
   "id": "aad99c1c",
   "metadata": {},
   "source": [
    "Dans cet exemple, vous changez l'attribut `.age` de l'objet `buddy` à 10. Ensuite, vous changez l'attribut `.species` de l'objet `miles` à `\"Felis silvestris\"`, qui est une espèce de chat. Cela fait de Miles un chien assez étrange, mais c'est du Python valide !\n",
    "\n",
    "Le point clé à retenir ici est que les objets personnalisés sont mutables par défaut. Un objet est mutable si vous pouvez le modifier dynamiquement. Par exemple, les listes et dictionnaires sont mutables, mais les chaînes et tuples sont immuables.\n"
   ]
  },
  {
   "cell_type": "markdown",
   "id": "e491c455",
   "metadata": {},
   "source": [
    "<div id=\"section6\"></div>\n",
    "<a href=\"#toc\" style=\"background-color: #E1B12D; color: #ffffff; padding: 7px 15px; text-decoration: none; border-radius: 50px;\">Retour en haut</a>\n",
    "\n",
    "<h2 style=\"color: #3498DB; font-family: 'Segoe UI', Arial, sans-serif; font-size: 1.8em; border-bottom: 2px solid #3498DB; padding-bottom: 5px; margin-top: 40px;\">\n",
    "    VI. Méthodes d'instance\n",
    "</h2>\n",
    "\n",
    "<figure style=\"padding: 1em; text-align: center;\">\n",
    "    <img src=\"https://miro.medium.com/v2/resize:fit:1400/1*E1JfxZz9YKhV8HfP8OGiuA.png\" width=\"550\" height=\"300\" alt=\"Méthodes Python\">\n",
    "    <figcaption style=\"font-size: 0.9em; color: #3498db; margin-top: 0.5em;\">\n",
    "        <i>Méthodes d'instance en Python</i>\n",
    "    </figcaption>\n",
    "</figure>\n",
    "\n",
    "Les **méthodes d'instance** sont des fonctions que vous définissez à l'intérieur d'une classe et ne pouvez appeler que sur une instance de cette classe. Tout comme `.__init__()`, une méthode d'instance prend toujours `self` comme premier paramètre.\n",
    "\n",
    "Voici la classe `Dog` avec quelques méthodes d'instance :"
   ]
  },
  {
   "cell_type": "code",
   "execution_count": null,
   "id": "b1afb3d4",
   "metadata": {},
   "outputs": [],
   "source": [
    "class Dog:\n",
    "    species = \"Canis familiaris\"\n",
    "    \n",
    "    def __init__(self, name, age):\n",
    "        self.name = name\n",
    "        self.age = age\n",
    "    \n",
    "    # Méthode d'instance\n",
    "    def description(self):\n",
    "        return f\"{self.name} a {self.age} ans\"\n",
    "    \n",
    "    # Une autre méthode d'instance\n",
    "    def bark(self, sound):\n",
    "        return f\"{self.name} barks {sound}\""
   ]
  },
  {
   "cell_type": "markdown",
   "id": "f41f66f6",
   "metadata": {},
   "source": [
    "Cette classe `Dog` a deux méthodes d'instance :\n",
    "\n",
    "- `.description()` retourne une chaîne affichant le nom et l'âge du chien.\n",
    "- `.bark()` a un paramètre appelé `sound` et retourne une chaîne contenant le nom du chien et le son que le chien fait.\n",
    "\n",
    "Voyons ces méthodes d'instance en action :"
   ]
  },
  {
   "cell_type": "code",
   "execution_count": null,
   "id": "77de7417",
   "metadata": {},
   "outputs": [
    {
     "data": {
      "text/plain": [
       "'Miles a 4 ans'"
      ]
     },
     "execution_count": 27,
     "metadata": {},
     "output_type": "execute_result"
    }
   ],
   "source": [
    "miles = Dog(\"Miles\", 4)\n",
    "miles.description()"
   ]
  },
  {
   "cell_type": "code",
   "execution_count": null,
   "id": "b2120d27",
   "metadata": {},
   "outputs": [
    {
     "data": {
      "text/plain": [
       "'Miles barks Woof Woof'"
      ]
     },
     "execution_count": 28,
     "metadata": {},
     "output_type": "execute_result"
    }
   ],
   "source": [
    "miles.bark(\"Woof Woof\")"
   ]
  },
  {
   "cell_type": "code",
   "execution_count": null,
   "id": "06b704e1",
   "metadata": {},
   "outputs": [
    {
     "data": {
      "text/plain": [
       "'Miles barks Ouaf Ouaf'"
      ]
     },
     "execution_count": 29,
     "metadata": {},
     "output_type": "execute_result"
    }
   ],
   "source": [
    "miles.bark(\"Ouaf Ouaf\")"
   ]
  },
  {
   "cell_type": "markdown",
   "id": "ad2974ab",
   "metadata": {},
   "source": [
    "Dans la classe `Dog` ci-dessus, `.description()` retourne une chaîne contenant des informations sur l'instance `Dog` miles. Quand vous écrivez vos propres classes, c'est une bonne idée d'avoir une méthode qui retourne une chaîne contenant des informations utiles sur une instance de la classe. Cependant, `.description()` n'est pas la façon la plus Pythonique de faire cela."
   ]
  },
  {
   "cell_type": "markdown",
   "id": "40759ec6",
   "metadata": {},
   "source": [
    "<div id=\"section6a\"></div>\n",
    "<h3 style=\"color: #E67E22; font-family: 'Segoe UI', Arial, sans-serif; font-size: 1.4em; margin-top: 30px;\">\n",
    "    La méthode spéciale __str__()\n",
    "</h3>\n",
    "\n",
    "Quand vous créez un objet liste, vous pouvez utiliser `print()` pour afficher une chaîne qui ressemble à la liste :\n"
   ]
  },
  {
   "cell_type": "code",
   "execution_count": null,
   "id": "9f39d56f",
   "metadata": {},
   "outputs": [
    {
     "name": "stdout",
     "output_type": "stream",
     "text": [
      "['Miles', 'Buddy', 'Jack']\n"
     ]
    }
   ],
   "source": [
    "names = [\"Miles\", \"Buddy\", \"Jack\"]\n",
    "print(names)"
   ]
  },
  {
   "cell_type": "markdown",
   "id": "c6169bfd",
   "metadata": {},
   "source": [
    "Essayez d'imprimer l'objet `miles` pour voir quelle sortie vous obtenez :\n"
   ]
  },
  {
   "cell_type": "code",
   "execution_count": null,
   "id": "e9a484a1",
   "metadata": {},
   "outputs": [
    {
     "name": "stdout",
     "output_type": "stream",
     "text": [
      "<__main__.Dog object at 0x000002A6CC673DA0>\n"
     ]
    }
   ],
   "source": [
    "print(miles)"
   ]
  },
  {
   "cell_type": "markdown",
   "id": "1c487416",
   "metadata": {},
   "source": [
    "Quand vous imprimez `miles`, vous obtenez un message d'apparence cryptique vous disant que `miles` est un objet `Dog` à l'adresse mémoire `0x00aeff70`. Ce message n'est pas très utile. Vous pouvez changer ce qui est imprimé en définissant une méthode d'instance spéciale appelée `.__str__()`.\n",
    "\n",
    "Changez le nom de la méthode `.description()` de la classe `Dog` en `.__str__()` :"
   ]
  },
  {
   "cell_type": "code",
   "execution_count": null,
   "id": "1c749d53",
   "metadata": {},
   "outputs": [],
   "source": [
    "class Dog:\n",
    "    species = \"Canis familiaris\"\n",
    "    \n",
    "    def __init__(self, name, age):\n",
    "        self.name = name\n",
    "        self.age = age\n",
    "    \n",
    "    def __str__(self):\n",
    "        return f\"{self.name} a {self.age} ans\""
   ]
  },
  {
   "cell_type": "markdown",
   "id": "35ee97d6",
   "metadata": {},
   "source": [
    "Sauvegardez le fichier et appuyez sur F5. Maintenant, quand vous imprimez miles, vous obtenez une sortie beaucoup plus amicale :\n"
   ]
  },
  {
   "cell_type": "code",
   "execution_count": null,
   "id": "fbceb1b4",
   "metadata": {},
   "outputs": [
    {
     "name": "stdout",
     "output_type": "stream",
     "text": [
      "<__main__.Dog object at 0x000002A6CC7B6AB0>\n"
     ]
    }
   ],
   "source": [
    "miles = Dog(\"Miles\", 4)\n",
    "print(miles)"
   ]
  },
  {
   "cell_type": "markdown",
   "id": "e14d471f",
   "metadata": {},
   "source": [
    "Les méthodes comme `.__init__()` et `.__str__()` sont appelées méthodes dunder parce qu'elles commencent et finissent par des doubles underscores. Il y a beaucoup de méthodes dunder que vous pouvez utiliser pour personnaliser les classes en Python. Comprendre les méthodes dunder est une partie importante de la maîtrise de la programmation orientée objet en Python, mais pour votre première exploration du sujet, vous vous en tiendrez à ces deux méthodes dunder.\n",
    "\n",
    "**Note :** Consultez \"When Should You Use .__repr__() vs .__str__() in Python?\" pour en apprendre plus sur `.__str__()` et son cousin `.__repr__()`.\n",
    "\n",
    "Quand vous êtes prêt, vous pouvez passer à la section suivante. Là, vous verrez comment pousser vos connaissances un peu plus loin et créer des classes à partir d'autres classes."
   ]
  }
 ],
 "metadata": {
  "kernelspec": {
   "display_name": "base",
   "language": "python",
   "name": "python3"
  },
  "language_info": {
   "codemirror_mode": {
    "name": "ipython",
    "version": 3
   },
   "file_extension": ".py",
   "mimetype": "text/x-python",
   "name": "python",
   "nbconvert_exporter": "python",
   "pygments_lexer": "ipython3",
   "version": "3.12.9"
  }
 },
 "nbformat": 4,
 "nbformat_minor": 5
}
