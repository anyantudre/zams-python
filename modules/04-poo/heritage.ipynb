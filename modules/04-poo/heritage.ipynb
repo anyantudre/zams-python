{
 "cells": [
  {
   "cell_type": "markdown",
   "id": "b56389b2",
   "metadata": {},
   "source": [
    "<a id=\"toc\"></a>\n",
    "<div style=\"background-color:rgb(27, 40, 54); padding: 20px; border-radius: 10px; margin-bottom: 30px;\">\n",
    "    <h1 style=\"color: white; font-family: 'Segoe UI', Arial, sans-serif; font-size: 2.8em; text-align: center; margin: 0;\">\n",
    "        L'Héritage en Python\n",
    "    </h1>\n",
    "    <p style=\"color:rgb(242, 255, 0); font-family: 'Segoe UI', Arial, sans-serif; font-size: 1.2em; text-align: center; margin-top: 10px; font-style: italic;\">\n",
    "        Classes parentes, classes enfants, surcharge et extension de méthodes\n",
    "    </p>\n",
    "</div>\n",
    "\n",
    "<figure style=\"padding: 1em; text-align: center;\">\n",
    "    <img src=\"https://d24f1whwu8r3u4.cloudfront.net/assets/book-covers/oo_python-b047e1dc5c9e6dad9f616422c0a4a5bfecfc1cbd4cd4b4024ca183dc69a73447.png\" width=\"600\" height=\"600\" alt=\"Programmation Orientée Objet Python\">\n",
    "    <figcaption style=\"font-size: 0.9em; color: #3498db; margin-top: 0.5em;\">\n",
    "        <i>La programmation orientée objet en Python</i>\n",
    "    </figcaption>\n",
    "</figure>\n",
    "\n",
    "L'héritage est l'un des piliers fondamentaux de la POO. Imaginez une famille où les enfants héritent naturellement de certains traits de leurs parents - couleur des yeux, taille, talents particuliers.  \n",
    "\n",
    "En programmation, ce principe fonctionne de manière similaire : une classe enfant peut hériter des attributs et méthodes d'une classe parente, tout en ayant la possibilité de les modifier ou d'en ajouter de nouveaux.\n",
    "\n",
    "<div style=\"background-color:rgb(27, 40, 54); padding: 15px; border-radius: 5px; margin-bottom: 30px;\">\n",
    "    <h2 style=\"color:rgb(255, 255, 255); font-family: 'Segoe UI', Arial, sans-serif; font-size: 1.5em; border-bottom: 2px solid #3498DB; padding-bottom: 5px;\">\n",
    "        Table des matières 📑\n",
    "    </h2>\n",
    "    <ul style=\"font-family: 'Segoe UI', Arial, sans-serif; font-size: 1.1em;\">\n",
    "        <li><a href=\"#section1\" style=\"color: #3498DB; text-decoration: none;\">I. Comment hériter d'une autre classe en Python?</a></li>\n",
    "        <li><a href=\"#section2\" style=\"color: #3498DB; text-decoration: none;\">II. Exemple pratique: Le parc à chiens</a></li>\n",
    "        <li><a href=\"#section3\" style=\"color: #3498DB; text-decoration: none;\">III. Classes parentes vs classes enfants</a></li>\n",
    "        <li><a href=\"#section4\" style=\"color: #3498DB; text-decoration: none;\">IV. Extension des fonctionnalités de la classe parente</a></li>\n",
    "        <li><a href=\"#section5\" style=\"color: #3498DB; text-decoration: none;\">V. Utilisation de super() pour accéder à la classe parente</a></li>\n",
    "    </ul>\n",
    "</div>"
   ]
  },
  {
   "cell_type": "markdown",
   "id": "da089c42",
   "metadata": {},
   "source": [
    "<figure style=\"padding: 1em; text-align: center;\">\n",
    "    <img src=\"https://cdn.kastatic.org/ka-perseus-images/096f00d7597a7b640e5675cdd51259a2fdf817f1.png\" width=\"600\" height=\"300\" alt=\"Programmation Orientée Objet Python\">\n",
    "    <figcaption style=\"font-size: 0.9em; color: #3498db; margin-top: 0.5em;\">\n",
    "        <i>Exemple de Pedigrée (analogie Heritage biologie vs Heritage POO)</i>\n",
    "    </figcaption>\n",
    "</figure>"
   ]
  },
  {
   "cell_type": "markdown",
   "id": "409fc71c",
   "metadata": {},
   "source": [
    "<div id=\"section1\"></div>\n",
    "<h2 style=\"color: #3498DB; font-family: 'Segoe UI', Arial, sans-serif; font-size: 1.8em; border-bottom: 2px solid #3498DB; padding-bottom: 5px; margin-top: 40px;\">\n",
    "    I. Comment hériter d'une autre classe en Python ?\n",
    "</h2>\n",
    "\n",
    "**L'héritage** est le processus par lequel une classe prend les attributs et méthodes d'une autre classe. \n",
    "\n",
    "- les classes nouvellement formées sont appelées **classes enfants**, et \n",
    "- les classes dont vous dérivez les classes enfants sont appelées **classes parentes**.\n",
    "\n",
    "Vous héritez d'une classe parente en créant une nouvelle classe et en mettant le nom de la classe parente entre parenthèses :\n",
    "\n",
    "**Syntaxe de base:**"
   ]
  },
  {
   "cell_type": "code",
   "execution_count": 84,
   "id": "b3946697",
   "metadata": {},
   "outputs": [],
   "source": [
    "class Parent:\n",
    "    hair_color = \"noir\"\n",
    "\n",
    "\n",
    "class Child(Parent):\n",
    "    pass"
   ]
  },
  {
   "cell_type": "markdown",
   "id": "9a246fbb",
   "metadata": {},
   "source": [
    "Dans cet exemple minimal, la classe enfant `Child` hérite de la classe parente `Parent`. Parce que les classes enfants reprennent les attributs et méthodes des classes parentes, `Child.hair_color` est également \"    hair_color = \"noir\" sans que vous l'ayez explicitement défini."
   ]
  },
  {
   "cell_type": "code",
   "execution_count": 85,
   "id": "07d9962a",
   "metadata": {},
   "outputs": [
    {
     "data": {
      "text/plain": [
       "'noir'"
      ]
     },
     "execution_count": 85,
     "metadata": {},
     "output_type": "execute_result"
    }
   ],
   "source": [
    "new_child = Child()\n",
    "\n",
    "new_child.hair_color"
   ]
  },
  {
   "cell_type": "markdown",
   "id": "8b821ab6",
   "metadata": {},
   "source": [
    "<figure style=\"padding: 1em; text-align: center;\">\n",
    "    <img src=\"https://www-inf.telecom-sudparis.eu/cours/CSC4002/EnLigne/Cours/CoursUML/Figures/generalisation.png\" width=\"800\" height=\"400\" alt=\"Héritage simple\">\n",
    "    <figcaption style=\"font-size: 0.9em; color: #3498db; margin-top: 0.5em;\">\n",
    "        <i>Exemple d'héritage simple entre classes</i>\n",
    "    </figcaption>\n",
    "</figure>\n",
    "\n",
    "Les classes enfants peuvent **surcharger** ou **étendre** les attributs et méthodes des classes parentes. En d'autres termes, les classes enfants héritent de tous les attributs et méthodes du parent mais peuvent également spécifier des attributs et méthodes qui leur sont propres.\n",
    "\n",
    "Bien que l'analogie ne soit pas parfaite, vous pouvez penser à l'héritage d'objets comme à l'héritage génétique. Vous avez peut-être hérité de la couleur de vos cheveux de vos parents, mais vous pouvez décider de les teindre en violet :"
   ]
  },
  {
   "cell_type": "code",
   "execution_count": 86,
   "id": "f46a068d",
   "metadata": {},
   "outputs": [],
   "source": [
    "class Parent:\n",
    "    hair_color = \"noir\"\n",
    "\n",
    "class Child(Parent):\n",
    "    hair_color = \"jaune\"  # Surcharge de l'attribut parental"
   ]
  },
  {
   "cell_type": "markdown",
   "id": "0ec0b760",
   "metadata": {},
   "source": [
    "Si vous modifiez l'exemple de code comme ceci, alors `Child.hair_color` sera \"jaune\"."
   ]
  },
  {
   "cell_type": "code",
   "execution_count": 87,
   "id": "e34306b6",
   "metadata": {},
   "outputs": [
    {
     "data": {
      "text/plain": [
       "'jaune'"
      ]
     },
     "execution_count": 87,
     "metadata": {},
     "output_type": "execute_result"
    }
   ],
   "source": [
    "new_child = Child()\n",
    "new_child.hair_color"
   ]
  },
  {
   "cell_type": "markdown",
   "id": "eca2f2ad",
   "metadata": {},
   "source": [
    "<div id=\"section2\"></div>\n",
    "<a href=\"#toc\" style=\"background-color: #E1B12D; color: #ffffff; padding: 7px 15px; text-decoration: none; border-radius: 50px;\">Retour en haut</a>\n",
    "\n",
    "<h2 style=\"color: #3498DB; font-family: 'Segoe UI', Arial, sans-serif; font-size: 1.8em; border-bottom: 2px solid #3498DB; padding-bottom: 5px; margin-top: 40px;\">\n",
    "    II. Exemple pratique : Le parc à chiens\n",
    "</h2>\n",
    "\n",
    "Imaginez un instant que vous êtes dans un parc à chiens. Il y a de nombreux chiens de différentes races dans le parc, tous adoptant divers comportements canins.\n",
    "\n",
    "Supposons maintenant que vous vouliez modéliser le parc à chiens avec des classes Python. \n",
    "\n",
    "La classe `Dog` que nous avons vue dans la dernière séance peut distinguer les chiens par nom et âge, mais pas par race.\n",
    "\n",
    "<!-- <figure style=\"padding: 1em; text-align: center;\">\n",
    "    <img src=\"https://files.realpython.com/media/dog-park.png\" width=\"600\" height=\"300\" alt=\"Parc à chiens\">\n",
    "    <figcaption style=\"font-size: 0.9em; color: #3498db; margin-top: 0.5em;\">\n",
    "        <i>Modélisation d'un parc à chiens avec différentes races</i>\n",
    "    </figcaption>\n",
    "</figure> -->"
   ]
  },
  {
   "cell_type": "code",
   "execution_count": 88,
   "id": "c7c63df2",
   "metadata": {},
   "outputs": [],
   "source": [
    "class Dog:\n",
    "    species = \"Canis familiaris\"\n",
    "    \n",
    "    def __init__(self, name, age):\n",
    "        self.name = name\n",
    "        self.age = age"
   ]
  },
  {
   "cell_type": "markdown",
   "id": "ea8b7ecd",
   "metadata": {},
   "source": [
    "Vous pourriez modifier la classe `Dog` en ajoutant un attribut `.breed` :"
   ]
  },
  {
   "cell_type": "code",
   "execution_count": 89,
   "id": "1c51d91a",
   "metadata": {},
   "outputs": [],
   "source": [
    "class Dog:\n",
    "    species = \"Canis familiaris\"\n",
    "    \n",
    "    def __init__(self, name, age, breed):\n",
    "        self.name = name\n",
    "        self.age = age\n",
    "        self.breed = breed\n",
    "    \n",
    "    def __str__(self):\n",
    "        return f\"{self.name} is {self.age} years old\"\n",
    "    \n",
    "    def speak(self, sound):\n",
    "        return f\"{self.name} says {sound}\""
   ]
  },
  {
   "cell_type": "code",
   "execution_count": 90,
   "id": "25450c6e",
   "metadata": {},
   "outputs": [
    {
     "name": "stdout",
     "output_type": "stream",
     "text": [
      "Bobby is 2 years old\n"
     ]
    }
   ],
   "source": [
    "print(Dog(\"Bobby\", 2, \"berger\"))"
   ]
  },
  {
   "cell_type": "markdown",
   "id": "584f2f5e",
   "metadata": {},
   "source": [
    "Maintenant vous pouvez modéliser le parc à chiens en créant différents chiens :\n"
   ]
  },
  {
   "cell_type": "code",
   "execution_count": 91,
   "id": "d2a801c8",
   "metadata": {},
   "outputs": [],
   "source": [
    "miles = Dog(\"Miles\", 4, \"Jack Russell Terrier\")\n",
    "buddy = Dog(\"Buddy\", 9, \"Dachshund\")\n",
    "jack = Dog(\"Jack\", 3, \"Bulldog\")\n",
    "jim = Dog(\"Jim\", 5, \"Bulldog\")"
   ]
  },
  {
   "cell_type": "markdown",
   "id": "b9f3f1d2",
   "metadata": {},
   "source": [
    "\n",
    "Chaque race de chien a des comportements légèrement différents. Par exemple, les bulldogs ont un aboiement grave qui ressemble à \"woof\", mais les teckels ont un aboiement plus aigu qui ressemble plutôt à \"yap\".\n",
    "\n",
    "Le problème avec cette approche est que vous devez fournir une chaîne pour l'argument `sound` de `.speak()` à chaque fois :"
   ]
  },
  {
   "cell_type": "code",
   "execution_count": 92,
   "id": "1dda49ce",
   "metadata": {},
   "outputs": [
    {
     "data": {
      "text/plain": [
       "'Buddy says Yap'"
      ]
     },
     "execution_count": 92,
     "metadata": {},
     "output_type": "execute_result"
    }
   ],
   "source": [
    "buddy.speak(\"Yap\")"
   ]
  },
  {
   "cell_type": "code",
   "execution_count": 93,
   "id": "5aec540c",
   "metadata": {},
   "outputs": [
    {
     "data": {
      "text/plain": [
       "'Jim says Woof'"
      ]
     },
     "execution_count": 93,
     "metadata": {},
     "output_type": "execute_result"
    }
   ],
   "source": [
    "jim.speak(\"Woof\")"
   ]
  },
  {
   "cell_type": "code",
   "execution_count": 94,
   "id": "cb14d00a",
   "metadata": {},
   "outputs": [
    {
     "data": {
      "text/plain": [
       "'Jack says Woof'"
      ]
     },
     "execution_count": 94,
     "metadata": {},
     "output_type": "execute_result"
    }
   ],
   "source": [
    "jack.speak(\"Woof\")"
   ]
  },
  {
   "cell_type": "markdown",
   "id": "858f30fb",
   "metadata": {},
   "source": [
    "\n",
    "C'est répétitif et peu pratique ! L'héritage va nous permettre de résoudre ce problème élégamment.\n",
    "\n",
    "<div id=\"section3\"></div>\n",
    "<a href=\"#toc\" style=\"background-color: #E1B12D; color: #ffffff; padding: 7px 15px; text-decoration: none; border-radius: 50px;\">Retour en haut</a>\n",
    "\n",
    "<h2 style=\"color: #3498DB; font-family: 'Segoe UI', Arial, sans-serif; font-size: 1.8em; border-bottom: 2px solid #3498DB; padding-bottom: 5px; margin-top: 40px;\">\n",
    "    III. Classes parentes vs classes enfants\n",
    "</h2>\n",
    "\n",
    "Dans cette section, nous allons créer une classe enfant pour chacune des trois races mentionnées : Jack Russell Terrier, Teckel et Bulldog.\n",
    "\n",
    "Voici la définition complète de la classe `Dog` que nous utilisons comme classe parente :"
   ]
  },
  {
   "cell_type": "code",
   "execution_count": 1,
   "id": "935c84f7",
   "metadata": {},
   "outputs": [],
   "source": [
    "class Dog:\n",
    "    species = \"Canis familiaris\"\n",
    "    \n",
    "    def __init__(self, name, age):\n",
    "        self.name = name\n",
    "        self.age = age\n",
    "    \n",
    "    def __str__(self):\n",
    "        return f\"{self.name} is {self.age} years old\"\n",
    "    \n",
    "    def speak(self, sound):\n",
    "        return f\"{self.name} says {sound}\""
   ]
  },
  {
   "cell_type": "markdown",
   "id": "021d2051",
   "metadata": {},
   "source": [
    "\n",
    "Pour créer une classe enfant, vous créez une nouvelle classe avec son propre nom puis mettez le nom de la classe parente entre parenthèses :\n"
   ]
  },
  {
   "cell_type": "code",
   "execution_count": 2,
   "id": "86f27a9b",
   "metadata": {},
   "outputs": [],
   "source": [
    "class JackRussellTerrier(Dog):\n",
    "    pass\n",
    "\n",
    "class Dachshund(Dog):\n",
    "    pass\n",
    "\n",
    "class Bulldog(Dog):\n",
    "    pass"
   ]
  },
  {
   "cell_type": "markdown",
   "id": "d5323b95",
   "metadata": {},
   "source": [
    "\n",
    "<div id=\"section3a\"></div>\n",
    "<h3 style=\"color: #E67E22; font-family: 'Segoe UI', Arial, sans-serif; font-size: 1.4em; margin-top: 30px;\">\n",
    "    Création d'instances des classes enfants\n",
    "</h3>\n",
    "\n",
    "Avec les classes enfants définies, vous pouvez maintenant créer des chiens de races spécifiques :\n"
   ]
  },
  {
   "cell_type": "code",
   "execution_count": 3,
   "id": "094097ad",
   "metadata": {},
   "outputs": [],
   "source": [
    "miles = JackRussellTerrier(\"Miles\", 4)\n",
    "buddy = Dachshund(\"Buddy\", 9)\n",
    "jack = Bulldog(\"Jack\", 3)\n",
    "jim = Bulldog(\"Jim\", 5)"
   ]
  },
  {
   "cell_type": "markdown",
   "id": "1ecd6c82",
   "metadata": {},
   "source": [
    "\n",
    "Les instances des classes enfants héritent de tous les attributs et méthodes de la classe parente :"
   ]
  },
  {
   "cell_type": "code",
   "execution_count": 4,
   "id": "f7aac0e6",
   "metadata": {},
   "outputs": [
    {
     "data": {
      "text/plain": [
       "'Canis familiaris'"
      ]
     },
     "execution_count": 4,
     "metadata": {},
     "output_type": "execute_result"
    }
   ],
   "source": [
    "miles.species"
   ]
  },
  {
   "cell_type": "code",
   "execution_count": 5,
   "id": "e1517351",
   "metadata": {},
   "outputs": [
    {
     "data": {
      "text/plain": [
       "'Buddy'"
      ]
     },
     "execution_count": 5,
     "metadata": {},
     "output_type": "execute_result"
    }
   ],
   "source": [
    "buddy.name"
   ]
  },
  {
   "cell_type": "code",
   "execution_count": 6,
   "id": "ce6ee7f8",
   "metadata": {},
   "outputs": [
    {
     "name": "stdout",
     "output_type": "stream",
     "text": [
      "Jack is 3 years old\n"
     ]
    }
   ],
   "source": [
    "print(jack)"
   ]
  },
  {
   "cell_type": "code",
   "execution_count": 7,
   "id": "cc52adef",
   "metadata": {},
   "outputs": [
    {
     "data": {
      "text/plain": [
       "'Jim says Woof'"
      ]
     },
     "execution_count": 7,
     "metadata": {},
     "output_type": "execute_result"
    }
   ],
   "source": [
    "jim.speak(\"Woof\")"
   ]
  },
  {
   "cell_type": "markdown",
   "id": "9019980f",
   "metadata": {},
   "source": [
    "\n",
    "<div id=\"section3b\"></div>\n",
    "<h3 style=\"color: #E67E22; font-family: 'Segoe UI', Arial, sans-serif; font-size: 1.4em; margin-top: 30px;\">\n",
    "    Vérification du type et de l'instance\n",
    "</h3>\n",
    "\n",
    "Pour déterminer à quelle classe appartient un objet donné, vous pouvez utiliser la fonction intégrée `type()` :"
   ]
  },
  {
   "cell_type": "code",
   "execution_count": 8,
   "id": "dc574422",
   "metadata": {},
   "outputs": [
    {
     "data": {
      "text/plain": [
       "__main__.JackRussellTerrier"
      ]
     },
     "execution_count": 8,
     "metadata": {},
     "output_type": "execute_result"
    }
   ],
   "source": [
    "type(miles)"
   ]
  },
  {
   "cell_type": "markdown",
   "id": "7d322199",
   "metadata": {},
   "source": [
    "\n",
    "Pour déterminer si `miles` est aussi une instance de la classe `Dog`, vous pouvez utiliser la fonction intégrée `isinstance()` :"
   ]
  },
  {
   "cell_type": "code",
   "execution_count": 9,
   "id": "41249425",
   "metadata": {},
   "outputs": [
    {
     "data": {
      "text/plain": [
       "True"
      ]
     },
     "execution_count": 9,
     "metadata": {},
     "output_type": "execute_result"
    }
   ],
   "source": [
    "isinstance(miles, Dog)"
   ]
  },
  {
   "cell_type": "code",
   "execution_count": 10,
   "id": "3cc66e9b",
   "metadata": {},
   "outputs": [
    {
     "data": {
      "text/plain": [
       "False"
      ]
     },
     "execution_count": 10,
     "metadata": {},
     "output_type": "execute_result"
    }
   ],
   "source": [
    "isinstance(miles, Bulldog)"
   ]
  },
  {
   "cell_type": "code",
   "execution_count": 11,
   "id": "a3d427dd",
   "metadata": {},
   "outputs": [
    {
     "data": {
      "text/plain": [
       "False"
      ]
     },
     "execution_count": 11,
     "metadata": {},
     "output_type": "execute_result"
    }
   ],
   "source": [
    "isinstance(jack, Dachshund)"
   ]
  },
  {
   "cell_type": "markdown",
   "id": "767df953",
   "metadata": {},
   "source": [
    "\n",
    "**Règle importante :** Tous les objets créés à partir d'une classe enfant sont des instances de la classe parente, bien qu'ils puissent ne pas être des instances d'autres classes enfants.\n",
    "\n",
    "<div id=\"section4\"></div>\n",
    "<a href=\"#toc\" style=\"background-color: #E1B12D; color: #ffffff; padding: 7px 15px; text-decoration: none; border-radius: 50px;\">Retour en haut</a>\n",
    "\n",
    "<h2 style=\"color: #3498DB; font-family: 'Segoe UI', Arial, sans-serif; font-size: 1.8em; border-bottom: 2px solid #3498DB; padding-bottom: 5px; margin-top: 40px;\">\n",
    "    IV. Extension des fonctionnalités de la classe parente\n",
    "</h2>\n",
    "\n",
    "Puisque différentes races de chiens ont des aboiements légèrement différents, nous voulons fournir une valeur par défaut pour l'argument `sound` de leurs méthodes `.speak()` respectives.\n",
    "\n",
    "Pour **surcharger** une méthode définie sur la classe parente, vous définissez une méthode avec le même nom sur la classe enfant :"
   ]
  },
  {
   "cell_type": "code",
   "execution_count": 12,
   "id": "41908f27",
   "metadata": {},
   "outputs": [],
   "source": [
    "class JackRussellTerrier(Dog):\n",
    "    def speak(self, sound=\"Arf\"):\n",
    "        return f\"{self.name} says {sound}\""
   ]
  },
  {
   "cell_type": "markdown",
   "id": "2b4738ed",
   "metadata": {},
   "source": [
    "\n",
    "Maintenant `.speak()` est définie sur la classe `JackRussellTerrier` avec l'argument par défaut pour `sound` défini à \"Arf\".\n",
    "\n",
    "<!-- <figure style=\"padding: 1em; text-align: center;\">\n",
    "    <img src=\"https://files.realpython.com/media/method-override.png\" width=\"500\" height=\"200\" alt=\"Surcharge de méthode\">\n",
    "    <figcaption style=\"font-size: 0.9em; color: #3498db; margin-top: 0.5em;\">\n",
    "        <i>Surcharge de la méthode speak() dans la classe enfant</i>\n",
    "    </figcaption>\n",
    "</figure> -->\n",
    "\n",
    "Vous pouvez maintenant appeler `.speak()` sur une instance de `JackRussellTerrier` sans passer d'argument à `sound` :"
   ]
  },
  {
   "cell_type": "code",
   "execution_count": 13,
   "id": "bf1c2afb",
   "metadata": {},
   "outputs": [],
   "source": [
    "miles = JackRussellTerrier(\"Miles\", 4)"
   ]
  },
  {
   "cell_type": "code",
   "execution_count": 14,
   "id": "2873b177",
   "metadata": {},
   "outputs": [
    {
     "data": {
      "text/plain": [
       "'Miles says Arf'"
      ]
     },
     "execution_count": 14,
     "metadata": {},
     "output_type": "execute_result"
    }
   ],
   "source": [
    "miles.speak()"
   ]
  },
  {
   "cell_type": "code",
   "execution_count": 15,
   "id": "de7c0cfd",
   "metadata": {},
   "outputs": [
    {
     "data": {
      "text/plain": [
       "'Miles says Grrr'"
      ]
     },
     "execution_count": 15,
     "metadata": {},
     "output_type": "execute_result"
    }
   ],
   "source": [
    "miles.speak(\"Grrr\")"
   ]
  },
  {
   "cell_type": "markdown",
   "id": "9b2d20ff",
   "metadata": {},
   "source": [
    "\n",
    "<div id=\"section4a\"></div>\n",
    "<h3 style=\"color: #E67E22; font-family: 'Segoe UI', Arial, sans-serif; font-size: 1.4em; margin-top: 30px;\">\n",
    "    Propagation automatique des changements\n",
    "</h3>\n",
    "\n",
    "Une chose importante à garder à l'esprit concernant l'héritage de classe est que les changements apportés à la classe parente se propagent automatiquement aux classes enfants, tant que l'attribut ou la méthode modifiée n'est pas surchargée dans la classe enfant.\n",
    "\n",
    "Par exemple, si vous modifiez la chaîne retournée par `.speak()` dans la classe `Dog` :\n"
   ]
  },
  {
   "cell_type": "code",
   "execution_count": 16,
   "id": "e209595d",
   "metadata": {},
   "outputs": [],
   "source": [
    "class Dog:\n",
    "    species = \"Canis familiaris\"\n",
    "    \n",
    "    def __init__(self, name, age):\n",
    "        self.name = name\n",
    "        self.age = age\n",
    "    \n",
    "    def __str__(self):\n",
    "        return f\"{self.name} is {self.age} years old\"\n",
    "    \n",
    "    def speak(self, sound):\n",
    "        return f\"{self.name} barks: {sound}\"  # Nouveau format"
   ]
  },
  {
   "cell_type": "code",
   "execution_count": 17,
   "id": "3f2ae98e",
   "metadata": {},
   "outputs": [],
   "source": [
    "# class Bulldog(Dog):\n",
    "#     pass"
   ]
  },
  {
   "cell_type": "markdown",
   "id": "0eeba80f",
   "metadata": {},
   "source": [
    "\n",
    "Maintenant, quand vous créez une nouvelle instance de `Bulldog`, elle utilisera le nouveau format :"
   ]
  },
  {
   "cell_type": "code",
   "execution_count": 18,
   "id": "1d7a54a1",
   "metadata": {},
   "outputs": [
    {
     "data": {
      "text/plain": [
       "'Jim says Woof'"
      ]
     },
     "execution_count": 18,
     "metadata": {},
     "output_type": "execute_result"
    }
   ],
   "source": [
    "jim = Bulldog(\"Jim\", 5)\n",
    "jim.speak(\"Woof\")"
   ]
  },
  {
   "cell_type": "markdown",
   "id": "eaac4907",
   "metadata": {},
   "source": [
    "\n",
    "Cependant, appeler `.speak()` sur une instance de `JackRussellTerrier` n'affichera pas le nouveau style de sortie car nous avons surchargé cette méthode.\n",
    "\n",
    "<div id=\"section5\"></div>\n",
    "<a href=\"#toc\" style=\"background-color: #E1B12D; color: #ffffff; padding: 7px 15px; text-decoration: none; border-radius: 50px;\">Retour en haut</a>\n",
    "\n",
    "<h2 style=\"color: #3498DB; font-family: 'Segoe UI', Arial, sans-serif; font-size: 1.8em; border-bottom: 2px solid #3498DB; padding-bottom: 5px; margin-top: 40px;\">\n",
    "    V. Utilisation de super() pour accéder à la classe parente\n",
    "</h2>\n",
    "\n",
    "Parfois, il est logique de surcharger complètement une méthode d'une classe parente. Mais dans notre cas, nous ne voulons pas que la classe `JackRussellTerrier` perde les modifications que nous pourrions apporter au formatage de la chaîne de sortie de `Dog.speak()`.\n",
    "\n",
    "Vous pouvez accéder à la classe parente depuis l'intérieur d'une méthode d'une classe enfant en utilisant `super()` :\n",
    "\n",
    "<figure style=\"padding: 1em; text-align: center;\">\n",
    "    <img src=\"https://i.ytimg.com/vi/AhS7LbHo3sw/maxresdefault.jpg\" width=\"900\" height=\"500\" alt=\"Fonction super()\">\n",
    "    <figcaption style=\"font-size: 0.9em; color: #3498db; margin-top: 0.5em;\">\n",
    "        <i>Utilisation de super() pour appeler la méthode de la classe parente</i>\n",
    "    </figcaption>\n",
    "</figure>"
   ]
  },
  {
   "cell_type": "code",
   "execution_count": 112,
   "id": "db06b444",
   "metadata": {},
   "outputs": [],
   "source": [
    "class JackRussellTerrier(Dog):\n",
    "    def speak(self, sound=\"Arf\"):\n",
    "        return super().speak(sound)"
   ]
  },
  {
   "cell_type": "markdown",
   "id": "e2f6555f",
   "metadata": {},
   "source": [
    "\n",
    "Quand vous appelez `super().speak(sound)` à l'intérieur de `JackRussellTerrier`, Python recherche dans la classe parente `Dog` une méthode `.speak()` et l'appelle avec la variable `sound`.\n",
    "\n",
    "Maintenant, quand vous appelez `miles.speak()`, vous verrez une sortie reflétant le nouveau formatage de la classe `Dog` :"
   ]
  },
  {
   "cell_type": "code",
   "execution_count": 20,
   "id": "b6f6f15d",
   "metadata": {},
   "outputs": [
    {
     "data": {
      "text/plain": [
       "'Miles says Arf'"
      ]
     },
     "execution_count": 20,
     "metadata": {},
     "output_type": "execute_result"
    }
   ],
   "source": [
    "miles = JackRussellTerrier(\"Miles\", 4)\n",
    "miles.speak()"
   ]
  },
  {
   "cell_type": "markdown",
   "id": "15ee6343",
   "metadata": {},
   "source": [
    "\n",
    "<div id=\"section5a\"></div>\n",
    "<h3 style=\"color: #E67E22; font-family: 'Segoe UI', Arial, sans-serif; font-size: 1.4em; margin-top: 30px;\">\n",
    "    Exemple complet avec toutes les races\n",
    "</h3>\n",
    "\n",
    "Voici un exemple complet avec toutes les races utilisant `super()` :"
   ]
  },
  {
   "cell_type": "code",
   "execution_count": 21,
   "id": "d01612c1",
   "metadata": {},
   "outputs": [],
   "source": [
    "class Dog:\n",
    "    species = \"Canis familiaris\"\n",
    "    \n",
    "    def __init__(self, name, age):\n",
    "        self.name = name\n",
    "        self.age = age\n",
    "    \n",
    "    def __str__(self):\n",
    "        return f\"{self.name} is {self.age} years old\"\n",
    "    \n",
    "    def speak(self, sound):\n",
    "        return f\"{self.name} barks: {sound}\"\n",
    "\n",
    "\n",
    "class JackRussellTerrier(Dog):\n",
    "    def speak(self, sound=\"Arf\"):\n",
    "        return super().speak(sound)\n",
    "\n",
    "\n",
    "class Dachshund(Dog):\n",
    "    def speak(self, sound=\"Yap\"):\n",
    "        return super().speak(sound)\n",
    "\n",
    "\n",
    "class Bulldog(Dog):\n",
    "    def speak(self, sound=\"Woof\"):\n",
    "        return super().speak(sound)"
   ]
  },
  {
   "cell_type": "code",
   "execution_count": 22,
   "id": "4d34bb5c",
   "metadata": {},
   "outputs": [],
   "source": [
    "# Test des classes\n",
    "miles = JackRussellTerrier(\"Miles\", 4)\n",
    "buddy = Dachshund(\"Buddy\", 9)\n",
    "jack = Bulldog(\"Jack\", 3)"
   ]
  },
  {
   "cell_type": "code",
   "execution_count": 23,
   "id": "3c3e9298",
   "metadata": {},
   "outputs": [
    {
     "data": {
      "text/plain": [
       "'Miles barks: Arf'"
      ]
     },
     "execution_count": 23,
     "metadata": {},
     "output_type": "execute_result"
    }
   ],
   "source": [
    "miles.speak()"
   ]
  },
  {
   "cell_type": "code",
   "execution_count": 24,
   "id": "ddccf077",
   "metadata": {},
   "outputs": [
    {
     "data": {
      "text/plain": [
       "'Buddy barks: Yap'"
      ]
     },
     "execution_count": 24,
     "metadata": {},
     "output_type": "execute_result"
    }
   ],
   "source": [
    "buddy.speak()"
   ]
  },
  {
   "cell_type": "code",
   "execution_count": 25,
   "id": "417591d8",
   "metadata": {},
   "outputs": [
    {
     "data": {
      "text/plain": [
       "'Jack barks: Woof'"
      ]
     },
     "execution_count": 25,
     "metadata": {},
     "output_type": "execute_result"
    }
   ],
   "source": [
    "jack.speak()"
   ]
  },
  {
   "cell_type": "markdown",
   "id": "7873e348",
   "metadata": {},
   "source": [
    "\n",
    "**Note importante :** Dans les exemples ci-dessus, la hiérarchie de classes est très simple. La classe `JackRussellTerrier` a une seule classe parente, `Dog`. Dans des exemples du monde réel, la hiérarchie de classes peut devenir assez compliquée. La fonction `super()` fait beaucoup plus que simplement rechercher une méthode ou un attribut dans la classe parente - elle traverse toute la hiérarchie de classes pour trouver une méthode ou un attribut correspondant.\n",
    "\n",
    "\n",
    "<figure style=\"padding: 1em; text-align: center;\">\n",
    "    <img src=\"https://i.ytimg.com/vi/AhS7LbHo3sw/maxresdefault.jpg\" width=\"900\" height=\"500\" alt=\"Fonction super()\">\n",
    "    <figcaption style=\"font-size: 0.9em; color: #3498db; margin-top: 0.5em;\">\n",
    "        <i>Utilisation de super() pour appeler la méthode de la classe parente</i>\n",
    "    </figcaption>\n",
    "</figure>\n",
    "\n",
    "\n",
    "<a href=\"#toc\" style=\"background-color: #E1B12D; color: #ffffff; padding: 7px 15px; text-decoration: none; border-radius: 50px;\">Retour en haut</a>"
   ]
  }
 ],
 "metadata": {
  "kernelspec": {
   "display_name": "base",
   "language": "python",
   "name": "python3"
  },
  "language_info": {
   "codemirror_mode": {
    "name": "ipython",
    "version": 3
   },
   "file_extension": ".py",
   "mimetype": "text/x-python",
   "name": "python",
   "nbconvert_exporter": "python",
   "pygments_lexer": "ipython3",
   "version": "3.12.9"
  }
 },
 "nbformat": 4,
 "nbformat_minor": 5
}
