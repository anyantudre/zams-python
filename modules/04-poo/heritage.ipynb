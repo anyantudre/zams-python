{
 "cells": [
  {
   "cell_type": "markdown",
   "id": "b56389b2",
   "metadata": {},
   "source": [
    "<a id=\"toc\"></a>\n",
    "<div style=\"background-color:rgb(27, 40, 54); padding: 20px; border-radius: 10px; margin-bottom: 30px;\">\n",
    "    <h1 style=\"color: white; font-family: 'Segoe UI', Arial, sans-serif; font-size: 2.8em; text-align: center; margin: 0;\">\n",
    "        L'Héritage en Python\n",
    "    </h1>\n",
    "    <p style=\"color:rgb(242, 255, 0); font-family: 'Segoe UI', Arial, sans-serif; font-size: 1.2em; text-align: center; margin-top: 10px; font-style: italic;\">\n",
    "        Classes parentes, classes enfants, surcharge et extension de méthodes\n",
    "    </p>\n",
    "</div>\n",
    "\n",
    "<figure style=\"padding: 1em; text-align: center;\">\n",
    "    <img src=\"https://files.realpython.com/media/inheritance-concept.png\" width=\"600\" height=\"350\" alt=\"Concept d'héritage\">\n",
    "    <figcaption style=\"font-size: 0.9em; color: #3498db; margin-top: 0.5em;\">\n",
    "        <i>Concept de l'héritage en programmation orientée objet</i>\n",
    "    </figcaption>\n",
    "</figure>\n",
    "\n",
    "L'héritage est l'un des piliers fondamentaux de la programmation orientée objet. Imaginez une famille où les enfants héritent naturellement de certains traits de leurs parents - couleur des yeux, taille, talents particuliers. En programmation, ce principe fonctionne de manière similaire : une classe enfant peut hériter des attributs et méthodes d'une classe parente, tout en ayant la possibilité de les modifier ou d'en ajouter de nouveaux.\n",
    "\n",
    "<div style=\"background-color:rgb(27, 40, 54); padding: 15px; border-radius: 5px; margin-bottom: 30px;\">\n",
    "    <h2 style=\"color:rgb(255, 255, 255); font-family: 'Segoe UI', Arial, sans-serif; font-size: 1.5em; border-bottom: 2px solid #3498DB; padding-bottom: 5px;\">\n",
    "        Table des matières 📑\n",
    "    </h2>\n",
    "    <ul style=\"font-family: 'Segoe UI', Arial, sans-serif; font-size: 1.1em;\">\n",
    "        <li><a href=\"#section1\" style=\"color: #3498DB; text-decoration: none;\">I. Comment hériter d'une autre classe en Python ?</a></li>\n",
    "        <li><a href=\"#section2\" style=\"color: #3498DB; text-decoration: none;\">II. Exemple pratique : Le parc à chiens</a></li>\n",
    "        <li><a href=\"#section3\" style=\"color: #3498DB; text-decoration: none;\">III. Classes parentes vs classes enfants</a></li>\n",
    "        <li><a href=\"#section4\" style=\"color: #3498DB; text-decoration: none;\">IV. Extension des fonctionnalités de la classe parente</a></li>\n",
    "        <li><a href=\"#section5\" style=\"color: #3498DB; text-decoration: none;\">V. Utilisation de super() pour accéder à la classe parente</a></li>\n",
    "    </ul>\n",
    "</div>"
   ]
  },
  {
   "cell_type": "markdown",
   "id": "409fc71c",
   "metadata": {},
   "source": [
    "<div id=\"section1\"></div>\n",
    "<h2 style=\"color: #3498DB; font-family: 'Segoe UI', Arial, sans-serif; font-size: 1.8em; border-bottom: 2px solid #3498DB; padding-bottom: 5px; margin-top: 40px;\">\n",
    "    I. Comment hériter d'une autre classe en Python ?\n",
    "</h2>\n",
    "\n",
    "L'héritage est le processus par lequel une classe prend les attributs et méthodes d'une autre classe. Les classes nouvellement formées sont appelées **classes enfants**, et les classes dont vous dérivez les classes enfants sont appelées **classes parentes**.\n",
    "\n",
    "Vous héritez d'une classe parente en créant une nouvelle classe et en mettant le nom de la classe parente entre parenthèses :\n",
    "\n",
    "**Syntaxe de base :**"
   ]
  },
  {
   "cell_type": "code",
   "execution_count": 1,
   "id": "b3946697",
   "metadata": {},
   "outputs": [],
   "source": [
    "class Parent:\n",
    "    hair_color = \"brown\"\n",
    "\n",
    "class Child(Parent):\n",
    "    pass"
   ]
  },
  {
   "cell_type": "markdown",
   "id": "8b821ab6",
   "metadata": {},
   "source": [
    "\n",
    "Dans cet exemple minimal, la classe enfant `Child` hérite de la classe parente `Parent`. Parce que les classes enfants reprennent les attributs et méthodes des classes parentes, `Child.hair_color` est également \"brown\" sans que vous l'ayez explicitement défini.\n",
    "\n",
    "<figure style=\"padding: 1em; text-align: center;\">\n",
    "    <img src=\"https://files.realpython.com/media/inheritance-simple.png\" width=\"500\" height=\"250\" alt=\"Héritage simple\">\n",
    "    <figcaption style=\"font-size: 0.9em; color: #3498db; margin-top: 0.5em;\">\n",
    "        <i>Exemple d'héritage simple entre classes</i>\n",
    "    </figcaption>\n",
    "</figure>\n",
    "\n",
    "Les classes enfants peuvent **surcharger** ou **étendre** les attributs et méthodes des classes parentes. En d'autres termes, les classes enfants héritent de tous les attributs et méthodes du parent mais peuvent également spécifier des attributs et méthodes qui leur sont propres.\n",
    "\n",
    "Bien que l'analogie ne soit pas parfaite, vous pouvez penser à l'héritage d'objets comme à l'héritage génétique. Vous avez peut-être hérité de la couleur de vos cheveux de vos parents, mais vous pouvez décider de les teindre en violet :"
   ]
  },
  {
   "cell_type": "code",
   "execution_count": 2,
   "id": "f46a068d",
   "metadata": {},
   "outputs": [],
   "source": [
    "class Parent:\n",
    "    hair_color = \"brown\"\n",
    "\n",
    "class Child(Parent):\n",
    "    hair_color = \"purple\"  # Surcharge de l'attribut parental"
   ]
  },
  {
   "cell_type": "markdown",
   "id": "eca2f2ad",
   "metadata": {},
   "source": [
    "\n",
    "Si vous modifiez l'exemple de code comme ceci, alors `Child.hair_color` sera \"purple\".\n",
    "\n",
    "<div id=\"section2\"></div>\n",
    "<a href=\"#toc\" style=\"background-color: #E1B12D; color: #ffffff; padding: 7px 15px; text-decoration: none; border-radius: 50px;\">Retour en haut</a>\n",
    "\n",
    "<h2 style=\"color: #3498DB; font-family: 'Segoe UI', Arial, sans-serif; font-size: 1.8em; border-bottom: 2px solid #3498DB; padding-bottom: 5px; margin-top: 40px;\">\n",
    "    II. Exemple pratique : Le parc à chiens\n",
    "</h2>\n",
    "\n",
    "Imaginez un instant que vous êtes dans un parc à chiens. Il y a de nombreux chiens de différentes races dans le parc, tous adoptant divers comportements canins.\n",
    "\n",
    "Supposons maintenant que vous vouliez modéliser le parc à chiens avec des classes Python. La classe `Dog` que nous avons vue précédemment peut distinguer les chiens par nom et âge, mais pas par race.\n",
    "\n",
    "<figure style=\"padding: 1em; text-align: center;\">\n",
    "    <img src=\"https://files.realpython.com/media/dog-park.png\" width=\"600\" height=\"300\" alt=\"Parc à chiens\">\n",
    "    <figcaption style=\"font-size: 0.9em; color: #3498db; margin-top: 0.5em;\">\n",
    "        <i>Modélisation d'un parc à chiens avec différentes races</i>\n",
    "    </figcaption>\n",
    "</figure>\n",
    "\n",
    "Vous pourriez modifier la classe `Dog` en ajoutant un attribut `.breed` :"
   ]
  },
  {
   "cell_type": "code",
   "execution_count": 3,
   "id": "1c51d91a",
   "metadata": {},
   "outputs": [],
   "source": [
    "class Dog:\n",
    "    species = \"Canis familiaris\"\n",
    "    \n",
    "    def __init__(self, name, age, breed):\n",
    "        self.name = name\n",
    "        self.age = age\n",
    "        self.breed = breed\n",
    "    \n",
    "    def __str__(self):\n",
    "        return f\"{self.name} is {self.age} years old\"\n",
    "    \n",
    "    def speak(self, sound):\n",
    "        return f\"{self.name} says {sound}\""
   ]
  },
  {
   "cell_type": "markdown",
   "id": "584f2f5e",
   "metadata": {},
   "source": [
    "Maintenant vous pouvez modéliser le parc à chiens en créant différents chiens :\n"
   ]
  },
  {
   "cell_type": "code",
   "execution_count": 4,
   "id": "d2a801c8",
   "metadata": {},
   "outputs": [],
   "source": [
    "miles = Dog(\"Miles\", 4, \"Jack Russell Terrier\")\n",
    "buddy = Dog(\"Buddy\", 9, \"Dachshund\")\n",
    "jack = Dog(\"Jack\", 3, \"Bulldog\")\n",
    "jim = Dog(\"Jim\", 5, \"Bulldog\")"
   ]
  },
  {
   "cell_type": "markdown",
   "id": "b9f3f1d2",
   "metadata": {},
   "source": [
    "\n",
    "Chaque race de chien a des comportements légèrement différents. Par exemple, les bulldogs ont un aboiement grave qui ressemble à \"woof\", mais les teckels ont un aboiement plus aigu qui ressemble plutôt à \"yap\".\n",
    "\n",
    "Le problème avec cette approche est que vous devez fournir une chaîne pour l'argument `sound` de `.speak()` à chaque fois :"
   ]
  },
  {
   "cell_type": "code",
   "execution_count": 5,
   "id": "1dda49ce",
   "metadata": {},
   "outputs": [
    {
     "data": {
      "text/plain": [
       "'Jack says Woof'"
      ]
     },
     "execution_count": 5,
     "metadata": {},
     "output_type": "execute_result"
    }
   ],
   "source": [
    "buddy.speak(\"Yap\")   # 'Buddy says Yap'\n",
    "jim.speak(\"Woof\")    # 'Jim says Woof'\n",
    "jack.speak(\"Woof\")   # 'Jack says Woof'"
   ]
  },
  {
   "cell_type": "markdown",
   "id": "858f30fb",
   "metadata": {},
   "source": [
    "\n",
    "C'est répétitif et peu pratique ! L'héritage va nous permettre de résoudre ce problème élégamment.\n",
    "\n",
    "<div id=\"section3\"></div>\n",
    "<a href=\"#toc\" style=\"background-color: #E1B12D; color: #ffffff; padding: 7px 15px; text-decoration: none; border-radius: 50px;\">Retour en haut</a>\n",
    "\n",
    "<h2 style=\"color: #3498DB; font-family: 'Segoe UI', Arial, sans-serif; font-size: 1.8em; border-bottom: 2px solid #3498DB; padding-bottom: 5px; margin-top: 40px;\">\n",
    "    III. Classes parentes vs classes enfants\n",
    "</h2>\n",
    "\n",
    "Dans cette section, nous allons créer une classe enfant pour chacune des trois races mentionnées : Jack Russell Terrier, Teckel et Bulldog.\n",
    "\n",
    "Voici la définition complète de la classe `Dog` que nous utilisons comme classe parente :"
   ]
  },
  {
   "cell_type": "code",
   "execution_count": 6,
   "id": "935c84f7",
   "metadata": {},
   "outputs": [],
   "source": [
    "class Dog:\n",
    "    species = \"Canis familiaris\"\n",
    "    \n",
    "    def __init__(self, name, age):\n",
    "        self.name = name\n",
    "        self.age = age\n",
    "    \n",
    "    def __str__(self):\n",
    "        return f\"{self.name} is {self.age} years old\"\n",
    "    \n",
    "    def speak(self, sound):\n",
    "        return f\"{self.name} says {sound}\""
   ]
  },
  {
   "cell_type": "markdown",
   "id": "021d2051",
   "metadata": {},
   "source": [
    "\n",
    "Pour créer une classe enfant, vous créez une nouvelle classe avec son propre nom puis mettez le nom de la classe parente entre parenthèses :\n"
   ]
  },
  {
   "cell_type": "code",
   "execution_count": 7,
   "id": "86f27a9b",
   "metadata": {},
   "outputs": [],
   "source": [
    "class JackRussellTerrier(Dog):\n",
    "    pass\n",
    "\n",
    "class Dachshund(Dog):\n",
    "    pass\n",
    "\n",
    "class Bulldog(Dog):\n",
    "    pass"
   ]
  },
  {
   "cell_type": "markdown",
   "id": "d5323b95",
   "metadata": {},
   "source": [
    "\n",
    "<div id=\"section3a\"></div>\n",
    "<h3 style=\"color: #E67E22; font-family: 'Segoe UI', Arial, sans-serif; font-size: 1.4em; margin-top: 30px;\">\n",
    "    Création d'instances des classes enfants\n",
    "</h3>\n",
    "\n",
    "Avec les classes enfants définies, vous pouvez maintenant créer des chiens de races spécifiques :\n"
   ]
  },
  {
   "cell_type": "code",
   "execution_count": 8,
   "id": "094097ad",
   "metadata": {},
   "outputs": [],
   "source": [
    "miles = JackRussellTerrier(\"Miles\", 4)\n",
    "buddy = Dachshund(\"Buddy\", 9)\n",
    "jack = Bulldog(\"Jack\", 3)\n",
    "jim = Bulldog(\"Jim\", 5)"
   ]
  },
  {
   "cell_type": "markdown",
   "id": "1ecd6c82",
   "metadata": {},
   "source": [
    "\n",
    "Les instances des classes enfants héritent de tous les attributs et méthodes de la classe parente :"
   ]
  },
  {
   "cell_type": "code",
   "execution_count": 9,
   "id": "f7aac0e6",
   "metadata": {},
   "outputs": [
    {
     "name": "stdout",
     "output_type": "stream",
     "text": [
      "Canis familiaris\n",
      "Buddy\n",
      "Jack is 3 years old\n",
      "Jim says Woof\n"
     ]
    }
   ],
   "source": [
    "print(miles.species)  # 'Canis familiaris'\n",
    "print(buddy.name)     # 'Buddy'\n",
    "print(jack)           # 'Jack is 3 years old'\n",
    "print(jim.speak(\"Woof\"))  # 'Jim says Woof'"
   ]
  },
  {
   "cell_type": "markdown",
   "id": "9019980f",
   "metadata": {},
   "source": [
    "\n",
    "<div id=\"section3b\"></div>\n",
    "<h3 style=\"color: #E67E22; font-family: 'Segoe UI', Arial, sans-serif; font-size: 1.4em; margin-top: 30px;\">\n",
    "    Vérification du type et de l'instance\n",
    "</h3>\n",
    "\n",
    "Pour déterminer à quelle classe appartient un objet donné, vous pouvez utiliser la fonction intégrée `type()` :"
   ]
  },
  {
   "cell_type": "code",
   "execution_count": 10,
   "id": "dc574422",
   "metadata": {},
   "outputs": [
    {
     "name": "stdout",
     "output_type": "stream",
     "text": [
      "<class '__main__.JackRussellTerrier'>\n"
     ]
    }
   ],
   "source": [
    "print(type(miles))  # <class '__main__.JackRussellTerrier'>\n"
   ]
  },
  {
   "cell_type": "markdown",
   "id": "7d322199",
   "metadata": {},
   "source": [
    "\n",
    "Pour déterminer si `miles` est aussi une instance de la classe `Dog`, vous pouvez utiliser la fonction intégrée `isinstance()` :"
   ]
  },
  {
   "cell_type": "code",
   "execution_count": 11,
   "id": "41249425",
   "metadata": {},
   "outputs": [
    {
     "name": "stdout",
     "output_type": "stream",
     "text": [
      "True\n",
      "False\n",
      "False\n"
     ]
    }
   ],
   "source": [
    "\n",
    "print(isinstance(miles, Dog))      # True\n",
    "print(isinstance(miles, Bulldog))  # False\n",
    "print(isinstance(jack, Dachshund)) # False"
   ]
  },
  {
   "cell_type": "markdown",
   "id": "767df953",
   "metadata": {},
   "source": [
    "\n",
    "**Règle importante :** Tous les objets créés à partir d'une classe enfant sont des instances de la classe parente, bien qu'ils puissent ne pas être des instances d'autres classes enfants.\n",
    "\n",
    "<div id=\"section4\"></div>\n",
    "<a href=\"#toc\" style=\"background-color: #E1B12D; color: #ffffff; padding: 7px 15px; text-decoration: none; border-radius: 50px;\">Retour en haut</a>\n",
    "\n",
    "<h2 style=\"color: #3498DB; font-family: 'Segoe UI', Arial, sans-serif; font-size: 1.8em; border-bottom: 2px solid #3498DB; padding-bottom: 5px; margin-top: 40px;\">\n",
    "    IV. Extension des fonctionnalités de la classe parente\n",
    "</h2>\n",
    "\n",
    "Puisque différentes races de chiens ont des aboiements légèrement différents, nous voulons fournir une valeur par défaut pour l'argument `sound` de leurs méthodes `.speak()` respectives.\n",
    "\n",
    "Pour **surcharger** une méthode définie sur la classe parente, vous définissez une méthode avec le même nom sur la classe enfant :"
   ]
  },
  {
   "cell_type": "code",
   "execution_count": 12,
   "id": "41908f27",
   "metadata": {},
   "outputs": [],
   "source": [
    "class JackRussellTerrier(Dog):\n",
    "    def speak(self, sound=\"Arf\"):\n",
    "        return f\"{self.name} says {sound}\""
   ]
  },
  {
   "cell_type": "markdown",
   "id": "2b4738ed",
   "metadata": {},
   "source": [
    "\n",
    "Maintenant `.speak()` est définie sur la classe `JackRussellTerrier` avec l'argument par défaut pour `sound` défini à \"Arf\".\n",
    "\n",
    "<figure style=\"padding: 1em; text-align: center;\">\n",
    "    <img src=\"https://files.realpython.com/media/method-override.png\" width=\"500\" height=\"200\" alt=\"Surcharge de méthode\">\n",
    "    <figcaption style=\"font-size: 0.9em; color: #3498db; margin-top: 0.5em;\">\n",
    "        <i>Surcharge de la méthode speak() dans la classe enfant</i>\n",
    "    </figcaption>\n",
    "</figure>\n",
    "\n",
    "Vous pouvez maintenant appeler `.speak()` sur une instance de `JackRussellTerrier` sans passer d'argument à `sound` :"
   ]
  },
  {
   "cell_type": "code",
   "execution_count": 13,
   "id": "bf1c2afb",
   "metadata": {},
   "outputs": [
    {
     "name": "stdout",
     "output_type": "stream",
     "text": [
      "Miles says Arf\n",
      "Miles says Grrr\n"
     ]
    }
   ],
   "source": [
    "\n",
    "miles = JackRussellTerrier(\"Miles\", 4)\n",
    "print(miles.speak())        # 'Miles says Arf'\n",
    "print(miles.speak(\"Grrr\"))  # 'Miles says Grrr'"
   ]
  },
  {
   "cell_type": "markdown",
   "id": "9b2d20ff",
   "metadata": {},
   "source": [
    "\n",
    "<div id=\"section4a\"></div>\n",
    "<h3 style=\"color: #E67E22; font-family: 'Segoe UI', Arial, sans-serif; font-size: 1.4em; margin-top: 30px;\">\n",
    "    Propagation automatique des changements\n",
    "</h3>\n",
    "\n",
    "Une chose importante à garder à l'esprit concernant l'héritage de classe est que les changements apportés à la classe parente se propagent automatiquement aux classes enfants, tant que l'attribut ou la méthode modifiée n'est pas surchargée dans la classe enfant.\n",
    "\n",
    "Par exemple, si vous modifiez la chaîne retournée par `.speak()` dans la classe `Dog` :\n"
   ]
  },
  {
   "cell_type": "code",
   "execution_count": 14,
   "id": "ff05fb57",
   "metadata": {},
   "outputs": [],
   "source": [
    "\n",
    "class Dog:\n",
    "    # ...\n",
    "    def speak(self, sound):\n",
    "        return f\"{self.name} barks: {sound}\"  # Nouveau format"
   ]
  },
  {
   "cell_type": "markdown",
   "id": "0eeba80f",
   "metadata": {},
   "source": [
    "\n",
    "Maintenant, quand vous créez une nouvelle instance de `Bulldog`, elle utilisera le nouveau format :"
   ]
  },
  {
   "cell_type": "code",
   "execution_count": 15,
   "id": "1d7a54a1",
   "metadata": {},
   "outputs": [
    {
     "name": "stdout",
     "output_type": "stream",
     "text": [
      "Jim says Woof\n"
     ]
    }
   ],
   "source": [
    "\n",
    "jim = Bulldog(\"Jim\", 5)\n",
    "print(jim.speak(\"Woof\"))  # 'Jim barks: Woof'"
   ]
  },
  {
   "cell_type": "markdown",
   "id": "eaac4907",
   "metadata": {},
   "source": [
    "\n",
    "Cependant, appeler `.speak()` sur une instance de `JackRussellTerrier` n'affichera pas le nouveau style de sortie car nous avons surchargé cette méthode.\n",
    "\n",
    "<div id=\"section5\"></div>\n",
    "<a href=\"#toc\" style=\"background-color: #E1B12D; color: #ffffff; padding: 7px 15px; text-decoration: none; border-radius: 50px;\">Retour en haut</a>\n",
    "\n",
    "<h2 style=\"color: #3498DB; font-family: 'Segoe UI', Arial, sans-serif; font-size: 1.8em; border-bottom: 2px solid #3498DB; padding-bottom: 5px; margin-top: 40px;\">\n",
    "    V. Utilisation de super() pour accéder à la classe parente\n",
    "</h2>\n",
    "\n",
    "Parfois, il est logique de surcharger complètement une méthode d'une classe parente. Mais dans notre cas, nous ne voulons pas que la classe `JackRussellTerrier` perde les modifications que nous pourrions apporter au formatage de la chaîne de sortie de `Dog.speak()`.\n",
    "\n",
    "Vous pouvez accéder à la classe parente depuis l'intérieur d'une méthode d'une classe enfant en utilisant `super()` :\n",
    "\n",
    "<figure style=\"padding: 1em; text-align: center;\">\n",
    "    <img src=\"https://files.realpython.com/media/super-function.png\" width=\"500\" height=\"250\" alt=\"Fonction super()\">\n",
    "    <figcaption style=\"font-size: 0.9em; color: #3498db; margin-top: 0.5em;\">\n",
    "        <i>Utilisation de super() pour appeler la méthode de la classe parente</i>\n",
    "    </figcaption>\n",
    "</figure>"
   ]
  },
  {
   "cell_type": "code",
   "execution_count": 16,
   "id": "db06b444",
   "metadata": {},
   "outputs": [],
   "source": [
    "class JackRussellTerrier(Dog):\n",
    "    def speak(self, sound=\"Arf\"):\n",
    "        return super().speak(sound)"
   ]
  },
  {
   "cell_type": "markdown",
   "id": "e2f6555f",
   "metadata": {},
   "source": [
    "\n",
    "Quand vous appelez `super().speak(sound)` à l'intérieur de `JackRussellTerrier`, Python recherche dans la classe parente `Dog` une méthode `.speak()` et l'appelle avec la variable `sound`.\n",
    "\n",
    "Maintenant, quand vous appelez `miles.speak()`, vous verrez une sortie reflétant le nouveau formatage de la classe `Dog` :"
   ]
  },
  {
   "cell_type": "code",
   "execution_count": 17,
   "id": "b6f6f15d",
   "metadata": {},
   "outputs": [
    {
     "ename": "TypeError",
     "evalue": "JackRussellTerrier() takes no arguments",
     "output_type": "error",
     "traceback": [
      "\u001b[31m---------------------------------------------------------------------------\u001b[39m",
      "\u001b[31mTypeError\u001b[39m                                 Traceback (most recent call last)",
      "\u001b[36mCell\u001b[39m\u001b[36m \u001b[39m\u001b[32mIn[17]\u001b[39m\u001b[32m, line 1\u001b[39m\n\u001b[32m----> \u001b[39m\u001b[32m1\u001b[39m miles = \u001b[43mJackRussellTerrier\u001b[49m\u001b[43m(\u001b[49m\u001b[33;43m\"\u001b[39;49m\u001b[33;43mMiles\u001b[39;49m\u001b[33;43m\"\u001b[39;49m\u001b[43m,\u001b[49m\u001b[43m \u001b[49m\u001b[32;43m4\u001b[39;49m\u001b[43m)\u001b[49m\n\u001b[32m      2\u001b[39m \u001b[38;5;28mprint\u001b[39m(miles.speak())  \u001b[38;5;66;03m# 'Miles barks: Arf'\u001b[39;00m\n",
      "\u001b[31mTypeError\u001b[39m: JackRussellTerrier() takes no arguments"
     ]
    }
   ],
   "source": [
    "miles = JackRussellTerrier(\"Miles\", 4)\n",
    "print(miles.speak())  # 'Miles barks: Arf'"
   ]
  },
  {
   "cell_type": "markdown",
   "id": "15ee6343",
   "metadata": {},
   "source": [
    "\n",
    "<div id=\"section5a\"></div>\n",
    "<h3 style=\"color: #E67E22; font-family: 'Segoe UI', Arial, sans-serif; font-size: 1.4em; margin-top: 30px;\">\n",
    "    Exemple complet avec toutes les races\n",
    "</h3>\n",
    "\n",
    "Voici un exemple complet avec toutes les races utilisant `super()` :"
   ]
  },
  {
   "cell_type": "code",
   "execution_count": null,
   "id": "d01612c1",
   "metadata": {},
   "outputs": [],
   "source": [
    "\n",
    "class Dog:\n",
    "    species = \"Canis familiaris\"\n",
    "    \n",
    "    def __init__(self, name, age):\n",
    "        self.name = name\n",
    "        self.age = age\n",
    "    \n",
    "    def __str__(self):\n",
    "        return f\"{self.name} is {self.age} years old\"\n",
    "    \n",
    "    def speak(self, sound):\n",
    "        return f\"{self.name} barks: {sound}\"\n",
    "\n",
    "class JackRussellTerrier(Dog):\n",
    "    def speak(self, sound=\"Arf\"):\n",
    "        return super().speak(sound)\n",
    "\n",
    "class Dachshund(Dog):\n",
    "    def speak(self, sound=\"Yap\"):\n",
    "        return super().speak(sound)\n",
    "\n",
    "class Bulldog(Dog):\n",
    "    def speak(self, sound=\"Woof\"):\n",
    "        return super().speak(sound)\n",
    "\n",
    "# Test des classes\n",
    "miles = JackRussellTerrier(\"Miles\", 4)\n",
    "buddy = Dachshund(\"Buddy\", 9)\n",
    "jack = Bulldog(\"Jack\", 3)\n",
    "\n",
    "print(miles.speak())  # 'Miles barks: Arf'\n",
    "print(buddy.speak())  # 'Buddy barks: Yap'\n",
    "print(jack.speak())   # 'Jack barks: Woof'"
   ]
  },
  {
   "cell_type": "markdown",
   "id": "7873e348",
   "metadata": {},
   "source": [
    "\n",
    "**Note importante :** Dans les exemples ci-dessus, la hiérarchie de classes est très simple. La classe `JackRussellTerrier` a une seule classe parente, `Dog`. Dans des exemples du monde réel, la hiérarchie de classes peut devenir assez compliquée. La fonction `super()` fait beaucoup plus que simplement rechercher une méthode ou un attribut dans la classe parente - elle traverse toute la hiérarchie de classes pour trouver une méthode ou un attribut correspondant.\n",
    "\n",
    "<a href=\"#toc\" style=\"background-color: #E1B12D; color: #ffffff; padding: 7px 15px; text-decoration: none; border-radius: 50px;\">Retour en haut</a>"
   ]
  }
 ],
 "metadata": {
  "kernelspec": {
   "display_name": "base",
   "language": "python",
   "name": "python3"
  },
  "language_info": {
   "codemirror_mode": {
    "name": "ipython",
    "version": 3
   },
   "file_extension": ".py",
   "mimetype": "text/x-python",
   "name": "python",
   "nbconvert_exporter": "python",
   "pygments_lexer": "ipython3",
   "version": "3.12.9"
  }
 },
 "nbformat": 4,
 "nbformat_minor": 5
}
