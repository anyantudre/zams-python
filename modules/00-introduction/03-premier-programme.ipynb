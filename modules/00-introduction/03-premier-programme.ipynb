{
 "cells": [
  {
   "cell_type": "markdown",
   "id": "f509b569",
   "metadata": {},
   "source": []
  }
 ],
 "metadata": {
  "language_info": {
   "name": "python"
  }
 },
 "nbformat": 4,
 "nbformat_minor": 5
}
