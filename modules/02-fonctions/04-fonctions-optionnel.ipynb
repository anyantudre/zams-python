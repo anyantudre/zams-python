{
 "cells": [
  {
   "cell_type": "markdown",
   "id": "fb26981b",
   "metadata": {},
   "source": [
    "<h2 style=\"color: #3498DB; font-family: 'Segoe UI', Arial, sans-serif; font-size: 1.8em; border-bottom: 2px solid #3498DB; padding-bottom: 5px; margin-top: 40px;\">\n",
    "    V. Utilisation d'Autres Méthodes Avancées d'Appel de Fonctions\n",
    "</h2>\n",
    "\n",
    "Au-delà des approches standard de passage d'arguments comme arguments positionnels, par mots-clés, positionnels uniquement et par mots-clés uniquement, Python fournit également des techniques puissantes pour déballer des collections de valeurs directement dans les arguments de fonction.\n",
    "\n",
    "Dans cette section, vous apprendrez comment utiliser l'opérateur de déballage d'itérable (*) pour déballer un itérable en arguments positionnels, et comment utiliser l'opérateur de déballage de dictionnaire (**) pour déballer un mapping ou dictionnaire en arguments par mots-clés.\n",
    "\n",
    "<div id=\"section5a\"></div>\n",
    "<h3 style=\"color: #E67E22; font-family: 'Segoe UI', Arial, sans-serif; font-size: 1.4em; margin-top: 30px;\">\n",
    "    Déballage d'un Itérable en Arguments Positionnels\n",
    "</h3>\n",
    "\n",
    "Lorsque vous précédez un itérable dans un appel de fonction avec un astérisque (*), vous effectuez une opération de déballage. Vous déballez l'itérable en une série de valeurs indépendantes. Si vous utilisez cette syntaxe dans un appel de fonction, alors les valeurs déballées deviennent des arguments positionnels.\n",
    "\n",
    "Voici un exemple démonstratif :"
   ]
  },
  {
   "cell_type": "code",
   "execution_count": 12,
   "id": "4bf320fe",
   "metadata": {},
   "outputs": [
    {
     "name": "stdout",
     "output_type": "stream",
     "text": [
      "x = 1\n",
      "y = 2\n",
      "z = 3\n"
     ]
    }
   ],
   "source": [
    "def fonction(x, y, z):\n",
    "    print(f\"{x = }\")\n",
    "    print(f\"{y = }\")\n",
    "    print(f\"{z = }\")\n",
    "\n",
    "nombres = [1, 2, 3]\n",
    "fonction(*nombres)\n",
    "x = 1\n",
    "y = 2\n",
    "z = 3"
   ]
  },
  {
   "cell_type": "markdown",
   "id": "7906244f",
   "metadata": {},
   "source": [
    "\n",
    "La syntaxe `*nombres` dans cet appel de fonction indique que `nombres` est un itérable et doit être déballé en valeurs individuelles. Les valeurs déballées, 1, 2, et 3, sont alors assignées aux arguments x, y, et z, dans cet ordre.\n",
    "\n",
    "La syntaxe de déballage montrée dans l'exemple ci-dessus est beaucoup plus propre et concise que quelque chose comme ceci :\n"
   ]
  },
  {
   "cell_type": "code",
   "execution_count": 13,
   "id": "d21448f1",
   "metadata": {},
   "outputs": [
    {
     "name": "stdout",
     "output_type": "stream",
     "text": [
      "x = 1\n",
      "y = 2\n",
      "z = 3\n"
     ]
    }
   ],
   "source": [
    "fonction(nombres[0], nombres[1], nombres[2])\n",
    "x = 1\n",
    "y = 2\n",
    "z = 3"
   ]
  },
  {
   "cell_type": "markdown",
   "id": "5d727dbd",
   "metadata": {},
   "source": [
    "Même si vous obtenez le même résultat, la syntaxe de déballage est plus pythonique. Notez que ce type d'appel implique souvent l'utilisation d'indices numériques, ce qui peut être source d'erreurs.\n",
    "\n",
    "L'opérateur de déballage d'itérable (*) peut être appliqué à n'importe quel itérable dans un appel de fonction Python. Par exemple, vous pouvez utiliser une liste, un tuple, ou un ensemble. Si vous utilisez un ensemble, alors vous devez être conscient que les ensembles sont des conteneurs non ordonnés, ce qui peut causer des problèmes lorsque l'ordre des arguments positionnels est pertinent.\n",
    "\n",
    "Cependant, dans certains cas, utiliser un ensemble est acceptable. Par exemple, voici votre fonction `hypotenuse()` :\n"
   ]
  },
  {
   "cell_type": "code",
   "execution_count": 14,
   "id": "b0ced970",
   "metadata": {},
   "outputs": [
    {
     "data": {
      "text/plain": [
       "{2, 5}"
      ]
     },
     "execution_count": 14,
     "metadata": {},
     "output_type": "execute_result"
    }
   ],
   "source": [
    "def hypotenuse(a, b, /):\n",
    "    return (a**2 + b**2)**0.5\n",
    "\n",
    "cotes = {2, 5}\n",
    "cotes"
   ]
  },
  {
   "cell_type": "code",
   "execution_count": 15,
   "id": "10d1e4b8",
   "metadata": {},
   "outputs": [
    {
     "data": {
      "text/plain": [
       "5.385164807134504"
      ]
     },
     "execution_count": 15,
     "metadata": {},
     "output_type": "execute_result"
    }
   ],
   "source": [
    "\n",
    "hypotenuse(*cotes)"
   ]
  },
  {
   "cell_type": "markdown",
   "id": "3bdb5659",
   "metadata": {},
   "source": [
    "Dans cet exemple, vous pouvez fournir les arguments dans n'importe quel ordre, donc il est sûr de déballer les côtés depuis un ensemble.\n",
    "\n",
    "Vous pouvez utiliser l'opérateur de déballage d'itérable et la syntaxe `*args` en même temps :"
   ]
  },
  {
   "cell_type": "code",
   "execution_count": 16,
   "id": "60468576",
   "metadata": {},
   "outputs": [
    {
     "name": "stdout",
     "output_type": "stream",
     "text": [
      "(1, 2, 3, 4, 5)\n"
     ]
    }
   ],
   "source": [
    "def fonction(*args):\n",
    "    print(args)\n",
    "\n",
    "nombres = [1, 2, 3, 4, 5]\n",
    "fonction(*nombres)"
   ]
  },
  {
   "cell_type": "markdown",
   "id": "00621812",
   "metadata": {},
   "source": [
    "\n",
    "Ici, l'appel `fonction(*nombres)` dit à Python de déballer la liste `nombres` et de passer ses éléments à la fonction comme valeurs individuelles. Le paramètre `*args` fait que les valeurs sont remballées dans le tuple et stockées dans `args`.\n",
    "\n",
    "Vous pouvez même utiliser l'opérateur de déballage plusieurs fois dans un appel de fonction :"
   ]
  },
  {
   "cell_type": "code",
   "execution_count": 17,
   "id": "c0cc63eb",
   "metadata": {},
   "outputs": [
    {
     "name": "stdout",
     "output_type": "stream",
     "text": [
      "(1, 2, 3, 4, 5, 'a', 'b', 'b', 'c')\n"
     ]
    }
   ],
   "source": [
    "nombres = [1, 2, 3, 4, 5]\n",
    "lettres = (\"a\", \"b\", \"b\", \"c\")\n",
    "fonction(*nombres, *lettres)"
   ]
  },
  {
   "cell_type": "markdown",
   "id": "7a7ab863",
   "metadata": {},
   "source": [
    "Dans cet exemple, vous déballez deux séquences dans l'appel à votre fonction test. Toutes les valeurs sont emballées dans le tuple `args` comme d'habitude.\n",
    "\n",
    "<div id=\"section5b\"></div>\n",
    "<h3 style=\"color: #E67E22; font-family: 'Segoe UI', Arial, sans-serif; font-size: 1.4em; margin-top: 30px;\">\n",
    "    Déballage d'Arguments par Mots-clés\n",
    "</h3>\n",
    "\n",
    "Vous pouvez aussi déballer des dictionnaires dans les appels de fonction. C'est analogue à l'utilisation du déballage d'itérable, comme dans la section précédente. Lorsque vous précédez un argument avec l'opérateur de déballage de dictionnaire (**) dans un appel de fonction, vous spécifiez que l'argument est un dictionnaire qui doit être déballé en arguments par mots-clés :"
   ]
  },
  {
   "cell_type": "code",
   "execution_count": 18,
   "id": "d8cfc9bc",
   "metadata": {},
   "outputs": [
    {
     "name": "stdout",
     "output_type": "stream",
     "text": [
      "un = 1\n",
      "deux = 2\n",
      "trois = 3\n"
     ]
    }
   ],
   "source": [
    "def fonction(un, deux, trois):\n",
    "    print(f\"{un = }\")\n",
    "    print(f\"{deux = }\")\n",
    "    print(f\"{trois = }\")\n",
    "\n",
    "nombres = {\"un\": 1, \"deux\": 2, \"trois\": 3}\n",
    "fonction(**nombres)"
   ]
  },
  {
   "cell_type": "markdown",
   "id": "0a512251",
   "metadata": {},
   "source": [
    "Lorsque vous appelez la fonction dans cet exemple, les éléments du dictionnaire `nombres` sont déballés et passés à `fonction()` comme arguments par mots-clés. Donc, cet appel de fonction est équivalent au suivant :"
   ]
  },
  {
   "cell_type": "code",
   "execution_count": 19,
   "id": "60e8f534",
   "metadata": {},
   "outputs": [
    {
     "name": "stdout",
     "output_type": "stream",
     "text": [
      "un = 1\n",
      "deux = 2\n",
      "trois = 3\n"
     ]
    }
   ],
   "source": [
    "fonction(un=nombres[\"un\"], deux=nombres[\"deux\"], trois=nombres[\"trois\"])"
   ]
  },
  {
   "cell_type": "markdown",
   "id": "4e07b9d1",
   "metadata": {},
   "source": [
    "Cette fois, vous fournissez les arguments manuellement en utilisant les valeurs du dictionnaire directement. Cet appel est beaucoup plus verbeux et complexe que le précédent.\n",
    "\n",
    "Encore une fois, vous pouvez combiner l'opérateur de déballage de dictionnaire (**) avec la syntaxe `**kwargs`. Vous pouvez aussi spécifier plusieurs déballages de dictionnaire dans un appel de fonction :"
   ]
  },
  {
   "cell_type": "code",
   "execution_count": 20,
   "id": "35ae9459",
   "metadata": {},
   "outputs": [
    {
     "name": "stdout",
     "output_type": "stream",
     "text": [
      "un -> 1\n",
      "deux -> 2\n",
      "trois -> 3\n",
      "a -> A\n",
      "b -> B\n",
      "c -> C\n"
     ]
    }
   ],
   "source": [
    "def fonction(**kwargs):\n",
    "    for cle, valeur in kwargs.items():\n",
    "        print(cle, \"->\", valeur)\n",
    "\n",
    "nombres = {\"un\": 1, \"deux\": 2, \"trois\": 3}\n",
    "lettres = {\"a\": \"A\", \"b\": \"B\", \"c\": \"C\"}\n",
    "fonction(**nombres, **lettres)"
   ]
  },
  {
   "cell_type": "markdown",
   "id": "57749518",
   "metadata": {},
   "source": [
    "Dans cet exemple, vous combinez la syntaxe `**kwargs` dans la définition de fonction et l'opérateur de déballage de dictionnaire dans l'appel de fonction. Vous utilisez aussi plusieurs dictionnaires dans l'appel, ce qui est également une excellente fonctionnalité.\n",
    "\n",
    "<div id=\"section6\"></div>\n",
    "<a href=\"#toc\" style=\"background-color: #E1B12D; color: #ffffff; padding: 7px 15px; text-decoration: none; border-radius: 50px;\">Retour en haut</a>\n",
    "\n",
    "<h2 style=\"color: #3498DB; font-family: 'Segoe UI', Arial, sans-serif; font-size: 1.8em; border-bottom: 2px solid #3498DB; padding-bottom: 5px; margin-top: 40px;\">\n",
    "    VI. Exploration des Fonctionnalités Optionnelles des Fonctions\n",
    "</h2>\n",
    "\n",
    "Python vous permet d'ajouter des docstrings et annotations optionnelles à vos fonctions.\n",
    "\n",
    "Les docstrings sont des chaînes que vous ajoutez au début d'une fonction pour fournir une documentation intégrée. Elles expliquent ce que fait une fonction, quels arguments elle attend, et ce qu'elle retourne. Les annotations vous permettent d'optionnellement spécifier les types attendus des arguments et valeurs de retour, rendant votre code plus clair pour les lecteurs et compatible avec les outils de vérification de types.\n",
    "\n",
    "Dans cette section, vous apprendrez comment ajouter et utiliser ces deux fonctionnalités optionnelles mais très précieuses dans vos fonctions Python.\n",
    "\n",
    "<div id=\"section6a\"></div>\n",
    "<h3 style=\"color: #E67E22; font-family: 'Segoe UI', Arial, sans-serif; font-size: 1.4em; margin-top: 30px;\">\n",
    "    Docstrings\n",
    "</h3>\n",
    "\n",
    "Lorsque la première déclaration dans le corps d'une fonction est un littéral de chaîne, elle est connue comme la docstring de la fonction.\n",
    "\n",
    "Vous pouvez utiliser une docstring pour fournir une documentation rapide pour une fonction. Elle peut contenir des informations sur le but de la fonction, ses arguments, les exceptions levées, et les valeurs de retour. Elle peut aussi inclure des exemples de base d'utilisation de la fonction et toute autre information pertinente.\n",
    "\n",
    "Voici votre fonction `moyenne()` montrant une docstring dans le style de Google et avec des exemples de test doctest :"
   ]
  },
  {
   "cell_type": "code",
   "execution_count": 21,
   "id": "6bcbe2fc",
   "metadata": {},
   "outputs": [],
   "source": [
    "def moyenne(*args):\n",
    "    \"\"\"Calcule la moyenne de nombres donnés.\n",
    "    \n",
    "    Args:\n",
    "        *args (float ou int): Une ou plusieurs valeurs numériques.\n",
    "        \n",
    "    Returns:\n",
    "        float: La moyenne arithmétique des valeurs fournies.\n",
    "        \n",
    "    Raises:\n",
    "        ZeroDivisionError: Si aucun argument n'est fourni.\n",
    "        \n",
    "    Examples:\n",
    "        >>> moyenne(10, 20, 30)\n",
    "        20.0\n",
    "        >>> moyenne(5, 15)\n",
    "        10.0\n",
    "        >>> moyenne(7)\n",
    "        7.0\n",
    "    \"\"\"\n",
    "    return sum(args) / len(args)"
   ]
  },
  {
   "cell_type": "markdown",
   "id": "0034158d",
   "metadata": {},
   "source": [
    "\n",
    "Techniquement, les docstrings peuvent utiliser n'importe quelle variante de guillemets de chaîne. Cependant, la variante recommandée et plus commune est d'utiliser des guillemets triples utilisant des caractères de guillemets doubles (\"\"\"), comme montré ci-dessus. Si la docstring tient sur une ligne, alors les guillemets de fermeture doivent être sur la même ligne que les guillemets d'ouverture.\n",
    "\n",
    "Les docstrings multilignes sont utilisées pour une documentation plus longue. Une docstring multiligne doit consister en une ligne de résumé se terminant par un point, une ligne vide, et finalement, une description détaillée. Les guillemets de fermeture doivent être sur une ligne à part.\n",
    "\n",
    "Dans l'exemple ci-dessus, vous avez utilisé le style de docstring de Google, qui inclut une description des arguments de la fonction et de la valeur de retour. Vous avez aussi utilisé des exemples doctest. Ces exemples imitent une session REPL et vous permettent de fournir une référence rapide pour comment utiliser la fonction.\n",
    "\n",
    "Lorsqu'une docstring est définie, Python l'assigne à un attribut de fonction spécial appelé `.__doc__`. Vous pouvez accéder à la docstring d'une fonction comme montré ci-dessous :"
   ]
  },
  {
   "cell_type": "code",
   "execution_count": 22,
   "id": "4898ccf9",
   "metadata": {},
   "outputs": [
    {
     "name": "stdout",
     "output_type": "stream",
     "text": [
      "Calcule la moyenne de nombres donnés.\n",
      "\n",
      "    Args:\n",
      "        *args (float ou int): Une ou plusieurs valeurs numériques.\n",
      "\n",
      "    Returns:\n",
      "        float: La moyenne arithmétique des valeurs fournies.\n",
      "\n",
      "    Raises:\n",
      "        ZeroDivisionError: Si aucun argument n'est fourni.\n",
      "\n",
      "    Examples:\n",
      "        >>> moyenne(10, 20, 30)\n",
      "        20.0\n",
      "        >>> moyenne(5, 15)\n",
      "        10.0\n",
      "        >>> moyenne(7)\n",
      "        7.0\n",
      "    \n"
     ]
    }
   ],
   "source": [
    "print(moyenne.__doc__)"
   ]
  },
  {
   "cell_type": "markdown",
   "id": "a89506dc",
   "metadata": {},
   "source": [
    "L'attribut `.__doc__` vous donne accès à la docstring de toute fonction Python qui en a une. Alternativement, vous pouvez exécuter `help(nom_fonction)` pour afficher la docstring pour la fonction cible, ce qui est la pratique recommandée.\n",
    "\n",
    "Spécifier une docstring pour chaque fonction Python que vous définissez est considéré comme une bonne pratique de codage.\n",
    "\n",
    "<div id=\"section6b\"></div>\n",
    "<h3 style=\"color: #E67E22; font-family: 'Segoe UI', Arial, sans-serif; font-size: 1.4em; margin-top: 30px;\">\n",
    "    Annotations\n",
    "</h3>\n",
    "\n",
    "Les annotations de fonction fournissent un moyen d'attacher des métadonnées aux arguments d'une fonction et à sa valeur de retour.\n",
    "\n",
    "Pour ajouter des annotations aux arguments d'une fonction, vous utilisez deux points (:) suivis par les métadonnées désirées après l'argument dans la définition de fonction. De même, pour fournir des annotations pour la valeur de retour, ajoutez les caractères flèche (->) et les métadonnées désirées entre les parenthèses fermantes et les deux points qui terminent l'en-tête de fonction.\n",
    "\n",
    "En pratique, les annotations sont largement utilisées pour fournir des indices de type pour les arguments et valeurs de retour. Voici la syntaxe générale pour ceci :\n",
    "\n",
    "```python\n",
    "def fonction(arg_0: <type>, arg_1: <type>, ..., arg_n: <type>) -> <type_retour>:\n",
    "    <corps_fonction>\n",
    "```\n",
    "\n",
    "Le type de données de chaque argument pourrait être n'importe quel type de données intégré, un type ou classe personnalisé, ou toute combinaison de types existants. Notez que Python n'applique pas les indices de type à l'exécution. Ce sont juste des métadonnées liées au type que vous, d'autres développeurs, ou un outil automatisé peuvent inspecter pour avoir des informations supplémentaires sur la fonction elle-même.\n",
    "\n",
    "Considérez la fonction test suivante :"
   ]
  },
  {
   "cell_type": "code",
   "execution_count": 23,
   "id": "3842fcb4",
   "metadata": {},
   "outputs": [
    {
     "name": "stdout",
     "output_type": "stream",
     "text": [
      "<class 'str'> <class 'int'>\n"
     ]
    },
    {
     "data": {
      "text/plain": [
       "(1, 2, 3)"
      ]
     },
     "execution_count": 23,
     "metadata": {},
     "output_type": "execute_result"
    }
   ],
   "source": [
    "def fonction(a: int, b: str) -> float:\n",
    "    print(type(a), type(b))\n",
    "    return 1, 2, 3\n",
    "\n",
    "fonction(\"Bonjour!\", 123)"
   ]
  },
  {
   "cell_type": "markdown",
   "id": "3d4e2a20",
   "metadata": {},
   "source": [
    "Que se passe-t-il dans cet exemple ? Les annotations pour `fonction()` indiquent que le premier argument devrait être un `int`, le second argument un `str`, et la valeur de retour un `float`. Cependant, l'appel à `fonction()` ignore tous ces types attendus. Les arguments sont un `str` et un `int`, respectivement, et la valeur de retour est un tuple. Pourtant l'interpréteur laisse tout passer sans une seule plainte.\n",
    "\n",
    "Les annotations n'imposent aucune restriction sur le code que ce soit. Elles sont des métadonnées attachées à la fonction à travers un dictionnaire appelé `.__annotations__`. Ce dictionnaire est disponible comme attribut des objets fonction :\n"
   ]
  },
  {
   "cell_type": "code",
   "execution_count": 24,
   "id": "ea1c54cb",
   "metadata": {},
   "outputs": [
    {
     "data": {
      "text/plain": [
       "{'a': int, 'b': str, 'return': float}"
      ]
     },
     "execution_count": 24,
     "metadata": {},
     "output_type": "execute_result"
    }
   ],
   "source": [
    "fonction.__annotations__"
   ]
  },
  {
   "cell_type": "markdown",
   "id": "825dde9a",
   "metadata": {},
   "source": [
    "Même si Python ne fait rien pour s'assurer que les arguments et valeurs de retour sont des types de données déclarés, les indices de type peuvent être assez utiles.\n",
    "\n",
    "Si vous utilisez des annotations pour ajouter des indices de type à vos fonctions, alors vous pouvez utiliser un vérificateur de type statique, comme mypy, pour détecter des erreurs potentielles liées aux types dans votre code avant de l'exécuter en production. De cette façon, vous pouvez corriger des erreurs de type potentielles qui peuvent causer des problèmes à l'exécution, rendant votre code plus robuste et fiable.\n",
    "\n",
    "Pour illustrer comment les indices de type peuvent aider à améliorer la qualité de votre code, disons que vous écrivez la fonction suivante et vous attendez à ce qu'elle soit utilisée avec des arguments numériques :"
   ]
  },
  {
   "cell_type": "code",
   "execution_count": 25,
   "id": "dee07b51",
   "metadata": {},
   "outputs": [
    {
     "data": {
      "text/plain": [
       "7"
      ]
     },
     "execution_count": 25,
     "metadata": {},
     "output_type": "execute_result"
    }
   ],
   "source": [
    "def additionner(a, b):\n",
    "    return a + b\n",
    "\n",
    "additionner(3, 4)"
   ]
  },
  {
   "cell_type": "markdown",
   "id": "68db957d",
   "metadata": {},
   "source": [
    "Cette fonction prend deux nombres et les additionne ensemble. C'est assez simple. Maintenant, disons que vous emballez cette fonction avec un tas d'autres fonctions connexes dans une bibliothèque et la rendez disponible pour que les gens l'utilisent librement. Un de vos utilisateurs pourrait faire quelque chose comme ceci, et penser que votre fonction est fausse :"
   ]
  },
  {
   "cell_type": "code",
   "execution_count": 26,
   "id": "894e8133",
   "metadata": {},
   "outputs": [
    {
     "data": {
      "text/plain": [
       "'34'"
      ]
     },
     "execution_count": 26,
     "metadata": {},
     "output_type": "execute_result"
    }
   ],
   "source": [
    "additionner(\"3\", \"4\")"
   ]
  },
  {
   "cell_type": "markdown",
   "id": "2b935666",
   "metadata": {},
   "source": [
    "Dans cet exemple, la fonction a été appelée avec deux chaînes. Interne, l'opérateur plus (+) concatène les chaînes et produit une nouvelle chaîne, \"34\". Ce n'est pas le résultat attendu.\n",
    "\n",
    "Voici la version avec indices de type :"
   ]
  },
  {
   "cell_type": "code",
   "execution_count": 27,
   "id": "d01b94f7",
   "metadata": {},
   "outputs": [],
   "source": [
    "type Nombre = int | float\n",
    "def additionner(a: Nombre, b: Nombre) -> Nombre:\n",
    "    return a + b"
   ]
  },
  {
   "cell_type": "markdown",
   "id": "78fdfcd6",
   "metadata": {},
   "source": [
    "Dans cette version d'`additionner()`, vous utilisez des indices de type pour exprimer que la fonction devrait prendre des valeurs numériques de types `int` ou `float`. Vous spécifiez aussi que la fonction peut retourner un entier ou un nombre à virgule flottante. Pour rendre le code plus propre, vous utilisez un alias de type, `Nombre`, qui représente des valeurs entières ou à virgule flottante.\n",
    "\n",
    "Comme vous le savez, vous pouvez toujours appeler cette fonction avec deux arguments chaîne. Cependant, un vérificateur de type statique vous avertira que la fonction est utilisée d'une façon inattendue.\n",
    "\n",
    "<div id=\"section7\"></div>\n",
    "<a href=\"#toc\" style=\"background-color: #E1B12D; color: #ffffff; padding: 7px 15px; text-decoration: none; border-radius: 50px;\">Retour en haut</a>\n",
    "\n",
    "<h2 style=\"color: #3498DB; font-family: 'Segoe UI', Arial, sans-serif; font-size: 1.8em; border-bottom: 2px solid #3498DB; padding-bottom: 5px; margin-top: 40px;\">\n",
    "    VII. Aperçu Rapide des Fonctions Asynchrones\n",
    "</h2>\n",
    "\n",
    "<figure style=\"padding: 1em; text-align: center;\">\n",
    "    <img src=\"https://files.realpython.com/media/async-concurrency.png\" width=\"600\" height=\"300\" alt=\"Programmation asynchrone\">\n",
    "    <figcaption style=\"font-size: 0.9em; color: #3498db; margin-top: 0.5em;\">\n",
    "        <i>Programmation synchrone vs asynchrone</i>\n",
    "    </figcaption>\n",
    "</figure>\n",
    "\n",
    "Python supporte la programmation asynchrone avec quelques outils, incluant le module `asyncio` et les mots-clés `async` et `await`. Le code asynchrone vous permet de gérer plusieurs tâches simultanément sans bloquer l'exécution de votre programme principal.\n",
    "\n",
    "Ce paradigme de programmation vous permet d'écrire du code plus efficace et réactif, surtout pour les tâches liées aux E/S, comme les opérations réseau ou la lecture de fichiers, où le programme principal serait inactif en attendant les données.\n",
    "\n",
    "Au cœur de la programmation asynchrone en Python se trouvent les fonctions coroutine, que vous pouvez définir avec le mot-clé `async` :\n",
    "\n",
    "```python\n",
    "async def nom_fonction([parametres]):\n",
    "    <corps_fonction>\n",
    "```\n",
    "\n",
    "Ce type de fonction retourne un objet coroutine, qui peut être entré, quitté, et repris à de nombreux points différents. Cet objet peut rendre le contrôle à une boucle d'événements, débloquant le programme principal, qui peut exécuter d'autres tâches en attendant.\n",
    "\n",
    "Appeler une fonction async directement n'est pas la bonne façon de procéder. Cependant, l'exemple ci-dessous est destiné à montrer qu'elles retournent un objet coroutine :\n",
    "\n",
    "```python\n",
    ">>> async def obtenir_nombre():\n",
    "...     return 42\n",
    "...\n",
    ">>> obtenir_nombre()\n",
    "<coroutine object obtenir_nombre at 0x...>\n",
    "```\n",
    "\n",
    "Comme vous pouvez le voir, la fonction retourne un objet coroutine au lieu du nombre 42. Quelle est la façon correcte ou attendue d'utiliser cette fonction ? Vous pouvez l'attendre à l'intérieur d'une autre fonction coroutine ou l'exécuter directement dans une boucle d'événements.\n",
    "\n",
    "Voici un exemple qui suit cette dernière voie :\n",
    "\n",
    "```python\n",
    ">>> import asyncio\n",
    ">>> async def obtenir_nombre():\n",
    "...     return 42\n",
    "...\n",
    ">>> asyncio.run(obtenir_nombre())\n",
    "42\n",
    "```\n",
    "\n",
    "La fonction `asyncio.run()` démarre une boucle d'événements qui exécute votre fonction coroutine. De cette façon, vous obtenez la valeur de retour réelle, 42.\n",
    "\n",
    "Même si ce code fonctionne, il ne tire pas parti de la programmation asynchrone parce que la fonction s'exécute de manière synchrone du début à la fin sans rendre le contrôle à la boucle d'événements. Le problème est qu'il y a typiquement peu d'avantage à rendre une fonction async si elle n'attend rien. Pour attendre quelque chose, vous pouvez utiliser le mot-clé `await`.\n",
    "\n",
    "L'exemple suivant simule une situation où vous récupérez des données depuis le réseau en utilisant du code asynchrone :\n",
    "\n",
    "```python\n",
    ">>> import asyncio\n",
    ">>> async def recuperer_donnees():\n",
    "...     print(\"Récupération des données depuis le serveur...\")\n",
    "...     await asyncio.sleep(1)  # Simule un délai réseau\n",
    "...     print(\"Données reçues!\")\n",
    "...     return {\"utilisateur\": \"jean\", \"statut\": \"actif\"}\n",
    "...\n",
    ">>> async def main():\n",
    "...     donnees = await recuperer_donnees()\n",
    "...     print(f\"Données reçues: {donnees}\")\n",
    "...\n",
    ">>> asyncio.run(main())\n",
    "Récupération des données depuis le serveur...\n",
    "Données reçues!\n",
    "Données reçues: {'utilisateur': 'jean', 'statut': 'actif'}\n",
    "```\n",
    "\n",
    "Dans cet exemple, vous définissez une fonction async qui simule la récupération de données utilisateur depuis un réseau. La ligne en surbrillance introduit la déclaration `await` avec `asyncio.sleep(1)` comme objet awaitable cible. Cette déclaration simule un délai réseau d'une seconde. En attendant, le contrôle retourne à la boucle d'événements, qui pourrait effectuer d'autres tâches asynchrones.\n",
    "\n",
    "La fonction `main()` est le point d'entrée de votre code, donc vous pouvez l'exécuter dans la boucle d'événements avec `run()`. Notez que `recuperer_donnees()` est aussi awaitable parce que c'est une fonction async."
   ]
  },
  {
   "cell_type": "markdown",
   "id": "ac80149a",
   "metadata": {},
   "source": []
  }
 ],
 "metadata": {
  "kernelspec": {
   "display_name": "base",
   "language": "python",
   "name": "python3"
  },
  "language_info": {
   "codemirror_mode": {
    "name": "ipython",
    "version": 3
   },
   "file_extension": ".py",
   "mimetype": "text/x-python",
   "name": "python",
   "nbconvert_exporter": "python",
   "pygments_lexer": "ipython3",
   "version": "3.12.9"
  }
 },
 "nbformat": 4,
 "nbformat_minor": 5
}
