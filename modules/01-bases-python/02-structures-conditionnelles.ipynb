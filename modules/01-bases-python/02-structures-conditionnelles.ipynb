{
 "cells": [
  {
   "cell_type": "markdown",
   "metadata": {},
   "source": [
    "<a id=\"toc\"></a>\n",
    "\n",
    "<div style=\"background-color:rgb(27, 40, 54); padding: 20px; border-radius: 10px; margin-bottom: 30px;\">\n",
    "    <h1 style=\"color: white; font-family: 'Segoe UI', Arial, sans-serif; font-size: 2.8em; text-align: center; margin: 0;\">\n",
    "        Structures Condionnelles en Python\n",
    "    </h1>\n",
    "    <p style=\"color:rgb(242, 255, 0); font-family: 'Segoe UI', Arial, sans-serif; font-size: 1.2em; text-align: center; margin-top: 10px; font-style: italic;\">\n",
    "        Variables Booléennes, Opérateurs Logiques et Conditions if, else, elif.\n",
    "    </p>\n",
    "</div>\n",
    "\n",
    "\n",
    "<figure style=\"padding: 1em; text-align: center;\">\n",
    "    <img src=\"https://miro.medium.com/v2/resize:fit:1100/format:webp/0*QQiCrSdQWomBgH-z.jpg\" width=\"600\" height=\"400\" alt=\"Logo Python\">\n",
    "    <figcaption style=\"font-size: 0.9em; color: #3498db; margin-top: 0.5em;\">\n",
    "        <i>  <a href=\"https://anyantudre.medium.com/structures-condionnelles-en-python-variables-bool%C3%A9ennes-op%C3%A9rateurs-logiques-et-conditions-if-9f6872188b8a#e872\" target=\"_blank\">Image Credits — Digital Academy</a></i>\n",
    "    </figcaption>\n",
    "</figure>\n",
    "\n",
    "\n",
    "Nous avons précedemment vu, qu’il existe plusieurs types de données ou de variables en Python dont les principaux sont les entiers (Integer ou int), les nombres décimaux (float) et les chaînes de caractères (string ou str).\n",
    "\n",
    "Eh bien, nous allons découvrir à présent un nouveau type de donnée appelé Booléen ainsi que son utilisation dans les structures conditionnelles en Python.\n",
    "\n",
    "\n",
    "<div style=\"background-color:rgb(27, 40, 54); padding: 15px; border-radius: 5px; margin-bottom: 30px;\">\n",
    "    <h2 style=\"color:rgb(255, 255, 255); font-family: 'Segoe UI', Arial, sans-serif; font-size: 1.5em; border-bottom: 2px solid #3498DB; padding-bottom: 5px;\">\n",
    "        Table des matières 📑\n",
    "    </h2>\n",
    "    <ul style=\"font-family: 'Segoe UI', Arial, sans-serif; font-size: 1.1em;\">\n",
    "        <li><a href=\"#section1\" style=\"color: #3498DB; text-decoration: none;\">I. Les Booléens</a></li>\n",
    "        <li><a href=\"#section2\" style=\"color: #3498DB; text-decoration: none;\">II. Les Opérateurs de Comparaison</a></li>\n",
    "        <li><a href=\"#section3\" style=\"color: #3498DB; text-decoration: none;\">III. Les Opérateurs Logiques: NOT, AND, OR.</a></li>\n",
    "        <li><a href=\"#section4\" style=\"color: #3498DB; text-decoration: none;\">IV. Les Conditions en Python</a></li>\n",
    "        <li><a href=\"#section5\" style=\"color: #3498DB; text-decoration: none;\">V. Exercice de compréhension</a></li>\n",
    "    </ul>\n",
    "</div>"
   ]
  },
  {
   "cell_type": "code",
   "execution_count": 34,
   "metadata": {},
   "outputs": [
    {
     "name": "stdout",
     "output_type": "stream",
     "text": [
      "9\n"
     ]
    }
   ],
   "source": [
    "ma_variable1 = 8\n",
    "ma_variable1 = 9\n",
    "print(ma_variable1)"
   ]
  },
  {
   "cell_type": "markdown",
   "metadata": {},
   "source": [
    "<div id=\"section1\"></div>\n",
    "<h2 style=\"color: #3498DB; font-family: 'Segoe UI', Arial, sans-serif; font-size: 1.8em; border-bottom: 2px solid #3498DB; padding-bottom: 5px; margin-top: 40px;\">\n",
    "    I. Les Booléens\n",
    "</h2>\n",
    "\n",
    "En informatique, un Booléen désigne une valeur qui est soit “VRAI”, soit “FAUX”.\n",
    "\n",
    "\n",
    "<figure style=\"padding: 1em; text-align: center;\">\n",
    "    <img src=\"https://miro.medium.com/v2/resize:fit:1100/format:webp/0*Jh8sDEiIFamWun4H.jpg\" width=\"600\" height=\"400\" alt=\"Logo Python\">\n",
    "    <figcaption style=\"font-size: 0.9em; color: #3498db; margin-top: 0.5em;\">\n",
    "        <i> <a href=\"https://anyantudre.medium.com/structures-condionnelles-en-python-variables-bool%C3%A9ennes-op%C3%A9rateurs-logiques-et-conditions-if-9f6872188b8a#e872\" target=\"_blank\">Image Credits — RealPython</a></i>\n",
    "    </figcaption>\n",
    "</figure>\n",
    "\n",
    "Le Booléen tire son nom du mathématicien anglais George Boole dont vous aurez probablement entendu parlé. En effet, il est à l’origine de cette branche de l’algèbre, connue aujourd’hui sous le nom d’algèbre booléenne (ou algèbre de Boole), dans laquelle la valeur de VRAI est 1 et la valeur de FAUX est 0.\n",
    "\n",
    "Dans l’algèbre booléenne, il existe trois principaux opérateurs logiques: AND, OR et NOT (en francais ET, OU et NON) dont nous verrons plus en détail dans la section suivante. Notons que cette branche a jeté les bases de l’ère l’informatique et de l’électronique puisque tous les ordinateurs fonctionnent selon les principes de base de l’algèbre booléenne, où 1 est aussi synonyme de “est activé” et 0 “est désactivé”.\n",
    "\n",
    "C’est pourquoi de nombreux langages de programmation incluent ce type de donnée ainsi que ses opérateurs, et of course le langage Python n’échappe pas à la règle.\n",
    "\n",
    "En effet, Python possède un type de variable appelé **bool** qui peut prendre deux valeurs possibles : True et False.\n"
   ]
  },
  {
   "cell_type": "code",
   "execution_count": 1,
   "metadata": {},
   "outputs": [
    {
     "name": "stdout",
     "output_type": "stream",
     "text": [
      "True\n",
      "<class 'bool'>\n"
     ]
    }
   ],
   "source": [
    "x = True\n",
    "print(x)\n",
    "print(type(x))"
   ]
  },
  {
   "cell_type": "markdown",
   "metadata": {},
   "source": [
    "Plutôt que d’insérer directement True ou False dans notre code, nous obtenons généralement des valeurs booléennes à l’aide d’opérateurs booléens. Il s’agit d’opérateurs qui répondent à des questions fermées c-à-d de type oui/non. Nous allons voir quelques-uns de ces opérateurs ci-dessous."
   ]
  },
  {
   "cell_type": "markdown",
   "metadata": {},
   "source": [
    "<div id=\"section2\"></div>\n",
    "\n",
    "<a href=\"#toc\" style=\"background-color: #E1B12D; color: #ffffff; padding: 7px 15px; text-decoration: none; border-radius: 50px;\">Retour en haut</a><a id=\"toc\"></a>\n",
    "\n",
    "<h2 style=\"color: #3498DB; font-family: 'Segoe UI', Arial, sans-serif; font-size: 1.8em; border-bottom: 2px solid #3498DB; padding-bottom: 5px; margin-top: 40px;\">\n",
    "    II. Les Opérateurs de Comparaison\n",
    "</h2>\n",
    "\n",
    "<figure style=\"padding: 1em; text-align: center;\">\n",
    "    <img src=\"https://miro.medium.com/v2/resize:fit:1100/format:webp/0*v73m7GNsVN8nvQBd\" width=\"600\" height=\"400\" alt=\"Logo Python\">\n",
    "    <figcaption style=\"font-size: 0.9em; color: #3498db; margin-top: 0.5em;\">\n",
    "        <i> <a href=\"https://anyantudre.medium.com/structures-condionnelles-en-python-variables-bool%C3%A9ennes-op%C3%A9rateurs-logiques-et-conditions-if-9f6872188b8a#e872\" target=\"_blank\">Image Credits — RealPython</a></i>\n",
    "    </figcaption>\n",
    "</figure>\n",
    "\n",
    "En Python, les opérateurs de comparaison, encore appelés opérateurs relationnels sont utilisés pour comparer deux valeurs (opérandes) oubien le contenu de deux variables. Il en existe six (06) à ma connaissance, que sont : ==, != , >, >=, <, <=.\n",
    "\n",
    "Ces opérateurs comparent les valeurs de part et d’autres du symbole de comparaison et renvoient True ou False en fonction de la condition.\n",
    "\n",
    "- L’opérateur “égal à” noté “= =”: cet opérateur vérifie si la valeur à gauche est exactement égale à celle de droite. S’il s’avère que les deux valeurs sont égales, il renvoie True, sinon il renvoie False.\n",
    "\n",
    "\n",
    "Exemple 1:"
   ]
  },
  {
   "cell_type": "code",
   "execution_count": 2,
   "metadata": {},
   "outputs": [
    {
     "name": "stdout",
     "output_type": "stream",
     "text": [
      "False\n"
     ]
    }
   ],
   "source": [
    "x = 2021\n",
    "y = 2024\n",
    "print(x == y)\n",
    "# renvoie 'False' car 2021 n'est pas égal à 2024"
   ]
  },
  {
   "cell_type": "markdown",
   "metadata": {},
   "source": [
    "Exemple 2:"
   ]
  },
  {
   "cell_type": "code",
   "execution_count": 3,
   "metadata": {},
   "outputs": [
    {
     "name": "stdout",
     "output_type": "stream",
     "text": [
      "True\n"
     ]
    }
   ],
   "source": [
    "x = 2021\n",
    "y = 2024\n",
    "print(x != y)\n",
    "# renvoie 'True' car 2021 n'est pas égal à 2024"
   ]
  },
  {
   "cell_type": "markdown",
   "metadata": {},
   "source": [
    "Exemple 3:"
   ]
  },
  {
   "cell_type": "code",
   "execution_count": 4,
   "metadata": {},
   "outputs": [
    {
     "name": "stdout",
     "output_type": "stream",
     "text": [
      "False\n"
     ]
    }
   ],
   "source": [
    "x = 2021\n",
    "y = 2024\n",
    "print(x > y)\n",
    "# renvoie 'False' car 2021 n'est pas supérieur à 2024"
   ]
  },
  {
   "cell_type": "markdown",
   "metadata": {},
   "source": [
    "L’opérateur “supérieur ou égale à” noté “>=”: qui est tout simplement une combinaison des opérateurs “==” et “>”. Il renvoie donc True lorsque la valeur de gauche est supérieure à celle de droite oubien quand les deux valeurs sont égales.\n",
    "\n",
    "Exemple 4:"
   ]
  },
  {
   "cell_type": "code",
   "execution_count": 5,
   "metadata": {},
   "outputs": [
    {
     "name": "stdout",
     "output_type": "stream",
     "text": [
      "True\n"
     ]
    }
   ],
   "source": [
    "x = 2024\n",
    "y = 2024\n",
    "print(x >= y)\n",
    "# renvoie 'True' car 2024 est supérieur ou égal à 2024"
   ]
  },
  {
   "cell_type": "markdown",
   "metadata": {},
   "source": [
    "- L’opérateur “inférieur à” noté “<”: vérifie si la valeur de gauche est plus petite que celle de droite et renvoie True ssi cette condition est respectée.\n",
    "\n",
    "Exemple 5:"
   ]
  },
  {
   "cell_type": "code",
   "execution_count": 6,
   "metadata": {},
   "outputs": [
    {
     "name": "stdout",
     "output_type": "stream",
     "text": [
      "True\n"
     ]
    }
   ],
   "source": [
    "x = 2021\n",
    "y = 2024\n",
    "print(x < y)\n",
    "# renvoie 'True' car 2021 est inférieur à 2024"
   ]
  },
  {
   "cell_type": "markdown",
   "metadata": {},
   "source": [
    "- L’opérateur “inférieur ou égale à” noté “<=”: de meme cet opérateur combine les deux opérateurs “==” et “<”. Il renvoie donc True lorsque la valeur de gauche est inférieure à celle de droite oubien quand les deux valeurs sont égales.\n",
    "\n",
    "Exemple 6:"
   ]
  },
  {
   "cell_type": "code",
   "execution_count": 7,
   "metadata": {},
   "outputs": [
    {
     "name": "stdout",
     "output_type": "stream",
     "text": [
      "False\n"
     ]
    }
   ],
   "source": [
    "x = 2024\n",
    "y = 2021\n",
    "print(x <= y)\n",
    "# renvoie 'False' car 2024 n'est ni inférieur, ni égal à 2021"
   ]
  },
  {
   "cell_type": "markdown",
   "metadata": {},
   "source": [
    "Remarques :\n",
    "\n",
    "- Les comparaisons fonctionnent généralement comme on l’espère, mais ils peuvent parfois être difficiles à gérer:"
   ]
  },
  {
   "cell_type": "code",
   "execution_count": 8,
   "metadata": {},
   "outputs": [
    {
     "data": {
      "text/plain": [
       "True"
      ]
     },
     "execution_count": 8,
     "metadata": {},
     "output_type": "execute_result"
    }
   ],
   "source": [
    "3.0 == 3\n",
    "# renvoie Vrai"
   ]
  },
  {
   "cell_type": "code",
   "execution_count": 9,
   "metadata": {},
   "outputs": [
    {
     "data": {
      "text/plain": [
       "False"
      ]
     },
     "execution_count": 9,
     "metadata": {},
     "output_type": "execute_result"
    }
   ],
   "source": [
    "'3' == 3\n",
    "# renvoie Faux :)"
   ]
  },
  {
   "cell_type": "markdown",
   "metadata": {},
   "source": [
    "Pourquoi ces deux résultats différents? Bien que la réponse soit évidente, je vous laisse le soin d’y réfléchir.\n",
    "\n",
    "- Les opérateurs de comparaison peuvent être combinés avec les opérateurs arithmétiques que nous avons déjà vus, pour exprimer une gamme pratiquement illimitée de tests mathématiques.\n",
    "\n",
    "\n",
    "Par exemple, nous pouvons vérifier si un nombre est impair en vérifiant que son modulo 2 donne 1 :"
   ]
  },
  {
   "cell_type": "code",
   "execution_count": 10,
   "metadata": {},
   "outputs": [
    {
     "name": "stdout",
     "output_type": "stream",
     "text": [
      "Le nombre 100 est-il pair? True\n",
      "Le nombre 11 est-il pair? False\n"
     ]
    }
   ],
   "source": [
    "# fonction qui vérifie si un nombre est pair ou non. \n",
    "# Rassurez-vous, nous verrons les fonctions plus en details plutard\n",
    "\n",
    "def est_pair(n):\n",
    "    return (n % 2) == 0\n",
    "\n",
    "n = 100\n",
    "print(f\"Le nombre {n} est-il pair?\", est_pair(n))\n",
    "\n",
    "n = 11\n",
    "print(f\"Le nombre {n} est-il pair?\", est_pair(n))"
   ]
  },
  {
   "cell_type": "markdown",
   "metadata": {},
   "source": [
    "- Lorsque vous faites des comparaisons, n’oubliez pas d’utiliser “==” au lieu de “=” qui est l’opérateur d’affectation. Si vous écrivez n == 2, vous vérifiez si le contenu de la variable n est égal à 2. Si vous écrivez n = 2, vous changez la valeur de n à 2."
   ]
  },
  {
   "cell_type": "markdown",
   "metadata": {},
   "source": [
    "D’autres opérateurs à connaitre également sont entre autres:"
   ]
  },
  {
   "cell_type": "markdown",
   "metadata": {},
   "source": [
    "- L’opérateur puissance (**) :"
   ]
  },
  {
   "cell_type": "code",
   "execution_count": 11,
   "metadata": {},
   "outputs": [
    {
     "name": "stdout",
     "output_type": "stream",
     "text": [
      "49\n"
     ]
    }
   ],
   "source": [
    "print(7**2)"
   ]
  },
  {
   "cell_type": "markdown",
   "metadata": {},
   "source": [
    "- Le quotient d’une division entière (//) :"
   ]
  },
  {
   "cell_type": "code",
   "execution_count": 12,
   "metadata": {},
   "outputs": [
    {
     "name": "stdout",
     "output_type": "stream",
     "text": [
      "4\n"
     ]
    }
   ],
   "source": [
    "print(9//2)"
   ]
  },
  {
   "cell_type": "markdown",
   "metadata": {},
   "source": [
    "- Le modulo (%) pour obtenir le reste d’une division entière :"
   ]
  },
  {
   "cell_type": "code",
   "execution_count": 13,
   "metadata": {},
   "outputs": [
    {
     "name": "stdout",
     "output_type": "stream",
     "text": [
      "1\n"
     ]
    }
   ],
   "source": [
    "print(13%2)"
   ]
  },
  {
   "cell_type": "markdown",
   "metadata": {},
   "source": [
    "- L’opérateur d’incrémentation (+=): qui effectue une addition puis affecte le résultat à une même variable (nous verrons un peu plus loin la notion de variables) ;"
   ]
  },
  {
   "cell_type": "code",
   "execution_count": 14,
   "metadata": {},
   "outputs": [
    {
     "name": "stdout",
     "output_type": "stream",
     "text": [
      "9\n"
     ]
    }
   ],
   "source": [
    "ma_variable = 8\n",
    "ma_variable += 1\n",
    "print(ma_variable)"
   ]
  },
  {
   "cell_type": "markdown",
   "metadata": {},
   "source": [
    "Cette opération équivaut à: ma_variable = ma_variable + 1 .\n",
    "\n",
    "<div style=\"display: flex; justify-content: center; gap: 2em;\">\n",
    "    <figure style=\"padding: 1em; text-align: center;\">\n",
    "        <img src=\"https://i.redd.it/ok0fwc782l4b1.png\" width=\"400\" height=\"300\" alt=\"Logo Python\">\n",
    "        <figcaption style=\"font-size: 0.9em; color: #3498db; margin-top: 0.5em;\">\n",
    "            <i>Meme: x = x + 1 - <a href=\"https://www.reddit.com/r/sciencememes/comments/143avwb/xx1/\" target=\"_blank\">Source: Reddit</a></i>\n",
    "        </figcaption>\n",
    "    </figure>\n",
    "    <figure style=\"padding: 1em; text-align: center;\">\n",
    "        <img src=\"https://preview.redd.it/b8kyphs4ygk51.jpg?width=1080&crop=smart&auto=webp&s=4a8c643b7d7aee7ec9c8b6fdc90248af6b5ad37c\" width=\"400\" height=\"300\" alt=\"Logo Python\">\n",
    "        <figcaption style=\"font-size: 0.9em; color: #3498db; margin-top: 0.5em;\">\n",
    "            <i>Meme: x = x + 1 - <a href=\"https://www.reddit.com/r/memes/comments/ike8ko/i_will_do_it/\" target=\"_blank\">Source: Reddit</a></i>\n",
    "        </figcaption>\n",
    "    </figure>\n",
    "</div>\n",
    "\n",
    "\n",
    "\n",
    "\n",
    "\n",
    "Remarque: Les opérateurs -=, *= et /= fonctionnent semblablement à l’opérateur d’incrémentation.\n",
    "\n",
    "Nous pouvons effectuer plusieurs opérations simultanément avec python mais en faisant attention à la priorité des opérateurs. Eh oui, tout comme en maths, il y a des priorités entre les opérations et les règles de priorités sont assez similaires. En général, python suit la règle PEMDAS, pour décider de l’ordre des opérateurs."
   ]
  },
  {
   "cell_type": "code",
   "execution_count": 15,
   "metadata": {},
   "outputs": [
    {
     "name": "stdout",
     "output_type": "stream",
     "text": [
      "2.0\n"
     ]
    }
   ],
   "source": [
    "print(6-4*2+8/2)"
   ]
  },
  {
   "cell_type": "markdown",
   "metadata": {},
   "source": [
    "Cependant nous pouvons toujours contrôler l’ordre des opérations dans nos calculs en utilisant les parenthèses ()."
   ]
  },
  {
   "cell_type": "code",
   "execution_count": 16,
   "metadata": {},
   "outputs": [
    {
     "name": "stdout",
     "output_type": "stream",
     "text": [
      "10.0\n"
     ]
    }
   ],
   "source": [
    "print((6-4)*(2+8)/2)"
   ]
  },
  {
   "cell_type": "markdown",
   "metadata": {},
   "source": [
    "<div id=\"section3\"></div>\n",
    "\n",
    "<a href=\"#toc\" style=\"background-color: #E1B12D; color: #ffffff; padding: 7px 15px; text-decoration: none; border-radius: 50px;\">Retour en haut</a><a id=\"toc\"></a>\n",
    "\n",
    "<h2 style=\"color: #3498DB; font-family: 'Segoe UI', Arial, sans-serif; font-size: 1.8em; border-bottom: 2px solid #3498DB; padding-bottom: 5px; margin-top: 40px;\">\n",
    "   III. Les Opérateurs Logiques: NOT, AND, OR.\n",
    "</h2>\n",
    "\n",
    "<figure style=\"padding: 1em; text-align: center;\">\n",
    "    <img src=\"https://miro.medium.com/v2/resize:fit:1100/format:webp/1*RoKYEAPF_1NlkVoc9JP6oQ.png\" width=\"400\" height=\"200\" alt=\"Logo Python\">\n",
    "    <figcaption style=\"font-size: 0.9em; color: #3498db; margin-top: 0.5em;\">\n",
    "        <i>Image Credits — AskPython</i>\n",
    "    </figcaption>\n",
    "</figure>\n",
    "\n",
    "En Python, il s’agit de mots-clés spéciaux réservés qui permettent d’effectuer certains calculs logiques comme dans l’algèbre de Boole et ne renvoient donc que des Booléens. Il est essentiel de maitriser les 3 que nous verrons car ils sont très couramment utilisés pour combiner des instructions conditionnelles.\n",
    "\n",
    "- L’opérateur “NOT” ou “NON logique”: L’opérateur logique NOT fonctionne avec une seule valeur booléenne et renvoie la valeur True ssi la valeur booléenne est False et vice-versa (c’est-à-dire l’opposé). Il s’agit d’un opérateur unaire, ce qui signifie que pour renvoyer une valeur, une seule opérande est nécessaire.\n",
    "\n",
    "Exemple 1:"
   ]
  },
  {
   "cell_type": "code",
   "execution_count": 17,
   "metadata": {},
   "outputs": [
    {
     "name": "stdout",
     "output_type": "stream",
     "text": [
      "Verifier que n n'est pas divisible par 5.\n",
      " Résultat:  True\n"
     ]
    }
   ],
   "source": [
    "n = 2024\n",
    "print(\"Verifier que n n'est pas divisible par 5.\\n Résultat: \", not n%5 == 0) \n"
   ]
  },
  {
   "cell_type": "markdown",
   "metadata": {},
   "source": [
    "- L’opérateur “AND” ou “ET logique”: il ne renvoie la valeur True que ssi les deux opérandes sont vraies, sinon il renvoie la valeur False. Il s’agit d’un opérateur binaire, ce qui signifie que pour renvoyer une valeur, il doit être utilisé entre deux opérandes."
   ]
  },
  {
   "cell_type": "code",
   "execution_count": 18,
   "metadata": {},
   "outputs": [
    {
     "data": {
      "text/plain": [
       "' Mon\\n          commentaire sur\\n                            plusieurs lignes '"
      ]
     },
     "execution_count": 18,
     "metadata": {},
     "output_type": "execute_result"
    }
   ],
   "source": [
    "\"\"\" Mon\n",
    "          commentaire sur\n",
    "                            plusieurs lignes \"\"\""
   ]
  },
  {
   "cell_type": "markdown",
   "metadata": {},
   "source": [
    "Exemple 2:"
   ]
  },
  {
   "cell_type": "code",
   "execution_count": 19,
   "metadata": {},
   "outputs": [
    {
     "name": "stdout",
     "output_type": "stream",
     "text": [
      "True\n",
      "False\n"
     ]
    }
   ],
   "source": [
    "print(True and True)\n",
    "print(True and False)"
   ]
  },
  {
   "cell_type": "code",
   "execution_count": 20,
   "metadata": {},
   "outputs": [
    {
     "name": "stdout",
     "output_type": "stream",
     "text": [
      "Verifier si a et b sont tous deux positifs: True\n",
      "Verifier si a est plus petit que b et c:  False\n",
      "Verifier si c est le maximum des trois:  False\n",
      "Verifier si a et b et c sont tous positifs: False\n"
     ]
    }
   ],
   "source": [
    "a = 18\n",
    "b = 226\n",
    "c = -5\n",
    "\n",
    "print(\"Verifier si a et b sont tous deux positifs:\", a > 0 and b > 0)\n",
    "print(\"Verifier si a est plus petit que b et c: \", a < b and a < c) \n",
    "print(\"Verifier si c est le maximum des trois: \", c > a and c > b)\n",
    "print(\"Verifier si a et b et c sont tous positifs:\", a > 0 and b > 0 and c > 0)\n"
   ]
  },
  {
   "cell_type": "markdown",
   "metadata": {},
   "source": [
    "L’opérateur “OR” ou “OU logique”: il ne renvoie la valeur False que si les deux opérandes sont fausses, sinon il renvoie la valeur True. Il s’agit également d’un opérateur binaire.\n",
    "\n",
    "Exemple 3:"
   ]
  },
  {
   "cell_type": "code",
   "execution_count": 21,
   "metadata": {},
   "outputs": [
    {
     "name": "stdout",
     "output_type": "stream",
     "text": [
      "202.4\n"
     ]
    }
   ],
   "source": [
    "# print(2024/12)\n",
    "\"\"\" La ligne suivante affiche le résultat de la division euclidienne \n",
    "de 2024 par 10 \"\"\"\n",
    "print(2024/10)"
   ]
  },
  {
   "cell_type": "code",
   "execution_count": 22,
   "metadata": {},
   "outputs": [
    {
     "name": "stdout",
     "output_type": "stream",
     "text": [
      "True\n",
      "True\n"
     ]
    }
   ],
   "source": [
    "print(True or True)\n",
    "print(True or False)"
   ]
  },
  {
   "cell_type": "code",
   "execution_count": 23,
   "metadata": {},
   "outputs": [],
   "source": [
    "a = 100\n",
    "b = -3"
   ]
  },
  {
   "cell_type": "markdown",
   "metadata": {},
   "source": [
    "Remarques:\n",
    "\n",
    "- Si la première expression évaluée est fausse lors de l’utilisation de l’opérateur AND, les expressions suivantes ne sont pas évaluées. En outre, toute chaîne de caractères est toujours considérée comme une affirmation vraie.\n",
    "- Dans l’opérateur logique OR, même si la première expression évaluée est fausse lors de l’utilisation de l’opérateur AND, les expressions suivantes sont également évaluées.\n",
    "- Ces opérateurs possèdent des tables de vérité qui sont assez intuitifs donc je n’en ferai pas mention ici. Mais libre vous, particulièrement ceux qui n’auront pas encore fait l’électronique numérique de faire une petite recherche rapide ou de nous le demander si quelque chose n’est pas clair.\n",
    "- Toute chaîne de caractères est toujours considérée comme une affirmation vraie.\n",
    "- Petite devinette, quelle sera la valeur de cette expression ? Et pourquoi?"
   ]
  },
  {
   "cell_type": "code",
   "execution_count": 24,
   "metadata": {},
   "outputs": [
    {
     "data": {
      "text/plain": [
       "True"
      ]
     },
     "execution_count": 24,
     "metadata": {},
     "output_type": "execute_result"
    }
   ],
   "source": [
    "True or True and False"
   ]
  },
  {
   "cell_type": "markdown",
   "metadata": {},
   "source": [
    "Réponse: Bah réflechissez encore un peu :)\n",
    "\n",
    "En théorie AND est évaluée avant OR. Donc on aura True en sortie. Vous pouvez essayer de mémoriser l’ordre de priorité des opérateurs, mais il est plus sûr d’utiliser des parenthèses comme les calculs en Maths. Non seulement cela permet d’éviter les erreurs, mais cela rend vos intentions plus claires pour quiconque lit votre code."
   ]
  },
  {
   "cell_type": "markdown",
   "metadata": {},
   "source": [
    "<div id=\"section4\"></div>\n",
    "\n",
    "<a href=\"#toc\" style=\"background-color: #E1B12D; color: #ffffff; padding: 7px 15px; text-decoration: none; border-radius: 50px;\">Retour en haut</a><a id=\"toc\"></a>\n",
    "\n",
    "<h2 style=\"color: #3498DB; font-family: 'Segoe UI', Arial, sans-serif; font-size: 1.8em; border-bottom: 2px solid #3498DB; padding-bottom: 5px; margin-top: 40px;\">\n",
    "    IV. Les Conditions en Python\n",
    "</h2>\n",
    "Enfin nous y sommes. Les instructions if-else en Python font partie des instructions conditionnelles, qui décident du contrôle du code. Comme le nom if-else l’indique, le code a deux directions.\n",
    "\n",
    "Dans certaines situations de la vie réelle, nous devons prendre des décisions et, sur la base de ces décisions, nous décidons de ce que nous devons faire ensuite. Des situations similaires se produisent également en programmation, où nous devons prendre des décisions et, sur la base de ces décisions, nous exécuterons le bloc de code suivant.\n",
    "\n",
    "<figure style=\"padding: 1em; text-align: center;\">\n",
    "    <img src=\"https://miro.medium.com/v2/resize:fit:1100/format:webp/0*HwylDhADg9P0RWJz.jpg\" width=\"600\" height=\"400\" alt=\"Classement des langages de programmation\">\n",
    "    <figcaption style=\"font-size: 0.9em; color:rgb(71, 129, 255); margin-top: 0.5em;\">\n",
    "        <i>Conditions <a href=\"https://anyantudre.medium.com/structures-condionnelles-en-python-variables-bool%C3%A9ennes-op%C3%A9rateurs-logiques-et-conditions-if-9f6872188b8a#e872\" target=\"_blank\">Image Credits — RealPython</a></i>\n",
    "    </figcaption>\n",
    "</figure>\n",
    "\n",
    "Les instructions conditionnelles dans les langages Python décident de la direction ou du flux d’exécution du programme. En Python, les structures conditionnelles les plus courantes sont if, if-else, et if-elif-else.\n",
    "\n",
    "<h3 style=\"color:rgb(242, 255, 0); font-family: 'Segoe UI', Arial, sans-serif; font-size: 1.6em; padding-bottom: 5px; margin-top: 40px;\">\n",
    "    a structure “if”\n",
    "</h3>\n",
    "c’est l’instruction décisionnelle la plus simple. Elle est utilisée pour décider si une certaine instruction ou un bloc d’instructions sera exécuté ou non.\n",
    "\n",
    "Syntaxe:"
   ]
  },
  {
   "cell_type": "code",
   "execution_count": 26,
   "metadata": {},
   "outputs": [],
   "source": [
    "# if condition:\n",
    "#     # Bloc de code à exécuter si la condition est vraie\n",
    "#     # Nous ne sommes plus dans l'indentation donc ce bloc sera \n",
    "#     # normalement exécuté quelque soit la condition"
   ]
  },
  {
   "cell_type": "markdown",
   "metadata": {},
   "source": [
    "Ici, la condition après évaluation sera soit True, soit False. Si la valeur est True, elle exécutera le bloc d’instructions en dessous d’elle, sinon elle ne le fera pas.\n",
    "\n",
    "Exemple 1:"
   ]
  },
  {
   "cell_type": "code",
   "execution_count": 27,
   "metadata": {},
   "outputs": [
    {
     "name": "stdout",
     "output_type": "stream",
     "text": [
      "Vous êtes majeur.\n",
      "Nous avons quitté le bloc de if\n"
     ]
    }
   ],
   "source": [
    "age = 20\n",
    "\n",
    "if age >= 18:\n",
    "    print(\"Vous êtes majeur.\")\n",
    "print(\"Nous avons quitté le bloc de if\")"
   ]
  },
  {
   "cell_type": "markdown",
   "metadata": {},
   "source": [
    "<h3 style=\"color:rgb(242, 255, 0); font-family: 'Segoe UI', Arial, sans-serif; font-size: 1.6em; padding-bottom: 5px; margin-top: 40px;\">\n",
    "    La structure “if-else”\n",
    "</h3>\n",
    "L’instruction if seule nous dit que si une condition est vraie, elle exécutera un bloc d’instructions et que si la condition est fausse, elle ne l’exécutera pas. Mais si nous voulons faire quelque chose d’autre si la condition est fausse, nous pouvons utiliser l’instruction else juste après l’instruction if pour exécuter un bloc de code lorsque la condition if est fausse.\n",
    "\n",
    "Syntaxe:"
   ]
  },
  {
   "cell_type": "code",
   "execution_count": 28,
   "metadata": {},
   "outputs": [
    {
     "ename": "IndentationError",
     "evalue": "expected an indented block after 'if' statement on line 1 (1775441613.py, line 3)",
     "output_type": "error",
     "traceback": [
      "  \u001b[36mCell\u001b[39m\u001b[36m \u001b[39m\u001b[32mIn[28]\u001b[39m\u001b[32m, line 3\u001b[39m\n\u001b[31m    \u001b[39m\u001b[31melse:\u001b[39m\n    ^\n\u001b[31mIndentationError\u001b[39m\u001b[31m:\u001b[39m expected an indented block after 'if' statement on line 1\n"
     ]
    }
   ],
   "source": [
    "if condition:\n",
    "    # Bloc de code à exécuter si la condition est vraie\n",
    "else:\n",
    "    # Bloc de code à exécuter si la condition est fausse"
   ]
  },
  {
   "cell_type": "markdown",
   "metadata": {},
   "source": [
    "Exemple 2:"
   ]
  },
  {
   "cell_type": "code",
   "execution_count": 29,
   "metadata": {},
   "outputs": [
    {
     "name": "stdout",
     "output_type": "stream",
     "text": [
      "Vous êtes mineur.\n"
     ]
    }
   ],
   "source": [
    "age = 17\n",
    "\n",
    "if age >= 18:\n",
    "    print(\"Vous êtes majeur.\")\n",
    "else:\n",
    "    print(\"Vous êtes mineur.\")"
   ]
  },
  {
   "cell_type": "markdown",
   "metadata": {},
   "source": [
    "<h3 style=\"color:rgb(242, 255, 0); font-family: 'Segoe UI', Arial, sans-serif; font-size: 1.6em; padding-bottom: 5px; margin-top: 40px;\">\n",
    "    La structure “if-elif-else”\n",
    "</h3>\n",
    "Ici, l’utilisateur peut choisir entre plusieurs options. Les instructions if sont exécutées du haut vers le bas. Dès que l’une des conditions contrôlant l’instruction if est vraie, l’instruction associée à cette instruction if est exécutée et le reste de l’échelle est contourné. Si aucune des conditions n’est vraie, l’instruction “else” finale est exécutée.\n",
    "\n",
    "Exemple 3:"
   ]
  },
  {
   "cell_type": "code",
   "execution_count": 30,
   "metadata": {},
   "outputs": [
    {
     "name": "stdout",
     "output_type": "stream",
     "text": [
      "Très bien\n"
     ]
    }
   ],
   "source": [
    "note = 17\n",
    "\n",
    "if note >= 18 and note <= 20:\n",
    "    print(\"Excellent\")\n",
    "elif note >= 16 and note < 18:\n",
    "    print(\"Très bien\")\n",
    "elif note >= 14 and note < 16:\n",
    "    print(\"Bien\")\n",
    "elif note >= 12 and note < 14:\n",
    "    print(\"Assez bien\")\n",
    "elif note >= 10 and note < 12:\n",
    "    print(\"Passable\")\n",
    "else:\n",
    "    print(\"Mon ami(e), vous n'avez pas bossé vos lessons :) \")"
   ]
  },
  {
   "cell_type": "markdown",
   "metadata": {},
   "source": [
    "<h3 style=\"color:rgb(242, 255, 0); font-family: 'Segoe UI', Arial, sans-serif; font-size: 1.6em; padding-bottom: 5px; margin-top: 40px;\">\n",
    "    La structure if imbriquée\n",
    "</h3>\n",
    "Il est possible d’imbriquer des structures if les unes dans les autres pour effectuer des tests plus complexes.\n",
    "\n",
    "Exemple 4 :"
   ]
  },
  {
   "cell_type": "code",
   "execution_count": 31,
   "metadata": {},
   "outputs": [
    {
     "name": "stdout",
     "output_type": "stream",
     "text": [
      "x est un nombre positif impair.\n"
     ]
    }
   ],
   "source": [
    "x = 2021\n",
    "\n",
    "if x > 0:\n",
    "    if x % 2 == 0:\n",
    "        print(\"x est un nombre positif pair.\")\n",
    "    else:\n",
    "        print(\"x est un nombre positif impair.\")\n",
    "else:\n",
    "    print(\"x est un nombre négatif ou nul.\")"
   ]
  },
  {
   "cell_type": "markdown",
   "metadata": {},
   "source": [
    "Le diagramme ci-dessous résume parfaitement le fonctionnement de ces différentes structures conditionnelles:\n",
    "\n",
    "<figure style=\"padding: 1em; text-align: center;\">\n",
    "    <img src=\"https://miro.medium.com/v2/resize:fit:1100/format:webp/0*BhWga1kKyQBm6i0R.png\" width=\"600\" height=\"400\" alt=\"Classement des langages de programmation\">\n",
    "    <figcaption style=\"font-size: 0.9em; color:rgb(71, 129, 255); margin-top: 0.5em;\">\n",
    "        <i>Conditions <a href=\"https://anyantudre.medium.com/structures-condionnelles-en-python-variables-bool%C3%A9ennes-op%C3%A9rateurs-logiques-et-conditions-if-9f6872188b8a#e872\" target=\"_blank\">Image Credits — Scientech Easy</a></i>\n",
    "    </figcaption>\n",
    "</figure>"
   ]
  },
  {
   "cell_type": "markdown",
   "metadata": {},
   "source": [
    "<h3 style=\"color:rgb(242, 255, 0); font-family: 'Segoe UI', Arial, sans-serif; font-size: 1.6em; padding-bottom: 5px; margin-top: 40px;\">\n",
    "    3. Manipulation des variables:\n",
    "</h3>\n",
    "\n",
    "Nous pouvons changer la valeur d’une variable en écrasant l’ancienne valeur de la variable."
   ]
  },
  {
   "cell_type": "code",
   "execution_count": 32,
   "metadata": {},
   "outputs": [
    {
     "name": "stdout",
     "output_type": "stream",
     "text": [
      "9\n"
     ]
    }
   ],
   "source": [
    "ma_variable1 = 17\n",
    "ma_variable2 = 92\n",
    "print(ma_variable)"
   ]
  },
  {
   "cell_type": "markdown",
   "metadata": {},
   "source": [
    "On peut définir plusieurs variables simultanément et effectuer les opérations arithmétiques déjà vues pour faire des calculs."
   ]
  },
  {
   "cell_type": "code",
   "execution_count": 33,
   "metadata": {},
   "outputs": [
    {
     "name": "stdout",
     "output_type": "stream",
     "text": [
      "33.0\n"
     ]
    }
   ],
   "source": [
    "# création de variables\n",
    "x = 55\n",
    "y = 34\n",
    "z = 10\n",
    "\n",
    "# calcul de la moyenne des trois variables x, y et z\n",
    "moyenne = (x+y+z)/3\n",
    "print(moyenne)"
   ]
  },
  {
   "cell_type": "markdown",
   "metadata": {},
   "source": [
    "En résumé, les variables booléennes et les structures conditionnelles sont des éléments essentiels de la programmation en Python. En comprenant et en maîtrisant ces concepts, vous pourrez désormais écrire des programmes plus clairs, plus concis et plus robustes. J’espère que cet article vous a fourni une compréhension plus approfondie de ces concepts. N’hésitez pas à pratiquer ces concepts sur votre machine pour renforcer votre compréhension. Deux remarques pour terminer:\n",
    "\n",
    "- Ne pas oublier que Python est sensible à la casse: par exemple si vous utilisez true ou TRUE à la place de True, le programme vous renverra des erreurs.\n",
    "- Respectez toujours l’indentation (avec la touche tabulation — tab — ou en mettant 4 espaces) après un if ou un else.\n",
    "\n",
    "Prochainement nous verrons les structures itératives. Happy coding!"
   ]
  },
  {
   "cell_type": "markdown",
   "metadata": {},
   "source": [
    "<div id=\"section6\"></div>\n",
    "\n",
    "<a href=\"#toc\" style=\"background-color: #E1B12D; color: #ffffff; padding: 7px 15px; text-decoration: none; border-radius: 50px;\">Retour en haut</a><a id=\"toc\"></a>\n",
    "\n",
    "<h2 style=\"color: #3498DB; font-family: 'Segoe UI', Arial, sans-serif; font-size: 1.8em; border-bottom: 2px solid #3498DB; padding-bottom: 5px; margin-top: 40px;\">\n",
    "    VI. 📚 Ressources complémentaires\n",
    "</h2>\n"
   ]
  },
  {
   "cell_type": "markdown",
   "metadata": {},
   "source": []
  }
 ],
 "metadata": {
  "kernelspec": {
   "display_name": "base",
   "language": "python",
   "name": "python3"
  },
  "language_info": {
   "codemirror_mode": {
    "name": "ipython",
    "version": 3
   },
   "file_extension": ".py",
   "mimetype": "text/x-python",
   "name": "python",
   "nbconvert_exporter": "python",
   "pygments_lexer": "ipython3",
   "version": "3.12.9"
  }
 },
 "nbformat": 4,
 "nbformat_minor": 2
}
